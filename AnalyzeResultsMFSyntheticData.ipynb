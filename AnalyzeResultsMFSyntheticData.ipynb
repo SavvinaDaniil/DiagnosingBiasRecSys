{
 "cells": [
  {
   "cell_type": "markdown",
   "id": "2d8ec23c-161c-4aa9-9a16-1bdb42ef18ec",
   "metadata": {},
   "source": [
    "# Libraries"
   ]
  },
  {
   "cell_type": "code",
   "execution_count": null,
   "id": "ecd4c15b-afb9-413f-9929-97022d39082a",
   "metadata": {},
   "outputs": [],
   "source": [
    "import pickle as pkl\n",
    "import pandas as pd"
   ]
  },
  {
   "cell_type": "code",
   "execution_count": null,
   "id": "99f11284",
   "metadata": {},
   "outputs": [],
   "source": [
    "algo_name = 'MF'\n",
    "data_strategies = ['uniformly_random',\n",
    "                   'popularity_good',\n",
    "                   'popularity_bad',\n",
    "                   'popularity_good_for_bp_ur',\n",
    "                   'popularity_bad_for_bp_ur']"
   ]
  },
  {
   "cell_type": "markdown",
   "id": "fa4db185-77ff-4bc1-875d-320a34a7f297",
   "metadata": {},
   "source": [
    "# Analysis"
   ]
  },
  {
   "cell_type": "markdown",
   "id": "17ccf696",
   "metadata": {},
   "source": [
    "## LKPY"
   ]
  },
  {
   "cell_type": "code",
   "execution_count": null,
   "id": "933482bc-9819-4cbb-89af-c4d2e20f8168",
   "metadata": {},
   "outputs": [],
   "source": [
    "algo_versions = {\"UserKNN\":[{'center':True, 'min_sim':0},\n",
    "                            {'center':False, 'min_sim':0},\n",
    "                            {'center':True, 'min_sim':-1}],\n",
    "                \"MF\":[{\"bias\":True},\n",
    "                       {\"bias\":False}],\n",
    "                \"FunkSVD\":[{\"bias\":True},\n",
    "                       {\"bias\":False}]}"
   ]
  },
  {
   "cell_type": "code",
   "execution_count": null,
   "id": "e360abdc-a2e7-4cf8-956e-d1433d3e79ce",
   "metadata": {},
   "outputs": [],
   "source": [
    "versions = algo_versions[algo_name]"
   ]
  },
  {
   "cell_type": "code",
   "execution_count": null,
   "id": "5297ef9c-0124-4bb0-9447-27097486fc71",
   "metadata": {},
   "outputs": [],
   "source": [
    "file_location = 'experimental_results/'+algo_name+'/'"
   ]
  },
  {
   "cell_type": "code",
   "execution_count": null,
   "id": "11194e69-1514-438f-a189-b455cc08487c",
   "metadata": {},
   "outputs": [],
   "source": [
    "results = []\n",
    "for data_strategy in data_strategies:\n",
    "    for args in versions:\n",
    "        file = open(file_location+data_strategy+'_'+str(args)+'.pkl','rb')\n",
    "        result = pkl.load(file)\n",
    "        results.append(result)"
   ]
  },
  {
   "cell_type": "code",
   "execution_count": null,
   "id": "303397f7-f756-49ba-b33b-245e35f853a3",
   "metadata": {},
   "outputs": [],
   "source": [
    "stringed_versions = [str(args) for args in versions]"
   ]
  },
  {
   "cell_type": "code",
   "execution_count": null,
   "id": "c76e15f8-d565-4c63-9456-3e9854daec28",
   "metadata": {},
   "outputs": [],
   "source": [
    "# Initialize empty lists for the two halves\n",
    "bias = []\n",
    "\n",
    "# Split the strings and populate the lists\n",
    "for s in stringed_versions:\n",
    "    parts = s.split(': ')\n",
    "        \n",
    "    bias.append(parts[-1].split('}')[0])"
   ]
  },
  {
   "cell_type": "code",
   "execution_count": null,
   "id": "f2aef42b-98f2-444e-a7db-5006acaa185a",
   "metadata": {},
   "outputs": [],
   "source": [
    "library = [\"Lenskit\"]"
   ]
  },
  {
   "cell_type": "code",
   "execution_count": null,
   "id": "e9a05e3c-d61f-4727-86ea-206d4264d456",
   "metadata": {},
   "outputs": [],
   "source": [
    "index = pd.MultiIndex.from_product([data_strategies, bias, library], names=['DataStrategy', 'Bias','Library']).drop_duplicates()"
   ]
  },
  {
   "cell_type": "code",
   "execution_count": null,
   "id": "7153ea30-78e3-4988-b34e-12e47d9ebe18",
   "metadata": {},
   "outputs": [],
   "source": [
    "results_lkpy = pd.DataFrame(results, index=index)"
   ]
  },
  {
   "cell_type": "markdown",
   "id": "bfdb321b-2de2-447a-b71b-e4dd2ce8c69d",
   "metadata": {},
   "source": [
    "## Cornac"
   ]
  },
  {
   "cell_type": "code",
   "execution_count": null,
   "id": "861e8dca-88e5-40ba-a257-5b93e3ecd181",
   "metadata": {},
   "outputs": [],
   "source": [
    "algo_versions = {\"CornacMF\":[{\"bias\":True},\n",
    "                       {\"bias\":False}]}\n",
    "algo_name = 'CornacMF'"
   ]
  },
  {
   "cell_type": "code",
   "execution_count": null,
   "id": "9082f657-c646-4e5f-94ac-e3962c1c9853",
   "metadata": {},
   "outputs": [],
   "source": [
    "versions = algo_versions[algo_name]"
   ]
  },
  {
   "cell_type": "code",
   "execution_count": null,
   "id": "dfbaec2a-61c7-449e-879b-ca22c29da26f",
   "metadata": {},
   "outputs": [],
   "source": [
    "file_location = 'experimental_results/'+algo_name+'/'"
   ]
  },
  {
   "cell_type": "code",
   "execution_count": null,
   "id": "b503907e-b2ae-4ca7-b704-5d700e174d4e",
   "metadata": {},
   "outputs": [],
   "source": [
    "results = []\n",
    "for data_strategy in data_strategies:\n",
    "    for args in versions:\n",
    "        file = open(file_location+data_strategy+'_'+str(args)+'.pkl','rb')\n",
    "        result = pkl.load(file)\n",
    "        results.append(result)"
   ]
  },
  {
   "cell_type": "code",
   "execution_count": null,
   "id": "8ad79182-8d24-40ff-8b35-12249d87b95a",
   "metadata": {},
   "outputs": [],
   "source": [
    "stringed_versions = [str(args) for args in versions]"
   ]
  },
  {
   "cell_type": "code",
   "execution_count": null,
   "id": "16ef32c2-5f30-45f2-8097-8e758a0a1769",
   "metadata": {},
   "outputs": [],
   "source": [
    "# Initialize empty lists for the two halves\n",
    "bias = []\n",
    "\n",
    "# Split the strings and populate the lists\n",
    "for s in stringed_versions:\n",
    "    parts = s.split(': ')\n",
    "        \n",
    "    bias.append(parts[-1].split('}')[0])"
   ]
  },
  {
   "cell_type": "code",
   "execution_count": null,
   "id": "aafbbd62-f96f-4f72-8208-77db20ced629",
   "metadata": {},
   "outputs": [],
   "source": [
    "library = [\"Cornac\"]"
   ]
  },
  {
   "cell_type": "code",
   "execution_count": null,
   "id": "bfcf87db-915b-44fe-8cc9-9c33692daccf",
   "metadata": {},
   "outputs": [],
   "source": [
    "index = pd.MultiIndex.from_product([data_strategies, bias, library], names=['DataStrategy', 'Bias','Library']).drop_duplicates()"
   ]
  },
  {
   "cell_type": "code",
   "execution_count": null,
   "id": "84b59582-c867-4c85-8f9a-7614bf82cd13",
   "metadata": {},
   "outputs": [],
   "source": [
    "results_cornac = pd.DataFrame(results, index=index)"
   ]
  },
  {
   "cell_type": "markdown",
   "id": "608960aa-33a5-4acd-829e-90669b7b0f3d",
   "metadata": {},
   "source": [
    "# Merge"
   ]
  },
  {
   "cell_type": "code",
   "execution_count": null,
   "id": "1023e32c-65df-48fb-b5f4-1a1d1a9dc323",
   "metadata": {},
   "outputs": [],
   "source": [
    "mf_metrics = pd.concat([results_lkpy, results_cornac]).reset_index().sort_values(['DataStrategy','Library','Bias']).set_index(['DataStrategy','Library','Bias']).reindex(data_strategies, level=0)"
   ]
  },
  {
   "cell_type": "code",
   "execution_count": null,
   "id": "6effb8b5-ee18-4b86-b462-d4896dc41fcc",
   "metadata": {},
   "outputs": [],
   "source": [
    "metrics_order = ['pop_corr','ARP','ave_PL','ACLT','AggDiv','RMSE','NDCG']\n",
    "mf_metrics = mf_metrics[metrics_order]"
   ]
  },
  {
   "cell_type": "code",
   "execution_count": null,
   "id": "84a6e0a5-36e9-47de-9d59-76a84c622e44",
   "metadata": {},
   "outputs": [],
   "source": [
    "mf_metrics = mf_metrics.rename(columns = {'pop_corr':'PopCorr','ave_PL':'PL','ACLT':'APLT','NDCG':'NDCG@10'})"
   ]
  },
  {
   "cell_type": "code",
   "execution_count": null,
   "id": "13fc9cdc-371c-4da3-a865-8d1a33935481",
   "metadata": {},
   "outputs": [],
   "source": [
    "mf_metrics = mf_metrics.rename(index={'uniformly_random':'Scenario 1',\n",
    "                         'popularity_good':'Scenario 2',\n",
    "                         'popularity_bad':'Scenario 3',\n",
    "                         'popularity_good_for_bp_ur':'Scenario 4',\n",
    "                         'popularity_bad_for_bp_ur':'Scenario 5'})"
   ]
  },
  {
   "cell_type": "code",
   "execution_count": null,
   "id": "c5b17ca9-bd9e-4564-98f1-1b53c79054e1",
   "metadata": {},
   "outputs": [],
   "source": [
    "print(mf_metrics.round(3).to_latex())"
   ]
  },
  {
   "cell_type": "code",
   "execution_count": null,
   "id": "1e3874c1-270a-407d-b889-c6c31e7d5d60",
   "metadata": {},
   "outputs": [],
   "source": [
    "import pickle\n",
    "with open('metrics_combined/all_mf.pkl', 'wb') as f:\n",
    "    pickle.dump(mf_metrics.round(3), f)"
   ]
  }
 ],
 "metadata": {
  "kernelspec": {
   "display_name": "Python 3 (ipykernel)",
   "language": "python",
   "name": "python3"
  },
  "language_info": {
   "codemirror_mode": {
    "name": "ipython",
    "version": 3
   },
   "file_extension": ".py",
   "mimetype": "text/x-python",
   "name": "python",
   "nbconvert_exporter": "python",
   "pygments_lexer": "ipython3",
   "version": "3.8.18"
  },
  "vscode": {
   "interpreter": {
    "hash": "1c3278b04384a1f2d1b0bc3e8783905713abb1db8d84b3b69ddff13fab40f022"
   }
  }
 },
 "nbformat": 4,
 "nbformat_minor": 5
}
