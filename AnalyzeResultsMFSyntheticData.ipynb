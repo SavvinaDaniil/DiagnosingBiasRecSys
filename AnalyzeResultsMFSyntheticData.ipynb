{
 "cells": [
  {
   "cell_type": "markdown",
   "id": "2d8ec23c-161c-4aa9-9a16-1bdb42ef18ec",
   "metadata": {},
   "source": [
    "# Libraries"
   ]
  },
  {
   "cell_type": "code",
   "execution_count": 1,
   "id": "ecd4c15b-afb9-413f-9929-97022d39082a",
   "metadata": {},
   "outputs": [],
   "source": [
    "import pickle as pkl\n",
    "import pandas as pd"
   ]
  },
  {
   "cell_type": "code",
   "execution_count": 2,
   "id": "99f11284",
   "metadata": {},
   "outputs": [],
   "source": [
    "algo_name = \"MF\"\n",
    "data_strategies = [\n",
    "    \"uniformly_random\",\n",
    "    \"popularity_good\",\n",
    "    \"popularity_bad\",\n",
    "    \"popularity_good_for_bp_ur\",\n",
    "    \"popularity_bad_for_bp_ur\",\n",
    "]"
   ]
  },
  {
   "cell_type": "markdown",
   "id": "fa4db185-77ff-4bc1-875d-320a34a7f297",
   "metadata": {},
   "source": [
    "# Analysis"
   ]
  },
  {
   "cell_type": "markdown",
   "id": "17ccf696",
   "metadata": {},
   "source": [
    "## LKPY"
   ]
  },
  {
   "cell_type": "code",
   "execution_count": 3,
   "id": "933482bc-9819-4cbb-89af-c4d2e20f8168",
   "metadata": {},
   "outputs": [],
   "source": [
    "algo_versions = {\n",
    "    \"UserKNN\": [\n",
    "        {\"center\": True, \"min_sim\": 0},\n",
    "        {\"center\": False, \"min_sim\": 0},\n",
    "        {\"center\": True, \"min_sim\": -1},\n",
    "    ],\n",
    "    \"MF\": [{\"bias\": True}, {\"bias\": False}],\n",
    "    \"FunkSVD\": [{\"bias\": True}, {\"bias\": False}],\n",
    "}"
   ]
  },
  {
   "cell_type": "code",
   "execution_count": 4,
   "id": "e360abdc-a2e7-4cf8-956e-d1433d3e79ce",
   "metadata": {},
   "outputs": [],
   "source": [
    "versions = algo_versions[algo_name]"
   ]
  },
  {
   "cell_type": "code",
   "execution_count": 5,
   "id": "5297ef9c-0124-4bb0-9447-27097486fc71",
   "metadata": {},
   "outputs": [],
   "source": [
    "file_location = \"experimental_results/\" + algo_name + \"/\""
   ]
  },
  {
   "cell_type": "code",
   "execution_count": 6,
   "id": "11194e69-1514-438f-a189-b455cc08487c",
   "metadata": {},
   "outputs": [],
   "source": [
    "results = []\n",
    "for data_strategy in data_strategies:\n",
    "    for args in versions:\n",
    "        file = open(file_location + data_strategy + \"_\" + str(args) + \".pkl\", \"rb\")\n",
    "        result = pkl.load(file)\n",
    "        results.append(result)"
   ]
  },
  {
   "cell_type": "code",
   "execution_count": 7,
   "id": "303397f7-f756-49ba-b33b-245e35f853a3",
   "metadata": {},
   "outputs": [],
   "source": [
    "stringed_versions = [str(args) for args in versions]"
   ]
  },
  {
   "cell_type": "code",
   "execution_count": 8,
   "id": "c76e15f8-d565-4c63-9456-3e9854daec28",
   "metadata": {},
   "outputs": [],
   "source": [
    "# Initialize empty lists for the two halves\n",
    "bias = []\n",
    "\n",
    "# Split the strings and populate the lists\n",
    "for s in stringed_versions:\n",
    "    parts = s.split(\": \")\n",
    "\n",
    "    bias.append(parts[-1].split(\"}\")[0])"
   ]
  },
  {
   "cell_type": "code",
   "execution_count": 9,
   "id": "f2aef42b-98f2-444e-a7db-5006acaa185a",
   "metadata": {},
   "outputs": [],
   "source": [
    "library = [\"Lenskit\"]"
   ]
  },
  {
   "cell_type": "code",
   "execution_count": 10,
   "id": "e9a05e3c-d61f-4727-86ea-206d4264d456",
   "metadata": {},
   "outputs": [],
   "source": [
    "index = pd.MultiIndex.from_product(\n",
    "    [data_strategies, bias, library], names=[\"DataStrategy\", \"Bias\", \"Library\"]\n",
    ").drop_duplicates()"
   ]
  },
  {
   "cell_type": "code",
   "execution_count": 11,
   "id": "7153ea30-78e3-4988-b34e-12e47d9ebe18",
   "metadata": {},
   "outputs": [],
   "source": [
    "results_lkpy = pd.DataFrame(results, index=index)"
   ]
  },
  {
   "cell_type": "markdown",
   "id": "bfdb321b-2de2-447a-b71b-e4dd2ce8c69d",
   "metadata": {},
   "source": [
    "## Cornac"
   ]
  },
  {
   "cell_type": "code",
   "execution_count": 12,
   "id": "861e8dca-88e5-40ba-a257-5b93e3ecd181",
   "metadata": {},
   "outputs": [],
   "source": [
    "algo_versions = {\"CornacMF\": [{\"bias\": True}, {\"bias\": False}]}\n",
    "algo_name = \"CornacMF\""
   ]
  },
  {
   "cell_type": "code",
   "execution_count": 13,
   "id": "9082f657-c646-4e5f-94ac-e3962c1c9853",
   "metadata": {},
   "outputs": [],
   "source": [
    "versions = algo_versions[algo_name]"
   ]
  },
  {
   "cell_type": "code",
   "execution_count": 14,
   "id": "dfbaec2a-61c7-449e-879b-ca22c29da26f",
   "metadata": {},
   "outputs": [],
   "source": [
    "file_location = \"experimental_results/\" + algo_name + \"/\""
   ]
  },
  {
   "cell_type": "code",
   "execution_count": 15,
   "id": "b503907e-b2ae-4ca7-b704-5d700e174d4e",
   "metadata": {},
   "outputs": [],
   "source": [
    "results = []\n",
    "for data_strategy in data_strategies:\n",
    "    for args in versions:\n",
    "        file = open(file_location + data_strategy + \"_\" + str(args) + \".pkl\", \"rb\")\n",
    "        result = pkl.load(file)\n",
    "        results.append(result)"
   ]
  },
  {
   "cell_type": "code",
   "execution_count": 16,
   "id": "8ad79182-8d24-40ff-8b35-12249d87b95a",
   "metadata": {},
   "outputs": [],
   "source": [
    "stringed_versions = [str(args) for args in versions]"
   ]
  },
  {
   "cell_type": "code",
   "execution_count": 17,
   "id": "16ef32c2-5f30-45f2-8097-8e758a0a1769",
   "metadata": {},
   "outputs": [],
   "source": [
    "# Initialize empty lists for the two halves\n",
    "bias = []\n",
    "\n",
    "# Split the strings and populate the lists\n",
    "for s in stringed_versions:\n",
    "    parts = s.split(\": \")\n",
    "\n",
    "    bias.append(parts[-1].split(\"}\")[0])"
   ]
  },
  {
   "cell_type": "code",
   "execution_count": 18,
   "id": "aafbbd62-f96f-4f72-8208-77db20ced629",
   "metadata": {},
   "outputs": [],
   "source": [
    "library = [\"Cornac\"]"
   ]
  },
  {
   "cell_type": "code",
   "execution_count": 19,
   "id": "bfcf87db-915b-44fe-8cc9-9c33692daccf",
   "metadata": {},
   "outputs": [],
   "source": [
    "index = pd.MultiIndex.from_product(\n",
    "    [data_strategies, bias, library], names=[\"DataStrategy\", \"Bias\", \"Library\"]\n",
    ").drop_duplicates()"
   ]
  },
  {
   "cell_type": "code",
   "execution_count": 20,
   "id": "84b59582-c867-4c85-8f9a-7614bf82cd13",
   "metadata": {},
   "outputs": [],
   "source": [
    "results_cornac = pd.DataFrame(results, index=index)"
   ]
  },
  {
   "cell_type": "markdown",
   "id": "608960aa-33a5-4acd-829e-90669b7b0f3d",
   "metadata": {},
   "source": [
    "# Merge"
   ]
  },
  {
   "cell_type": "code",
   "execution_count": 21,
   "id": "1023e32c-65df-48fb-b5f4-1a1d1a9dc323",
   "metadata": {},
   "outputs": [],
   "source": [
    "mf_metrics = (\n",
    "    pd.concat([results_lkpy, results_cornac])\n",
    "    .reset_index()\n",
    "    .sort_values([\"DataStrategy\", \"Library\", \"Bias\"])\n",
    "    .set_index([\"DataStrategy\", \"Library\", \"Bias\"])\n",
    "    .reindex(data_strategies, level=0)\n",
    ")"
   ]
  },
  {
   "cell_type": "code",
   "execution_count": 22,
   "id": "6effb8b5-ee18-4b86-b462-d4896dc41fcc",
   "metadata": {},
   "outputs": [],
   "source": [
    "metrics_order = [\"pop_corr\", \"ARP\", \"ave_PL\", \"ACLT\", \"AggDiv\", \"RMSE\", \"NDCG\"]\n",
    "mf_metrics = mf_metrics[metrics_order]"
   ]
  },
  {
   "cell_type": "code",
   "execution_count": 23,
   "id": "84a6e0a5-36e9-47de-9d59-76a84c622e44",
   "metadata": {},
   "outputs": [],
   "source": [
    "mf_metrics = mf_metrics.rename(\n",
    "    columns={\"pop_corr\": \"PopCorr\", \"ave_PL\": \"PL\", \"ACLT\": \"APLT\", \"NDCG\": \"NDCG@10\"}\n",
    ")"
   ]
  },
  {
   "cell_type": "code",
   "execution_count": 24,
   "id": "13fc9cdc-371c-4da3-a865-8d1a33935481",
   "metadata": {},
   "outputs": [],
   "source": [
    "mf_metrics = mf_metrics.rename(\n",
    "    index={\n",
    "        \"uniformly_random\": \"Scenario 1\",\n",
    "        \"popularity_good\": \"Scenario 2\",\n",
    "        \"popularity_bad\": \"Scenario 3\",\n",
    "        \"popularity_good_for_bp_ur\": \"Scenario 4\",\n",
    "        \"popularity_bad_for_bp_ur\": \"Scenario 5\",\n",
    "    }\n",
    ")"
   ]
  },
  {
   "cell_type": "code",
   "execution_count": 25,
   "id": "c5b17ca9-bd9e-4564-98f1-1b53c79054e1",
   "metadata": {},
   "outputs": [
    {
     "name": "stdout",
     "output_type": "stream",
     "text": [
      "\\begin{tabular}{llllrrrrrr}\n",
      "\\toprule\n",
      "           &         &      &                                         PopCorr &    ARP &       PL &   APLT &  AggDiv &   RMSE &  NDCG@10 \\\\\n",
      "DataStrategy & Library & Bias &                                                 &        &          &        &         &        &          \\\\\n",
      "\\midrule\n",
      "Scenario 1 & Cornac & False &     (-0.019817197523989312, 0.0992486268830372) &  0.002 &  -57.028 &  6.020 &   0.423 &  2.901 &    0.001 \\\\\n",
      "           &         & True &     (0.0496886036050218, 3.541373345741842e-05) &  0.004 &    4.208 &  2.246 &   0.007 &  2.844 &    0.001 \\\\\n",
      "           & Lenskit & False &     (-0.011601554411600401, 0.3345342882304186) &  0.002 &  -50.758 &  4.918 &   0.544 &  3.402 &    0.002 \\\\\n",
      "           &         & True &      (-0.00803288291031341, 0.5040275932506005) &  0.002 &  -49.614 &  4.213 &   0.383 &  3.034 &    0.001 \\\\\n",
      "Scenario 2 & Cornac & False &                      (0.48922599776186715, 0.0) &  0.030 &  742.078 &  0.010 &   0.006 &  0.815 &    0.030 \\\\\n",
      "           &         & True &                       (0.4644226927739371, 0.0) &  0.029 &  716.580 &  0.222 &   0.003 &  0.790 &    0.025 \\\\\n",
      "           & Lenskit & False &                       (0.5076374368468799, 0.0) &  0.030 &  740.232 &  0.000 &   0.007 &  0.938 &    0.025 \\\\\n",
      "           &         & True &                       (0.4980494313449458, 0.0) &  0.030 &  742.399 &  0.000 &   0.003 &  0.816 &    0.025 \\\\\n",
      "Scenario 3 & Cornac & False &   (-0.024707526433283142, 0.039838016218257354) &  0.001 &  -76.883 &  9.088 &   0.036 &  0.824 &    0.001 \\\\\n",
      "           &         & True &     (-0.005461138659463059, 0.6496507968629336) &  0.002 &  -51.273 &  2.766 &   0.009 &  0.786 &    0.000 \\\\\n",
      "           & Lenskit & False &   (-0.08744937502065785, 3.150881646009345e-13) &  0.001 &  -73.473 &  7.630 &   0.388 &  1.034 &    0.001 \\\\\n",
      "           &         & True &      (0.01702526197152144, 0.15671059756479944) &  0.002 &  -37.422 &  0.569 &   0.401 &  0.810 &    0.001 \\\\\n",
      "Scenario 4 & Cornac & False &   (0.20034639975750548, 1.3455761185338274e-63) &  0.005 &   35.139 &  4.430 &   0.264 &  2.103 &    0.010 \\\\\n",
      "           &         & True &                       (0.5291670904228304, 0.0) &  0.019 &  458.821 &  1.431 &   0.163 &  1.974 &    0.028 \\\\\n",
      "           & Lenskit & False &                (0.43726824287976984, 3.24e-321) &  0.010 &  140.274 &  4.440 &   0.521 &  2.746 &    0.011 \\\\\n",
      "           &         & True &    (0.21956884055577436, 2.520091359474463e-76) &  0.008 &  129.587 &  4.852 &   0.238 &  2.388 &    0.008 \\\\\n",
      "Scenario 5 & Cornac & False &      (-0.01724967809202159, 0.1513178151104674) &  0.002 &  -56.843 &  6.198 &   0.425 &  2.357 &    0.002 \\\\\n",
      "           &         & True &     (-0.007741913317733901, 0.5195995516740084) &  0.002 &  -53.939 &  4.072 &   0.243 &  2.250 &    0.012 \\\\\n",
      "           & Lenskit & False &  (-0.04462199227217619, 0.00020449631470464193) &  0.001 &  -59.924 &  5.392 &   0.614 &  2.884 &    0.002 \\\\\n",
      "           &         & True &     (-0.013055916495193486, 0.2774767571177665) &  0.002 &  -50.250 &  3.063 &   0.456 &  2.584 &    0.002 \\\\\n",
      "\\bottomrule\n",
      "\\end{tabular}\n",
      "\n"
     ]
    }
   ],
   "source": [
    "print(mf_metrics.round(3).to_latex())"
   ]
  },
  {
   "cell_type": "code",
   "execution_count": null,
   "id": "1e3874c1-270a-407d-b889-c6c31e7d5d60",
   "metadata": {},
   "outputs": [],
   "source": [
    "import pickle\n",
    "\n",
    "with open(\"metrics_combined/all_mf.pkl\", \"wb\") as f:\n",
    "    pickle.dump(mf_metrics.round(3), f)"
   ]
  }
 ],
 "metadata": {
  "kernelspec": {
   "display_name": "Python 3 (ipykernel)",
   "language": "python",
   "name": "python3"
  },
  "language_info": {
   "codemirror_mode": {
    "name": "ipython",
    "version": 3
   },
   "file_extension": ".py",
   "mimetype": "text/x-python",
   "name": "python",
   "nbconvert_exporter": "python",
   "pygments_lexer": "ipython3",
   "version": "3.8.18"
  },
  "vscode": {
   "interpreter": {
    "hash": "1c3278b04384a1f2d1b0bc3e8783905713abb1db8d84b3b69ddff13fab40f022"
   }
  },
  "widgets": {
   "application/vnd.jupyter.widget-state+json": {
    "state": {},
    "version_major": 2,
    "version_minor": 0
   }
  }
 },
 "nbformat": 4,
 "nbformat_minor": 5
}
