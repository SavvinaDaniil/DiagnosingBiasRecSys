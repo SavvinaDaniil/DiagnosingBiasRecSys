{
 "cells": [
  {
   "cell_type": "markdown",
   "id": "2d8ec23c-161c-4aa9-9a16-1bdb42ef18ec",
   "metadata": {},
   "source": [
    "# Libraries"
   ]
  },
  {
   "cell_type": "code",
   "execution_count": 1,
   "id": "ecd4c15b-afb9-413f-9929-97022d39082a",
   "metadata": {},
   "outputs": [],
   "source": [
    "import pickle as pkl\n",
    "import pandas as pd"
   ]
  },
  {
   "cell_type": "code",
   "execution_count": 2,
   "id": "99f11284",
   "metadata": {},
   "outputs": [],
   "source": [
    "algo_name = \"UserKNN\"\n",
    "data_strategies = [\n",
    "    \"uniformly_random\",\n",
    "    \"popularity_good\",\n",
    "    \"popularity_bad\",\n",
    "    \"popularity_good_for_bp_ur\",\n",
    "    \"popularity_bad_for_bp_ur\",\n",
    "]"
   ]
  },
  {
   "cell_type": "markdown",
   "id": "fa4db185-77ff-4bc1-875d-320a34a7f297",
   "metadata": {},
   "source": [
    "# Analysis"
   ]
  },
  {
   "cell_type": "markdown",
   "id": "17ccf696",
   "metadata": {},
   "source": [
    "## LKPY"
   ]
  },
  {
   "cell_type": "code",
   "execution_count": 13,
   "id": "933482bc-9819-4cbb-89af-c4d2e20f8168",
   "metadata": {},
   "outputs": [],
   "source": [
    "algo_versions = {\n",
    "    \"UserKNN\": [\n",
    "        {\"min_nbrs\": 1, \"min_sim\": 0},\n",
    "        {\"min_nbrs\": 2, \"min_sim\": 0},\n",
    "        {\"min_nbrs\": 1, \"min_sim\": -1},\n",
    "        {\"min_nbrs\": 2, \"min_sim\": -1},\n",
    "    ],\n",
    "}"
   ]
  },
  {
   "cell_type": "code",
   "execution_count": 14,
   "id": "e360abdc-a2e7-4cf8-956e-d1433d3e79ce",
   "metadata": {},
   "outputs": [],
   "source": [
    "versions = algo_versions[algo_name]"
   ]
  },
  {
   "cell_type": "code",
   "execution_count": 15,
   "id": "5297ef9c-0124-4bb0-9447-27097486fc71",
   "metadata": {},
   "outputs": [],
   "source": [
    "file_location = \"experimental_results/\" + algo_name + \"/\""
   ]
  },
  {
   "cell_type": "code",
   "execution_count": 16,
   "id": "11194e69-1514-438f-a189-b455cc08487c",
   "metadata": {},
   "outputs": [],
   "source": [
    "results = []\n",
    "for data_strategy in data_strategies:\n",
    "    for args in versions:\n",
    "        file = open(file_location + data_strategy + \"_\" + str(args) + \".pkl\", \"rb\")\n",
    "        result = pkl.load(file)\n",
    "        results.append(result)"
   ]
  },
  {
   "cell_type": "code",
   "execution_count": 17,
   "id": "303397f7-f756-49ba-b33b-245e35f853a3",
   "metadata": {},
   "outputs": [],
   "source": [
    "stringed_versions = [str(args) for args in versions]"
   ]
  },
  {
   "cell_type": "code",
   "execution_count": 18,
   "id": "c76e15f8-d565-4c63-9456-3e9854daec28",
   "metadata": {},
   "outputs": [],
   "source": [
    "# Initialize empty lists for the two halves\n",
    "center = []\n",
    "min_sim = []\n",
    "\n",
    "# Split the strings and populate the lists\n",
    "for s in stringed_versions:\n",
    "    parts = s.split(\", \")\n",
    "\n",
    "    center.append(parts[0].split(\" \")[-1])\n",
    "    min_sim.append(parts[1].split(\" \")[-1].split(\"}\")[0])"
   ]
  },
  {
   "cell_type": "code",
   "execution_count": 19,
   "id": "4a5f08dc",
   "metadata": {},
   "outputs": [],
   "source": [
    "over_common = [\"False\"]"
   ]
  },
  {
   "cell_type": "code",
   "execution_count": 20,
   "id": "5930d035-03be-4863-9ddf-6a437d3552a8",
   "metadata": {},
   "outputs": [],
   "source": [
    "index = pd.MultiIndex.from_product(\n",
    "    [data_strategies, min_sim, center, over_common],\n",
    "    names=[\"DataStrategy\", \"MinimumSimilarity\", \"MinimumNeighbours\", \"OverCommon\"],\n",
    ").drop_duplicates()"
   ]
  },
  {
   "cell_type": "code",
   "execution_count": 21,
   "id": "7153ea30-78e3-4988-b34e-12e47d9ebe18",
   "metadata": {},
   "outputs": [],
   "source": [
    "results_lkpy = pd.DataFrame(results, index=index)"
   ]
  },
  {
   "cell_type": "markdown",
   "id": "7382a2f4",
   "metadata": {},
   "source": [
    "## Cornac"
   ]
  },
  {
   "cell_type": "code",
   "execution_count": 23,
   "id": "0801dc1e-fea0-43e3-889c-e8f9c0aabe6b",
   "metadata": {},
   "outputs": [],
   "source": [
    "algo_versions = {\n",
    "    \"CornacUserKNN\": [{\"center\": True}],\n",
    "}\n",
    "algo_name = \"CornacUserKNN\""
   ]
  },
  {
   "cell_type": "code",
   "execution_count": 24,
   "id": "13fd52cf",
   "metadata": {},
   "outputs": [],
   "source": [
    "versions = algo_versions[algo_name]"
   ]
  },
  {
   "cell_type": "code",
   "execution_count": 25,
   "id": "1a7006f9",
   "metadata": {},
   "outputs": [],
   "source": [
    "file_location = \"experimental_results/\" + algo_name + \"/\""
   ]
  },
  {
   "cell_type": "code",
   "execution_count": 26,
   "id": "3fac767e",
   "metadata": {},
   "outputs": [],
   "source": [
    "results = []\n",
    "for data_strategy in data_strategies:\n",
    "    for args in versions:\n",
    "        file = open(file_location + data_strategy + \"_\" + str(args) + \".pkl\", \"rb\")\n",
    "        result = pkl.load(file)\n",
    "        results.append(result)"
   ]
  },
  {
   "cell_type": "code",
   "execution_count": 27,
   "id": "8a1050c9",
   "metadata": {},
   "outputs": [],
   "source": [
    "stringed_versions = [str(args) for args in versions]"
   ]
  },
  {
   "cell_type": "code",
   "execution_count": 28,
   "id": "f64e5f46",
   "metadata": {},
   "outputs": [],
   "source": [
    "# Initialize empty lists for the two halves\n",
    "center = []\n",
    "min_sim = []\n",
    "# Split the strings and populate the lists\n",
    "for s in stringed_versions:\n",
    "    parts = s.split(\": \")\n",
    "    center.append(parts[-1].split(\"}\")[0])\n",
    "    min_sim.append(\"-1\")"
   ]
  },
  {
   "cell_type": "code",
   "execution_count": 29,
   "id": "6fcdc020",
   "metadata": {},
   "outputs": [],
   "source": [
    "over_common = [\"True\"]"
   ]
  },
  {
   "cell_type": "code",
   "execution_count": 30,
   "id": "dc707b7c",
   "metadata": {},
   "outputs": [],
   "source": [
    "index = pd.MultiIndex.from_product(\n",
    "    [data_strategies, min_sim, center, over_common],\n",
    "    names=[\"DataStrategy\", \"MinimumSimilarity\", \"MinimumNeighbours\", \"OverCommon\"],\n",
    ").drop_duplicates()"
   ]
  },
  {
   "cell_type": "code",
   "execution_count": 31,
   "id": "d495b94a",
   "metadata": {},
   "outputs": [],
   "source": [
    "results_cornac = pd.DataFrame(results, index=index)"
   ]
  },
  {
   "cell_type": "code",
   "execution_count": 32,
   "id": "f348cf62-77e8-4f20-b7a2-75022cde5443",
   "metadata": {},
   "outputs": [],
   "source": [
    "results_cornac.index = results_cornac.index.set_levels(\n",
    "    results_cornac.index.levels[1].str.replace(\"-1\", \"1\"), level=2\n",
    ")"
   ]
  },
  {
   "cell_type": "markdown",
   "id": "959cae8a",
   "metadata": {},
   "source": [
    "# Merge"
   ]
  },
  {
   "cell_type": "code",
   "execution_count": 33,
   "id": "485c51b7-c93e-45a2-a9c9-940af1b79547",
   "metadata": {},
   "outputs": [],
   "source": [
    "user_knn_metrics = (\n",
    "    pd.concat([results_lkpy, results_cornac])\n",
    "    .reset_index()\n",
    "    .sort_values(\n",
    "        [\"DataStrategy\", \"MinimumSimilarity\", \"OverCommon\", \"MinimumNeighbours\"]\n",
    "    )\n",
    "    .set_index([\"DataStrategy\", \"MinimumSimilarity\", \"OverCommon\", \"MinimumNeighbours\"])\n",
    "    .reindex(data_strategies, level=0)\n",
    ")"
   ]
  },
  {
   "cell_type": "code",
   "execution_count": 34,
   "id": "f1bcee80-df21-450a-8e4b-9ab2cbdbff4d",
   "metadata": {},
   "outputs": [],
   "source": [
    "metrics_order = [\"pop_corr\", \"ARP\", \"ave_PL\", \"ACLT\", \"AggDiv\", \"RMSE\", \"NDCG\"]\n",
    "user_knn_metrics = user_knn_metrics[metrics_order]"
   ]
  },
  {
   "cell_type": "code",
   "execution_count": 35,
   "id": "6b0e18bf-8d16-4bb8-ab9d-6d3f1d98f758",
   "metadata": {},
   "outputs": [],
   "source": [
    "user_knn_metrics = user_knn_metrics.rename(\n",
    "    columns={\"pop_corr\": \"PopCorr\", \"ave_PL\": \"PL\", \"ACLT\": \"APLT\", \"NDCG\": \"NDCG@10\"}\n",
    ")"
   ]
  },
  {
   "cell_type": "code",
   "execution_count": 36,
   "id": "41593f40-1592-4d3c-897d-b92185f46c25",
   "metadata": {},
   "outputs": [],
   "source": [
    "user_knn_metrics = user_knn_metrics.rename(\n",
    "    index={\n",
    "        \"uniformly_random\": \"Scenario 1\",\n",
    "        \"popularity_good\": \"Scenario 2\",\n",
    "        \"popularity_bad\": \"Scenario 3\",\n",
    "        \"popularity_good_for_bp_ur\": \"Scenario 4\",\n",
    "        \"popularity_bad_for_bp_ur\": \"Scenario 5\",\n",
    "    }\n",
    ")"
   ]
  },
  {
   "cell_type": "code",
   "execution_count": 37,
   "id": "03e1a3cc-406b-4e91-829b-97ed12495dd8",
   "metadata": {},
   "outputs": [],
   "source": [
    "user_knn_metrics = user_knn_metrics.reindex([\"1\", \"2\", \"5\", \"10\"], level=3)"
   ]
  },
  {
   "cell_type": "code",
   "execution_count": 38,
   "id": "c06eadb3",
   "metadata": {},
   "outputs": [
    {
     "name": "stdout",
     "output_type": "stream",
     "text": [
      "\\begin{tabular}{lllllrrrrr}\n",
      "\\toprule\n",
      "           &   &       &   &                                        PopCorr &    ARP &       PL &  AggDiv &   RMSE &  NDCG@10 \\\\\n",
      "DataStrategy & MinimumSimilarity & OverCommon & MinimumNeighbours &                                                &        &          &         &        &          \\\\\n",
      "\\midrule\n",
      "Scenario 1 & -1 & False & 1 &    (0.018078800576386483, 0.13261414434946503) &  0.002 &  -32.285 &   0.400 &  3.502 &    0.001 \\\\\n",
      "           &   &       & 2 &  (0.41822601518091973, 3.097865376849624e-291) &  0.004 &   21.252 &   0.681 &  3.352 &    0.003 \\\\\n",
      "           &   & True & 1 &    (0.0035126658997710024, 0.7701522568823012) &  0.002 &  -35.746 &   0.400 &  3.337 &    0.001 \\\\\n",
      "           & 0 & False & 1 &   (0.10110466641885223, 3.420017408632659e-17) &  0.003 &  -12.827 &   0.340 &  3.624 &    0.002 \\\\\n",
      "           &   &       & 2 &                      (0.6149052740925817, 0.0) &  0.005 &   65.440 &   0.595 &  3.464 &    0.005 \\\\\n",
      "Scenario 2 & -1 & False & 1 &                      (0.5955040638109448, 0.0) &  0.021 &  426.621 &   0.197 &  1.188 &    0.019 \\\\\n",
      "           &   &       & 2 &                      (0.6143667114262298, 0.0) &  0.022 &  447.618 &   0.339 &  1.190 &    0.021 \\\\\n",
      "           &   & True & 1 &                      (0.6043071901686619, 0.0) &  0.015 &  305.197 &   0.238 &  1.150 &    0.013 \\\\\n",
      "           & 0 & False & 1 &                      (0.5519601545626697, 0.0) &  0.027 &  632.300 &   0.080 &  1.040 &    0.023 \\\\\n",
      "           &   &       & 2 &                      (0.5620146001718291, 0.0) &  0.027 &  591.966 &   0.173 &  1.026 &    0.025 \\\\\n",
      "Scenario 3 & -1 & False & 1 &                      (0.5591734542833869, 0.0) &  0.008 &  187.197 &   0.263 &  1.182 &    0.002 \\\\\n",
      "           &   &       & 2 &                      (0.7275483692730526, 0.0) &  0.008 &  192.127 &   0.485 &  1.182 &    0.002 \\\\\n",
      "           &   & True & 1 &                      (0.5217646410766746, 0.0) &  0.006 &  151.686 &   0.290 &  1.151 &    0.001 \\\\\n",
      "           & 0 & False & 1 &       (0.0247094973664384, 0.0398221911175794) &  0.002 &  -35.765 &   0.512 &  1.044 &    0.001 \\\\\n",
      "           &   &       & 2 &  (0.16076461069841927, 2.7024931290302406e-41) &  0.003 &  -13.100 &   0.688 &  1.034 &    0.004 \\\\\n",
      "Scenario 4 & -1 & False & 1 &  (0.25342748511583263, 6.981420795656933e-102) &  0.003 &   23.063 &   0.488 &  2.502 &    0.001 \\\\\n",
      "           &   &       & 2 &                      (0.7723146452022165, 0.0) &  0.006 &   97.490 &   0.681 &  2.404 &    0.004 \\\\\n",
      "           &   & True & 1 &   (0.18402185529291676, 9.017200795650142e-54) &  0.003 &    8.669 &   0.511 &  2.458 &    0.001 \\\\\n",
      "           & 0 & False & 1 &                      (0.5878231973071265, 0.0) &  0.008 &  164.549 &   0.350 &  2.500 &    0.004 \\\\\n",
      "           &   &       & 2 &                       (0.700713136693603, 0.0) &  0.014 &  297.047 &   0.505 &  2.386 &    0.010 \\\\\n",
      "Scenario 5 & -1 & False & 1 &   (0.08655989186138914, 5.458030095756707e-13) &  0.003 &   -7.924 &   0.422 &  2.880 &    0.001 \\\\\n",
      "           &   &       & 2 &                      (0.6232556691269233, 0.0) &  0.005 &   57.969 &   0.679 &  2.776 &    0.003 \\\\\n",
      "           &   & True & 1 &  (0.05740056236510965, 1.7671642483554441e-06) &  0.002 &  -16.243 &   0.433 &  2.783 &    0.001 \\\\\n",
      "           & 0 & False & 1 &   (0.13647389695647674, 3.949716331058841e-30) &  0.003 &  -16.122 &   0.506 &  2.914 &    0.003 \\\\\n",
      "           &   &       & 2 &                      (0.6121275142337781, 0.0) &  0.005 &   42.849 &   0.674 &  2.794 &    0.006 \\\\\n",
      "\\bottomrule\n",
      "\\end{tabular}\n",
      "\n"
     ]
    }
   ],
   "source": [
    "print(user_knn_metrics.drop(\"APLT\", axis=1).round(3).to_latex())"
   ]
  },
  {
   "cell_type": "code",
   "execution_count": 39,
   "id": "220d8360-e5cc-4b73-8f5f-abde14855dcc",
   "metadata": {
    "scrolled": true
   },
   "outputs": [],
   "source": [
    "import pickle\n",
    "\n",
    "with open(\"metrics_combined/all_user_knn.pkl\", \"wb\") as f:\n",
    "    pickle.dump(user_knn_metrics.drop(\"APLT\", axis=1).round(3), f)"
   ]
  }
 ],
 "metadata": {
  "kernelspec": {
   "display_name": "Python 3 (ipykernel)",
   "language": "python",
   "name": "python3"
  },
  "language_info": {
   "codemirror_mode": {
    "name": "ipython",
    "version": 3
   },
   "file_extension": ".py",
   "mimetype": "text/x-python",
   "name": "python",
   "nbconvert_exporter": "python",
   "pygments_lexer": "ipython3",
   "version": "3.8.18"
  },
  "vscode": {
   "interpreter": {
    "hash": "1c3278b04384a1f2d1b0bc3e8783905713abb1db8d84b3b69ddff13fab40f022"
   }
  },
  "widgets": {
   "application/vnd.jupyter.widget-state+json": {
    "state": {},
    "version_major": 2,
    "version_minor": 0
   }
  }
 },
 "nbformat": 4,
 "nbformat_minor": 5
}
