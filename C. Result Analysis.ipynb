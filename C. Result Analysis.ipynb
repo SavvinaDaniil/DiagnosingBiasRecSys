{
 "cells": [
  {
   "cell_type": "markdown",
   "id": "7477c78d-a41d-40b5-af76-8b980bc540bf",
   "metadata": {},
   "source": [
    "### Import Libraries"
   ]
  },
  {
   "cell_type": "code",
   "execution_count": 1,
   "id": "e364e8c1",
   "metadata": {},
   "outputs": [],
   "source": [
    "import ipywidgets as widgets\n",
    "from IPython.display import display\n",
    "import os\n",
    "import pandas as pd\n",
    "import numpy as np\n",
    "from scipy import io\n",
    "from lib import result_analysis"
   ]
  },
  {
   "cell_type": "markdown",
   "id": "46aa7e4e-12be-4383-83d3-d275cca23c06",
   "metadata": {},
   "source": [
    "### Widget"
   ]
  },
  {
   "cell_type": "code",
   "execution_count": 2,
   "id": "9fec6472-4ed9-4944-be9d-f9cab5cd3873",
   "metadata": {},
   "outputs": [],
   "source": [
    "# Define the list of dataset options\n",
    "dataset_options = ['fairbook', 'ml1m', 'epinion', 'synthetic']\n",
    "\n",
    "# Define the list of algorithm options\n",
    "algorithm_options = ['UserKNN', 'MF']\n",
    "\n",
    "# Create a radio button widget for datasets\n",
    "rad_button_dataset = widgets.RadioButtons(\n",
    "    options=dataset_options,\n",
    "    description='Choose dataset:',\n",
    "    disabled=False,\n",
    "    value=None\n",
    ")\n",
    "\n",
    "# Create a radio button widget for algorithms (Initially hidden)\n",
    "rad_button_algorithm = widgets.RadioButtons(\n",
    "    options=algorithm_options,\n",
    "    description='Choose algorithm:',\n",
    "    disabled=False,\n",
    "    value=None\n",
    ")\n",
    "\n",
    "# Create an OK button for dataset selection\n",
    "ok_button_dataset = widgets.Button(\n",
    "    description='OK',\n",
    "    disabled=True\n",
    ")\n",
    "\n",
    "# Create an OK button for algorithm selection (Initially hidden)\n",
    "ok_button_algorithm = widgets.Button(\n",
    "    description='OK',\n",
    "    disabled=True\n",
    ")\n",
    "\n",
    "output_radb = widgets.Output()\n",
    "\n",
    "# VBox container to control the display of the second radio button and OK button\n",
    "algorithm_selection_box = widgets.VBox([rad_button_algorithm, ok_button_algorithm])\n",
    "algorithm_selection_box.layout.display = 'none'  # Initially hidden\n",
    "\n",
    "# Variables to store the selected dataset and algorithm\n",
    "selected_dataset = None\n",
    "selected_algorithm = None\n",
    "\n",
    "# Function to handle the dataset radio button change\n",
    "def on_radio_dataset_change(change):\n",
    "    global selected_dataset\n",
    "    if change['type'] == 'change' and change['name'] == 'value':\n",
    "        selected_dataset = change['new']\n",
    "        ok_button_dataset.disabled = False  # Enable OK button when a dataset is selected\n",
    "\n",
    "# Function to handle the algorithm radio button change\n",
    "def on_radio_algorithm_change(change):\n",
    "    global selected_algorithm\n",
    "    if change['type'] == 'change' and change['name'] == 'value':\n",
    "        selected_algorithm = change['new']\n",
    "        ok_button_algorithm.disabled = False  # Enable OK button when an algorithm is selected\n",
    "\n",
    "# Function to handle the dataset OK button click\n",
    "def on_ok_button_dataset_clicked(b):\n",
    "    global selected_dataset\n",
    "    with output_radb:\n",
    "        output_radb.clear_output()\n",
    "        if selected_dataset:\n",
    "            print(f'Dataset chosen: {selected_dataset}')\n",
    "            # Show the algorithm selection radio button and enable the algorithm OK button\n",
    "            algorithm_selection_box.layout.display = 'block'\n",
    "\n",
    "# Function to handle the algorithm OK button click\n",
    "def on_ok_button_algorithm_clicked(b):\n",
    "    global selected_algorithm\n",
    "    with output_radb:\n",
    "        output_radb.clear_output()\n",
    "        if selected_algorithm:\n",
    "            print(f'Algorithm chosen: {selected_algorithm}')\n",
    "            print(f'Starting process for dataset: {selected_dataset}, with algorithm: {selected_algorithm}')\n",
    "            # Trigger the training process here (e.g., train with chosen algorithm and dataset)\n",
    "            result_analysis.analyse(selected_dataset, selected_algorithm)\n",
    "\n",
    "# Attach the functions to the respective widgets\n",
    "rad_button_dataset.observe(on_radio_dataset_change)\n",
    "rad_button_algorithm.observe(on_radio_algorithm_change)\n",
    "ok_button_dataset.on_click(on_ok_button_dataset_clicked)\n",
    "ok_button_algorithm.on_click(on_ok_button_algorithm_clicked)"
   ]
  },
  {
   "cell_type": "markdown",
   "id": "e2f6b623-c99e-4aaf-b0d7-26a9ee0ae98a",
   "metadata": {},
   "source": [
    "### Run"
   ]
  },
  {
   "cell_type": "code",
   "execution_count": 3,
   "id": "93d7c759-e8ce-47d9-ae5f-fadb74c7658c",
   "metadata": {},
   "outputs": [
    {
     "data": {
      "application/vnd.jupyter.widget-view+json": {
       "model_id": "6411498a242e4fb1abf6eb41d10b1f20",
       "version_major": 2,
       "version_minor": 0
      },
      "text/plain": [
       "RadioButtons(description='Choose dataset:', options=('fairbook', 'ml1m', 'epinion', 'synthetic'), value=None)"
      ]
     },
     "metadata": {},
     "output_type": "display_data"
    },
    {
     "data": {
      "application/vnd.jupyter.widget-view+json": {
       "model_id": "611d76195ff04f9d99bd93e73c04a73c",
       "version_major": 2,
       "version_minor": 0
      },
      "text/plain": [
       "Button(description='OK', disabled=True, style=ButtonStyle())"
      ]
     },
     "metadata": {},
     "output_type": "display_data"
    },
    {
     "data": {
      "application/vnd.jupyter.widget-view+json": {
       "model_id": "04edf73b1da5450a9bbcd1fb5007708a",
       "version_major": 2,
       "version_minor": 0
      },
      "text/plain": [
       "Output()"
      ]
     },
     "metadata": {},
     "output_type": "display_data"
    },
    {
     "data": {
      "application/vnd.jupyter.widget-view+json": {
       "model_id": "8d911f5041804b0eb38693ccd64bfdd3",
       "version_major": 2,
       "version_minor": 0
      },
      "text/plain": [
       "VBox(children=(RadioButtons(description='Choose algorithm:', options=('UserKNN', 'MF'), value=None), Button(de…"
      ]
     },
     "metadata": {},
     "output_type": "display_data"
    }
   ],
   "source": [
    "# Display the dataset radio button and its OK button\n",
    "display(rad_button_dataset, ok_button_dataset, output_radb)\n",
    "\n",
    "# Display the second radio button and OK button for algorithm selection (hidden initially)\n",
    "display(algorithm_selection_box)"
   ]
  }
 ],
 "metadata": {
  "kernelspec": {
   "display_name": "Python 3 (ipykernel)",
   "language": "python",
   "name": "python3"
  },
  "language_info": {
   "codemirror_mode": {
    "name": "ipython",
    "version": 3
   },
   "file_extension": ".py",
   "mimetype": "text/x-python",
   "name": "python",
   "nbconvert_exporter": "python",
   "pygments_lexer": "ipython3",
   "version": "3.8.18"
  },
  "widgets": {
   "application/vnd.jupyter.widget-state+json": {
    "state": {
     "04edf73b1da5450a9bbcd1fb5007708a": {
      "model_module": "@jupyter-widgets/output",
      "model_module_version": "1.0.0",
      "model_name": "OutputModel",
      "state": {
       "layout": "IPY_MODEL_58c625d615224a4f80c522843cd14876",
       "outputs": [
        {
         "name": "stdout",
         "output_type": "stream",
         "text": "Algorithm chosen: MF\nStarting process for dataset: synthetic, with algorithm: MF\nuniformly_random\n[{'bias': True}, {'bias': False}, {'bias': True}, {'bias': False}]\nUse the above to figure out significance comparisons.\nARP:\nHighest version:  0\n[(1, 0.0), (2, 0.0), (3, 0.0)]\nPL:\nHighest version:  0\n[(1, 0.0), (2, 0.0), (3, 0.0)]\n--------------------------------------------------------------\npopularity_good\n[{'bias': True}, {'bias': False}, {'bias': True}, {'bias': False}]\nUse the above to figure out significance comparisons.\nARP:\nHighest version:  0\n[(1, 0.8534853308427657), (2, 4.288410014633355e-28), (3, 2.727805375449378e-55)]\nPL:\nHighest version:  0\n[(1, 0.49763789819401555), (2, 0.4449623897845607), (3, 0.3703877704580408)]\n--------------------------------------------------------------\npopularity_bad\n[{'bias': True}, {'bias': False}, {'bias': True}, {'bias': False}]\nUse the above to figure out significance comparisons.\nARP:\nHighest version:  0\n[(1, 0.0), (2, 0.0), (3, 0.0)]\nPL:\nHighest version:  0\n[(1, 0.0), (2, 2.3220355214609353e-21), (3, 0.0)]\n--------------------------------------------------------------\npopularity_good_for_bp_ur\n[{'bias': True}, {'bias': False}, {'bias': True}, {'bias': False}]\nUse the above to figure out significance comparisons.\nARP:\nHighest version:  0\n[(1, 0.0), (2, 0.0), (3, 0.0)]\nPL:\nHighest version:  0\n[(1, 0.0), (2, 0.0), (3, 0.0)]\n--------------------------------------------------------------\npopularity_bad_for_bp_ur\n[{'bias': True}, {'bias': False}, {'bias': True}, {'bias': False}]\nUse the above to figure out significance comparisons.\nARP:\nHighest version:  2\n[(0, 3.2593782881832063e-24), (1, 0.0), (3, 0.0)]\nPL:\nHighest version:  2\n[(0, 6.039310291090798e-05), (1, 0.0), (3, 4.333732102116825e-70)]\n--------------------------------------------------------------\n"
        }
       ]
      }
     },
     "3cafb4e349d4454498cf473e5e280a4c": {
      "model_module": "@jupyter-widgets/base",
      "model_module_version": "2.0.0",
      "model_name": "LayoutModel",
      "state": {}
     },
     "46c79423bf8141e0b02c936426a81fc6": {
      "model_module": "@jupyter-widgets/controls",
      "model_module_version": "2.0.0",
      "model_name": "DescriptionStyleModel",
      "state": {
       "description_width": ""
      }
     },
     "4f13f06d5de04d578f3382bf75e6f940": {
      "model_module": "@jupyter-widgets/base",
      "model_module_version": "2.0.0",
      "model_name": "LayoutModel",
      "state": {}
     },
     "52ceb712a5db458dba3c486521aba41e": {
      "model_module": "@jupyter-widgets/base",
      "model_module_version": "2.0.0",
      "model_name": "LayoutModel",
      "state": {}
     },
     "58c625d615224a4f80c522843cd14876": {
      "model_module": "@jupyter-widgets/base",
      "model_module_version": "2.0.0",
      "model_name": "LayoutModel",
      "state": {}
     },
     "611d76195ff04f9d99bd93e73c04a73c": {
      "model_module": "@jupyter-widgets/controls",
      "model_module_version": "2.0.0",
      "model_name": "ButtonModel",
      "state": {
       "description": "OK",
       "layout": "IPY_MODEL_84d14186ad9e48379d6f265a5344ca67",
       "style": "IPY_MODEL_ab8eac3005a54748a4ffcedc29026469",
       "tooltip": null
      }
     },
     "6411498a242e4fb1abf6eb41d10b1f20": {
      "model_module": "@jupyter-widgets/controls",
      "model_module_version": "2.0.0",
      "model_name": "RadioButtonsModel",
      "state": {
       "_options_labels": [
        "fairbook",
        "ml1m",
        "epinion",
        "synthetic"
       ],
       "description": "Choose dataset:",
       "index": 3,
       "layout": "IPY_MODEL_4f13f06d5de04d578f3382bf75e6f940",
       "style": "IPY_MODEL_7a22979a807f4d9db97e812d0c9a6fc6"
      }
     },
     "653a9ca5d3234d24b48d136f8e107f4d": {
      "model_module": "@jupyter-widgets/controls",
      "model_module_version": "2.0.0",
      "model_name": "ButtonStyleModel",
      "state": {
       "font_family": null,
       "font_size": null,
       "font_style": null,
       "font_variant": null,
       "font_weight": null,
       "text_color": null,
       "text_decoration": null
      }
     },
     "7a22979a807f4d9db97e812d0c9a6fc6": {
      "model_module": "@jupyter-widgets/controls",
      "model_module_version": "2.0.0",
      "model_name": "DescriptionStyleModel",
      "state": {
       "description_width": ""
      }
     },
     "84d14186ad9e48379d6f265a5344ca67": {
      "model_module": "@jupyter-widgets/base",
      "model_module_version": "2.0.0",
      "model_name": "LayoutModel",
      "state": {}
     },
     "8d911f5041804b0eb38693ccd64bfdd3": {
      "model_module": "@jupyter-widgets/controls",
      "model_module_version": "2.0.0",
      "model_name": "VBoxModel",
      "state": {
       "children": [
        "IPY_MODEL_c15b3abbfd644ee5bbc544aff479e5f1",
        "IPY_MODEL_fe5048d6e32a40ab81364a898730de7d"
       ],
       "layout": "IPY_MODEL_978a90e669cd4bfea87d03bb1e6c4dde"
      }
     },
     "978a90e669cd4bfea87d03bb1e6c4dde": {
      "model_module": "@jupyter-widgets/base",
      "model_module_version": "2.0.0",
      "model_name": "LayoutModel",
      "state": {
       "display": "block"
      }
     },
     "ab8eac3005a54748a4ffcedc29026469": {
      "model_module": "@jupyter-widgets/controls",
      "model_module_version": "2.0.0",
      "model_name": "ButtonStyleModel",
      "state": {
       "font_family": null,
       "font_size": null,
       "font_style": null,
       "font_variant": null,
       "font_weight": null,
       "text_color": null,
       "text_decoration": null
      }
     },
     "c15b3abbfd644ee5bbc544aff479e5f1": {
      "model_module": "@jupyter-widgets/controls",
      "model_module_version": "2.0.0",
      "model_name": "RadioButtonsModel",
      "state": {
       "_options_labels": [
        "UserKNN",
        "MF"
       ],
       "description": "Choose algorithm:",
       "index": 1,
       "layout": "IPY_MODEL_52ceb712a5db458dba3c486521aba41e",
       "style": "IPY_MODEL_46c79423bf8141e0b02c936426a81fc6"
      }
     },
     "fe5048d6e32a40ab81364a898730de7d": {
      "model_module": "@jupyter-widgets/controls",
      "model_module_version": "2.0.0",
      "model_name": "ButtonModel",
      "state": {
       "description": "OK",
       "layout": "IPY_MODEL_3cafb4e349d4454498cf473e5e280a4c",
       "style": "IPY_MODEL_653a9ca5d3234d24b48d136f8e107f4d",
       "tooltip": null
      }
     }
    },
    "version_major": 2,
    "version_minor": 0
   }
  }
 },
 "nbformat": 4,
 "nbformat_minor": 5
}
