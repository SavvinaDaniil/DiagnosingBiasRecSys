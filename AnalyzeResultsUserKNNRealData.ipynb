{
 "cells": [
  {
   "cell_type": "markdown",
   "id": "2d8ec23c-161c-4aa9-9a16-1bdb42ef18ec",
   "metadata": {},
   "source": [
    "# Libraries"
   ]
  },
  {
   "cell_type": "code",
   "execution_count": 1,
   "id": "ecd4c15b-afb9-413f-9929-97022d39082a",
   "metadata": {},
   "outputs": [],
   "source": [
    "import pickle as pkl\n",
    "import pandas as pd"
   ]
  },
  {
   "cell_type": "code",
   "execution_count": 2,
   "id": "e55f4cc8-0b43-4a68-9b13-d7e7d6923a75",
   "metadata": {},
   "outputs": [],
   "source": [
    "data_strategy = \"ml1m\"  # change depending on which dataset we want to examine"
   ]
  },
  {
   "cell_type": "markdown",
   "id": "fa4db185-77ff-4bc1-875d-320a34a7f297",
   "metadata": {},
   "source": [
    "# Analysis"
   ]
  },
  {
   "cell_type": "markdown",
   "id": "17ccf696",
   "metadata": {},
   "source": [
    "## LKPY"
   ]
  },
  {
   "cell_type": "code",
   "execution_count": 3,
   "id": "bf8eff1e-d908-4f14-8657-3b815f3e44e6",
   "metadata": {},
   "outputs": [],
   "source": [
    "algo_versions = {\n",
    "    \"UserKNN\": [\n",
    "        {\"min_nbrs\": 1, \"min_sim\": 0},\n",
    "        {\"min_nbrs\": 2, \"min_sim\": 0},\n",
    "        # {'min_nbrs':5, 'min_sim':0},\n",
    "        {\"min_nbrs\": 10, \"min_sim\": 0},\n",
    "        {\"min_nbrs\": 1, \"min_sim\": -1},\n",
    "        {\"min_nbrs\": 2, \"min_sim\": -1},\n",
    "        # {'min_nbrs':5, 'min_sim':-1},\n",
    "        {\"min_nbrs\": 10, \"min_sim\": -1},\n",
    "    ],\n",
    "}"
   ]
  },
  {
   "cell_type": "code",
   "execution_count": 4,
   "id": "e360abdc-a2e7-4cf8-956e-d1433d3e79ce",
   "metadata": {},
   "outputs": [],
   "source": [
    "algo_name = \"UserKNN\"\n",
    "versions = algo_versions[algo_name]"
   ]
  },
  {
   "cell_type": "code",
   "execution_count": 5,
   "id": "5297ef9c-0124-4bb0-9447-27097486fc71",
   "metadata": {},
   "outputs": [],
   "source": [
    "file_location = \"experimental_results/\" + algo_name + \"/\""
   ]
  },
  {
   "cell_type": "code",
   "execution_count": 6,
   "id": "11194e69-1514-438f-a189-b455cc08487c",
   "metadata": {},
   "outputs": [],
   "source": [
    "results = []\n",
    "for args in versions:\n",
    "    file = open(file_location + data_strategy + \"_\" + str(args) + \".pkl\", \"rb\")\n",
    "    result = pkl.load(file)\n",
    "    results.append(result)"
   ]
  },
  {
   "cell_type": "code",
   "execution_count": 7,
   "id": "303397f7-f756-49ba-b33b-245e35f853a3",
   "metadata": {},
   "outputs": [],
   "source": [
    "stringed_versions = [str(args) for args in versions]"
   ]
  },
  {
   "cell_type": "code",
   "execution_count": 8,
   "id": "c76e15f8-d565-4c63-9456-3e9854daec28",
   "metadata": {},
   "outputs": [],
   "source": [
    "# Initialize empty lists for the two halves\n",
    "min_nbrs = []\n",
    "min_sim = []\n",
    "\n",
    "# Split the strings and populate the lists\n",
    "for s in stringed_versions:\n",
    "    parts = s.split(\", \")\n",
    "\n",
    "    min_nbrs.append(parts[0].split(\" \")[-1])\n",
    "    min_sim.append(parts[1].split(\" \")[-1].split(\"}\")[0])"
   ]
  },
  {
   "cell_type": "code",
   "execution_count": 9,
   "id": "4a5f08dc",
   "metadata": {},
   "outputs": [],
   "source": [
    "over_common = [\"False\"]"
   ]
  },
  {
   "cell_type": "code",
   "execution_count": 10,
   "id": "5930d035-03be-4863-9ddf-6a437d3552a8",
   "metadata": {},
   "outputs": [],
   "source": [
    "index = pd.MultiIndex.from_product(\n",
    "    [min_sim, min_nbrs, over_common],\n",
    "    names=[\"MinimumSimilarity\", \"MinimumNeighbours\", \"OverCommon\"],\n",
    ").drop_duplicates()"
   ]
  },
  {
   "cell_type": "code",
   "execution_count": 11,
   "id": "7153ea30-78e3-4988-b34e-12e47d9ebe18",
   "metadata": {},
   "outputs": [],
   "source": [
    "results_lkpy = pd.DataFrame(results, index=index)"
   ]
  },
  {
   "cell_type": "code",
   "execution_count": 12,
   "id": "1d60d7ac-5317-4158-bdb0-dffdf5bbaf6f",
   "metadata": {},
   "outputs": [
    {
     "data": {
      "text/html": [
       "<div>\n",
       "<style scoped>\n",
       "    .dataframe tbody tr th:only-of-type {\n",
       "        vertical-align: middle;\n",
       "    }\n",
       "\n",
       "    .dataframe tbody tr th {\n",
       "        vertical-align: top;\n",
       "    }\n",
       "\n",
       "    .dataframe thead th {\n",
       "        text-align: right;\n",
       "    }\n",
       "</style>\n",
       "<table border=\"1\" class=\"dataframe\">\n",
       "  <thead>\n",
       "    <tr style=\"text-align: right;\">\n",
       "      <th></th>\n",
       "      <th></th>\n",
       "      <th></th>\n",
       "      <th>pop_corr</th>\n",
       "      <th>RMSE</th>\n",
       "      <th>NDCG</th>\n",
       "      <th>ARP</th>\n",
       "      <th>ave_PL</th>\n",
       "      <th>ACLT</th>\n",
       "      <th>AggDiv</th>\n",
       "    </tr>\n",
       "    <tr>\n",
       "      <th>MinimumSimilarity</th>\n",
       "      <th>MinimumNeighbours</th>\n",
       "      <th>OverCommon</th>\n",
       "      <th></th>\n",
       "      <th></th>\n",
       "      <th></th>\n",
       "      <th></th>\n",
       "      <th></th>\n",
       "      <th></th>\n",
       "      <th></th>\n",
       "    </tr>\n",
       "  </thead>\n",
       "  <tbody>\n",
       "    <tr>\n",
       "      <th rowspan=\"3\" valign=\"top\">0</th>\n",
       "      <th>1</th>\n",
       "      <th>False</th>\n",
       "      <td>(-0.04977147729479633, 0.002439142361278052)</td>\n",
       "      <td>0.900</td>\n",
       "      <td>0.002671</td>\n",
       "      <td>0.009937</td>\n",
       "      <td>-91.917624</td>\n",
       "      <td>9.753207</td>\n",
       "      <td>0.074204</td>\n",
       "    </tr>\n",
       "    <tr>\n",
       "      <th>2</th>\n",
       "      <th>False</th>\n",
       "      <td>(-0.0030202702476565956, 0.8541678777978053)</td>\n",
       "      <td>0.894</td>\n",
       "      <td>0.012751</td>\n",
       "      <td>0.041055</td>\n",
       "      <td>-67.793998</td>\n",
       "      <td>8.754033</td>\n",
       "      <td>0.109552</td>\n",
       "    </tr>\n",
       "    <tr>\n",
       "      <th>10</th>\n",
       "      <th>False</th>\n",
       "      <td>(0.17569851551417628, 4.454130623006229e-27)</td>\n",
       "      <td>0.898</td>\n",
       "      <td>0.047951</td>\n",
       "      <td>0.169928</td>\n",
       "      <td>21.997285</td>\n",
       "      <td>3.378492</td>\n",
       "      <td>0.109822</td>\n",
       "    </tr>\n",
       "    <tr>\n",
       "      <th rowspan=\"3\" valign=\"top\">-1</th>\n",
       "      <th>1</th>\n",
       "      <th>False</th>\n",
       "      <td>(-0.08195448226452781, 5.857438034683565e-07)</td>\n",
       "      <td>0.906</td>\n",
       "      <td>0.000012</td>\n",
       "      <td>0.000304</td>\n",
       "      <td>-99.782118</td>\n",
       "      <td>9.999834</td>\n",
       "      <td>0.064220</td>\n",
       "    </tr>\n",
       "    <tr>\n",
       "      <th>2</th>\n",
       "      <th>False</th>\n",
       "      <td>(-0.05280191665496846, 0.0013018250786169837)</td>\n",
       "      <td>0.904</td>\n",
       "      <td>0.004332</td>\n",
       "      <td>0.017443</td>\n",
       "      <td>-86.269501</td>\n",
       "      <td>9.537164</td>\n",
       "      <td>0.103076</td>\n",
       "    </tr>\n",
       "    <tr>\n",
       "      <th>10</th>\n",
       "      <th>False</th>\n",
       "      <td>(0.2473077503173118, 9.145543648196975e-53)</td>\n",
       "      <td>0.894</td>\n",
       "      <td>0.055352</td>\n",
       "      <td>0.175437</td>\n",
       "      <td>26.134287</td>\n",
       "      <td>2.757018</td>\n",
       "      <td>0.174582</td>\n",
       "    </tr>\n",
       "  </tbody>\n",
       "</table>\n",
       "</div>"
      ],
      "text/plain": [
       "                                                                                     pop_corr  \\\n",
       "MinimumSimilarity MinimumNeighbours OverCommon                                                  \n",
       "0                 1                 False        (-0.04977147729479633, 0.002439142361278052)   \n",
       "                  2                 False        (-0.0030202702476565956, 0.8541678777978053)   \n",
       "                  10                False        (0.17569851551417628, 4.454130623006229e-27)   \n",
       "-1                1                 False       (-0.08195448226452781, 5.857438034683565e-07)   \n",
       "                  2                 False       (-0.05280191665496846, 0.0013018250786169837)   \n",
       "                  10                False         (0.2473077503173118, 9.145543648196975e-53)   \n",
       "\n",
       "                                                 RMSE      NDCG       ARP  \\\n",
       "MinimumSimilarity MinimumNeighbours OverCommon                              \n",
       "0                 1                 False       0.900  0.002671  0.009937   \n",
       "                  2                 False       0.894  0.012751  0.041055   \n",
       "                  10                False       0.898  0.047951  0.169928   \n",
       "-1                1                 False       0.906  0.000012  0.000304   \n",
       "                  2                 False       0.904  0.004332  0.017443   \n",
       "                  10                False       0.894  0.055352  0.175437   \n",
       "\n",
       "                                                   ave_PL      ACLT    AggDiv  \n",
       "MinimumSimilarity MinimumNeighbours OverCommon                                 \n",
       "0                 1                 False      -91.917624  9.753207  0.074204  \n",
       "                  2                 False      -67.793998  8.754033  0.109552  \n",
       "                  10                False       21.997285  3.378492  0.109822  \n",
       "-1                1                 False      -99.782118  9.999834  0.064220  \n",
       "                  2                 False      -86.269501  9.537164  0.103076  \n",
       "                  10                False       26.134287  2.757018  0.174582  "
      ]
     },
     "execution_count": 12,
     "metadata": {},
     "output_type": "execute_result"
    }
   ],
   "source": [
    "results_lkpy"
   ]
  },
  {
   "cell_type": "code",
   "execution_count": 13,
   "id": "9a24611a-cb9c-4b3e-a459-e6bc678a9bb0",
   "metadata": {},
   "outputs": [],
   "source": [
    "lkpy_detailed_results = []\n",
    "for args in versions:\n",
    "    file = open(file_location + 'detailed_per_item_'+data_strategy + \"_\" + str(args) + \".pkl\", \"rb\")\n",
    "    result = pkl.load(file)\n",
    "    lkpy_detailed_results.append(result)"
   ]
  },
  {
   "cell_type": "markdown",
   "id": "7382a2f4",
   "metadata": {},
   "source": [
    "## Cornac"
   ]
  },
  {
   "cell_type": "code",
   "execution_count": 13,
   "id": "0801dc1e-fea0-43e3-889c-e8f9c0aabe6b",
   "metadata": {},
   "outputs": [],
   "source": [
    "algo_versions = {\n",
    "    \"CornacUserKNN\": [{\"center\": True}],\n",
    "}\n",
    "algo_name = \"CornacUserKNN\""
   ]
  },
  {
   "cell_type": "code",
   "execution_count": 14,
   "id": "13fd52cf",
   "metadata": {},
   "outputs": [],
   "source": [
    "versions = algo_versions[algo_name]"
   ]
  },
  {
   "cell_type": "code",
   "execution_count": 15,
   "id": "1a7006f9",
   "metadata": {},
   "outputs": [],
   "source": [
    "file_location = \"experimental_results/\" + algo_name + \"/\""
   ]
  },
  {
   "cell_type": "code",
   "execution_count": 16,
   "id": "3fac767e",
   "metadata": {},
   "outputs": [],
   "source": [
    "results = []\n",
    "for args in versions:\n",
    "    file = open(file_location + data_strategy + \"_\" + str(args) + \".pkl\", \"rb\")\n",
    "    result = pkl.load(file)\n",
    "    results.append(result)"
   ]
  },
  {
   "cell_type": "code",
   "execution_count": 17,
   "id": "8a1050c9",
   "metadata": {},
   "outputs": [],
   "source": [
    "stringed_versions = [str(args) for args in versions]"
   ]
  },
  {
   "cell_type": "code",
   "execution_count": 18,
   "id": "f64e5f46",
   "metadata": {},
   "outputs": [],
   "source": [
    "# Initialize empty lists for the two halves\n",
    "min_nbrs = []\n",
    "min_sim = []\n",
    "# Split the strings and populate the lists\n",
    "for s in stringed_versions:\n",
    "    parts = s.split(\": \")\n",
    "    min_nbrs.append(parts[-1].split(\"}\")[0])\n",
    "    min_sim.append(\"-1\")"
   ]
  },
  {
   "cell_type": "code",
   "execution_count": 19,
   "id": "6fcdc020",
   "metadata": {},
   "outputs": [],
   "source": [
    "over_common = [\"True\"]"
   ]
  },
  {
   "cell_type": "code",
   "execution_count": 20,
   "id": "dc707b7c",
   "metadata": {},
   "outputs": [],
   "source": [
    "index = pd.MultiIndex.from_product(\n",
    "    [min_sim, min_nbrs, over_common],\n",
    "    names=[\"MinimumSimilarity\", \"MinimumNeighbours\", \"OverCommon\"],\n",
    ").drop_duplicates()"
   ]
  },
  {
   "cell_type": "code",
   "execution_count": 21,
   "id": "d495b94a",
   "metadata": {},
   "outputs": [],
   "source": [
    "results_cornac = pd.DataFrame(results, index=index)"
   ]
  },
  {
   "cell_type": "code",
   "execution_count": 22,
   "id": "77451f34-3825-4b55-9be4-18952f6d23b4",
   "metadata": {},
   "outputs": [],
   "source": [
    "results_cornac.index = results_cornac.index.set_levels(\n",
    "    results_cornac.index.levels[1].str.replace(\"True\", \"1\"), level=1\n",
    ")"
   ]
  },
  {
   "cell_type": "code",
   "execution_count": 23,
   "id": "b649f05a-734c-4f01-9834-27a306271026",
   "metadata": {},
   "outputs": [
    {
     "data": {
      "text/html": [
       "<div>\n",
       "<style scoped>\n",
       "    .dataframe tbody tr th:only-of-type {\n",
       "        vertical-align: middle;\n",
       "    }\n",
       "\n",
       "    .dataframe tbody tr th {\n",
       "        vertical-align: top;\n",
       "    }\n",
       "\n",
       "    .dataframe thead th {\n",
       "        text-align: right;\n",
       "    }\n",
       "</style>\n",
       "<table border=\"1\" class=\"dataframe\">\n",
       "  <thead>\n",
       "    <tr style=\"text-align: right;\">\n",
       "      <th></th>\n",
       "      <th></th>\n",
       "      <th></th>\n",
       "      <th>pop_corr</th>\n",
       "      <th>RMSE</th>\n",
       "      <th>NDCG</th>\n",
       "      <th>ARP</th>\n",
       "      <th>ave_PL</th>\n",
       "      <th>ACLT</th>\n",
       "      <th>AggDiv</th>\n",
       "    </tr>\n",
       "    <tr>\n",
       "      <th>MinimumSimilarity</th>\n",
       "      <th>MinimumNeighbours</th>\n",
       "      <th>OverCommon</th>\n",
       "      <th></th>\n",
       "      <th></th>\n",
       "      <th></th>\n",
       "      <th></th>\n",
       "      <th></th>\n",
       "      <th></th>\n",
       "      <th></th>\n",
       "    </tr>\n",
       "  </thead>\n",
       "  <tbody>\n",
       "    <tr>\n",
       "      <th>-1</th>\n",
       "      <th>1</th>\n",
       "      <th>True</th>\n",
       "      <td>(-0.09327498569759275, 1.2794716660567971e-08)</td>\n",
       "      <td>0.909644</td>\n",
       "      <td>0.000042</td>\n",
       "      <td>0.000375</td>\n",
       "      <td>-99.722348</td>\n",
       "      <td>9.998344</td>\n",
       "      <td>0.066919</td>\n",
       "    </tr>\n",
       "  </tbody>\n",
       "</table>\n",
       "</div>"
      ],
      "text/plain": [
       "                                                                                      pop_corr  \\\n",
       "MinimumSimilarity MinimumNeighbours OverCommon                                                   \n",
       "-1                1                 True        (-0.09327498569759275, 1.2794716660567971e-08)   \n",
       "\n",
       "                                                    RMSE      NDCG       ARP  \\\n",
       "MinimumSimilarity MinimumNeighbours OverCommon                                 \n",
       "-1                1                 True        0.909644  0.000042  0.000375   \n",
       "\n",
       "                                                   ave_PL      ACLT    AggDiv  \n",
       "MinimumSimilarity MinimumNeighbours OverCommon                                 \n",
       "-1                1                 True       -99.722348  9.998344  0.066919  "
      ]
     },
     "execution_count": 23,
     "metadata": {},
     "output_type": "execute_result"
    }
   ],
   "source": [
    "results_cornac"
   ]
  },
  {
   "cell_type": "code",
   "execution_count": 25,
   "id": "143b9818-2b69-4d3d-a178-86ddda483399",
   "metadata": {},
   "outputs": [],
   "source": [
    "cornac_detailed_results = []\n",
    "for args in versions:\n",
    "    file = open(file_location + 'detailed_per_item_'+data_strategy + \"_\" + str(args) + \".pkl\", \"rb\")\n",
    "    result = pkl.load(file)\n",
    "    cornac_detailed_results.append(result)"
   ]
  },
  {
   "cell_type": "markdown",
   "id": "959cae8a",
   "metadata": {},
   "source": [
    "# Merge"
   ]
  },
  {
   "cell_type": "code",
   "execution_count": 24,
   "id": "29bc40a1-9934-4884-ba07-fb17addb278f",
   "metadata": {},
   "outputs": [],
   "source": [
    "user_knn_metrics = (\n",
    "    pd.concat([results_lkpy, results_cornac])\n",
    "    .reset_index()\n",
    "    .sort_values([\"MinimumSimilarity\", \"OverCommon\", \"MinimumNeighbours\"])\n",
    "    .set_index([\"MinimumSimilarity\", \"OverCommon\", \"MinimumNeighbours\"])\n",
    ")"
   ]
  },
  {
   "cell_type": "code",
   "execution_count": 25,
   "id": "f1bcee80-df21-450a-8e4b-9ab2cbdbff4d",
   "metadata": {},
   "outputs": [],
   "source": [
    "metrics_order = [\"pop_corr\", \"ARP\", \"ave_PL\", \"ACLT\", \"AggDiv\", \"RMSE\", \"NDCG\"]\n",
    "user_knn_metrics = user_knn_metrics[metrics_order]"
   ]
  },
  {
   "cell_type": "code",
   "execution_count": 26,
   "id": "6b0e18bf-8d16-4bb8-ab9d-6d3f1d98f758",
   "metadata": {},
   "outputs": [],
   "source": [
    "user_knn_metrics = user_knn_metrics.rename(\n",
    "    columns={\"pop_corr\": \"PopCorr\", \"ave_PL\": \"PL\", \"ACLT\": \"APLT\", \"NDCG\": \"NDCG@10\"}\n",
    ").reindex([\"1\", \"2\", \"5\", \"10\"], level=2)"
   ]
  },
  {
   "cell_type": "code",
   "execution_count": 27,
   "id": "71fde9b7-f55d-4522-a26d-c35fd370e0b1",
   "metadata": {},
   "outputs": [],
   "source": [
    "user_knn_metrics['RealPopCorr'] = user_knn_metrics.PopCorr.apply(lambda x: x[0])\n",
    "user_knn_metrics['Significance'] = user_knn_metrics.PopCorr.apply(lambda x: True if x[1]<0.005 else False)\n",
    "user_knn_metrics['PopCorr'] = user_knn_metrics.RealPopCorr \n",
    "user_knn_metrics = user_knn_metrics.drop('RealPopCorr', axis=1)"
   ]
  },
  {
   "cell_type": "code",
   "execution_count": 28,
   "id": "7ab93ab3-6368-40bb-9c70-7d1a0395ca25",
   "metadata": {},
   "outputs": [
    {
     "data": {
      "text/html": [
       "<div>\n",
       "<style scoped>\n",
       "    .dataframe tbody tr th:only-of-type {\n",
       "        vertical-align: middle;\n",
       "    }\n",
       "\n",
       "    .dataframe tbody tr th {\n",
       "        vertical-align: top;\n",
       "    }\n",
       "\n",
       "    .dataframe thead th {\n",
       "        text-align: right;\n",
       "    }\n",
       "</style>\n",
       "<table border=\"1\" class=\"dataframe\">\n",
       "  <thead>\n",
       "    <tr style=\"text-align: right;\">\n",
       "      <th></th>\n",
       "      <th></th>\n",
       "      <th></th>\n",
       "      <th>PopCorr</th>\n",
       "      <th>ARP</th>\n",
       "      <th>PL</th>\n",
       "      <th>APLT</th>\n",
       "      <th>AggDiv</th>\n",
       "      <th>RMSE</th>\n",
       "      <th>NDCG@10</th>\n",
       "      <th>Significance</th>\n",
       "    </tr>\n",
       "    <tr>\n",
       "      <th>MinimumSimilarity</th>\n",
       "      <th>OverCommon</th>\n",
       "      <th>MinimumNeighbours</th>\n",
       "      <th></th>\n",
       "      <th></th>\n",
       "      <th></th>\n",
       "      <th></th>\n",
       "      <th></th>\n",
       "      <th></th>\n",
       "      <th></th>\n",
       "      <th></th>\n",
       "    </tr>\n",
       "  </thead>\n",
       "  <tbody>\n",
       "    <tr>\n",
       "      <th rowspan=\"4\" valign=\"top\">-1</th>\n",
       "      <th rowspan=\"3\" valign=\"top\">False</th>\n",
       "      <th>1</th>\n",
       "      <td>-0.081954</td>\n",
       "      <td>0.000304</td>\n",
       "      <td>-99.782118</td>\n",
       "      <td>9.999834</td>\n",
       "      <td>0.064220</td>\n",
       "      <td>0.906000</td>\n",
       "      <td>0.000012</td>\n",
       "      <td>True</td>\n",
       "    </tr>\n",
       "    <tr>\n",
       "      <th>2</th>\n",
       "      <td>-0.052802</td>\n",
       "      <td>0.017443</td>\n",
       "      <td>-86.269501</td>\n",
       "      <td>9.537164</td>\n",
       "      <td>0.103076</td>\n",
       "      <td>0.904000</td>\n",
       "      <td>0.004332</td>\n",
       "      <td>True</td>\n",
       "    </tr>\n",
       "    <tr>\n",
       "      <th>10</th>\n",
       "      <td>0.247308</td>\n",
       "      <td>0.175437</td>\n",
       "      <td>26.134287</td>\n",
       "      <td>2.757018</td>\n",
       "      <td>0.174582</td>\n",
       "      <td>0.894000</td>\n",
       "      <td>0.055352</td>\n",
       "      <td>True</td>\n",
       "    </tr>\n",
       "    <tr>\n",
       "      <th>True</th>\n",
       "      <th>1</th>\n",
       "      <td>-0.093275</td>\n",
       "      <td>0.000375</td>\n",
       "      <td>-99.722348</td>\n",
       "      <td>9.998344</td>\n",
       "      <td>0.066919</td>\n",
       "      <td>0.909644</td>\n",
       "      <td>0.000042</td>\n",
       "      <td>True</td>\n",
       "    </tr>\n",
       "    <tr>\n",
       "      <th rowspan=\"3\" valign=\"top\">0</th>\n",
       "      <th rowspan=\"3\" valign=\"top\">False</th>\n",
       "      <th>1</th>\n",
       "      <td>-0.049771</td>\n",
       "      <td>0.009937</td>\n",
       "      <td>-91.917624</td>\n",
       "      <td>9.753207</td>\n",
       "      <td>0.074204</td>\n",
       "      <td>0.900000</td>\n",
       "      <td>0.002671</td>\n",
       "      <td>True</td>\n",
       "    </tr>\n",
       "    <tr>\n",
       "      <th>2</th>\n",
       "      <td>-0.003020</td>\n",
       "      <td>0.041055</td>\n",
       "      <td>-67.793998</td>\n",
       "      <td>8.754033</td>\n",
       "      <td>0.109552</td>\n",
       "      <td>0.894000</td>\n",
       "      <td>0.012751</td>\n",
       "      <td>False</td>\n",
       "    </tr>\n",
       "    <tr>\n",
       "      <th>10</th>\n",
       "      <td>0.175699</td>\n",
       "      <td>0.169928</td>\n",
       "      <td>21.997285</td>\n",
       "      <td>3.378492</td>\n",
       "      <td>0.109822</td>\n",
       "      <td>0.898000</td>\n",
       "      <td>0.047951</td>\n",
       "      <td>True</td>\n",
       "    </tr>\n",
       "  </tbody>\n",
       "</table>\n",
       "</div>"
      ],
      "text/plain": [
       "                                                 PopCorr       ARP         PL  \\\n",
       "MinimumSimilarity OverCommon MinimumNeighbours                                  \n",
       "-1                False      1                 -0.081954  0.000304 -99.782118   \n",
       "                             2                 -0.052802  0.017443 -86.269501   \n",
       "                             10                 0.247308  0.175437  26.134287   \n",
       "                  True       1                 -0.093275  0.000375 -99.722348   \n",
       "0                 False      1                 -0.049771  0.009937 -91.917624   \n",
       "                             2                 -0.003020  0.041055 -67.793998   \n",
       "                             10                 0.175699  0.169928  21.997285   \n",
       "\n",
       "                                                    APLT    AggDiv      RMSE  \\\n",
       "MinimumSimilarity OverCommon MinimumNeighbours                                 \n",
       "-1                False      1                  9.999834  0.064220  0.906000   \n",
       "                             2                  9.537164  0.103076  0.904000   \n",
       "                             10                 2.757018  0.174582  0.894000   \n",
       "                  True       1                  9.998344  0.066919  0.909644   \n",
       "0                 False      1                  9.753207  0.074204  0.900000   \n",
       "                             2                  8.754033  0.109552  0.894000   \n",
       "                             10                 3.378492  0.109822  0.898000   \n",
       "\n",
       "                                                 NDCG@10  Significance  \n",
       "MinimumSimilarity OverCommon MinimumNeighbours                          \n",
       "-1                False      1                  0.000012          True  \n",
       "                             2                  0.004332          True  \n",
       "                             10                 0.055352          True  \n",
       "                  True       1                  0.000042          True  \n",
       "0                 False      1                  0.002671          True  \n",
       "                             2                  0.012751         False  \n",
       "                             10                 0.047951          True  "
      ]
     },
     "execution_count": 28,
     "metadata": {},
     "output_type": "execute_result"
    }
   ],
   "source": [
    "user_knn_metrics"
   ]
  },
  {
   "cell_type": "code",
   "execution_count": 29,
   "id": "c06eadb3",
   "metadata": {},
   "outputs": [
    {
     "name": "stdout",
     "output_type": "stream",
     "text": [
      "\\begin{tabular}{lllrrrrrr}\n",
      "\\toprule\n",
      "  &       &    &  PopCorr &    ARP &      PL &  AggDiv &   RMSE &  NDCG@10 \\\\\n",
      "MinimumSimilarity & OverCommon & MinimumNeighbours &          &        &         &         &        &          \\\\\n",
      "\\midrule\n",
      "-1 & False & 1 &   -0.082 &  0.000 & -99.782 &   0.064 &  0.906 &    0.000 \\\\\n",
      "  &       & 2 &   -0.053 &  0.017 & -86.270 &   0.103 &  0.904 &    0.004 \\\\\n",
      "  &       & 10 &    0.247 &  0.175 &  26.134 &   0.175 &  0.894 &    0.055 \\\\\n",
      "  & True & 1 &   -0.093 &  0.000 & -99.722 &   0.067 &  0.910 &    0.000 \\\\\n",
      "0 & False & 1 &   -0.050 &  0.010 & -91.918 &   0.074 &  0.900 &    0.003 \\\\\n",
      "  &       & 2 &   -0.003 &  0.041 & -67.794 &   0.110 &  0.894 &    0.013 \\\\\n",
      "  &       & 10 &    0.176 &  0.170 &  21.997 &   0.110 &  0.898 &    0.048 \\\\\n",
      "\\bottomrule\n",
      "\\end{tabular}\n",
      "\n"
     ]
    }
   ],
   "source": [
    "print(user_knn_metrics.drop(['APLT','Significance'], axis=1).round(3).to_latex())"
   ]
  },
  {
   "cell_type": "code",
   "execution_count": 30,
   "id": "220d8360-e5cc-4b73-8f5f-abde14855dcc",
   "metadata": {
    "scrolled": true
   },
   "outputs": [],
   "source": [
    "import pickle\n",
    "\n",
    "with open(\"metrics_combined/\"+data_strategy+\"_all_user_knn.pkl\", \"wb\") as f:\n",
    "    pickle.dump(user_knn_metrics.round(3), f)"
   ]
  },
  {
   "cell_type": "markdown",
   "id": "d692c7bf-db4d-4f83-bc1f-61f1feb5f5a2",
   "metadata": {},
   "source": [
    "# Significance tests"
   ]
  },
  {
   "cell_type": "markdown",
   "id": "c4d33fae-a30f-4bd0-8d80-ebc07da91cb7",
   "metadata": {},
   "source": [
    "## 1. Average Recommendation Popularity"
   ]
  },
  {
   "cell_type": "code",
   "execution_count": 31,
   "id": "27f01acf-f27b-41a1-8a75-03e8257db6a8",
   "metadata": {},
   "outputs": [
    {
     "data": {
      "text/plain": [
       "[[         profile  recommendation  average_rating\n",
       "  1       0.060549             6.0       17.228033\n",
       "  2       0.036726             0.0       23.704094\n",
       "  3       0.008663             0.0       12.551282\n",
       "  4       0.012859             0.0       16.756289\n",
       "  5       0.016784            13.0       15.536464\n",
       "  ...          ...             ...             ...\n",
       "  296273  0.000226             0.0       25.000000\n",
       "  296274  0.000226             0.0       25.000000\n",
       "  296275  0.000226             0.0       25.000000\n",
       "  296276  0.000180             0.0       12.000000\n",
       "  296277  0.000226             0.0       25.000000\n",
       "  \n",
       "  [296277 rows x 3 columns]],\n",
       " [         profile  recommendation  average_rating\n",
       "  1       0.060549            12.0       17.228033\n",
       "  2       0.036726             0.0       23.704094\n",
       "  3       0.008663             0.0       12.551282\n",
       "  4       0.012859             1.0       16.756289\n",
       "  5       0.016784            12.0       15.536464\n",
       "  ...          ...             ...             ...\n",
       "  296273  0.000226             0.0       25.000000\n",
       "  296274  0.000226             0.0       25.000000\n",
       "  296275  0.000226             0.0       25.000000\n",
       "  296276  0.000180             0.0       12.000000\n",
       "  296277  0.000226             0.0       25.000000\n",
       "  \n",
       "  [296277 rows x 3 columns]],\n",
       " [         profile  recommendation  average_rating\n",
       "  1       0.060549            16.0       17.228033\n",
       "  2       0.036726             0.0       23.704094\n",
       "  3       0.008663             3.0       12.551282\n",
       "  4       0.012859             0.0       16.756289\n",
       "  5       0.016784            26.0       15.536464\n",
       "  ...          ...             ...             ...\n",
       "  296273  0.000226             0.0       25.000000\n",
       "  296274  0.000226             0.0       25.000000\n",
       "  296275  0.000226             0.0       25.000000\n",
       "  296276  0.000180             0.0       12.000000\n",
       "  296277  0.000226             0.0       25.000000\n",
       "  \n",
       "  [296277 rows x 3 columns]],\n",
       " [         profile  recommendation  average_rating\n",
       "  1       0.060549            36.0       17.228033\n",
       "  2       0.036726             0.0       23.704094\n",
       "  3       0.008663            15.0       12.551282\n",
       "  4       0.012859            18.0       16.756289\n",
       "  5       0.016784            21.0       15.536464\n",
       "  ...          ...             ...             ...\n",
       "  296273  0.000226             0.0       25.000000\n",
       "  296274  0.000226             0.0       25.000000\n",
       "  296275  0.000226             0.0       25.000000\n",
       "  296276  0.000180             0.0       12.000000\n",
       "  296277  0.000226             0.0       25.000000\n",
       "  \n",
       "  [296277 rows x 3 columns]]]"
      ]
     },
     "execution_count": 31,
     "metadata": {},
     "output_type": "execute_result"
    }
   ],
   "source": [
    "lkpy_detailed_results"
   ]
  }
 ],
 "metadata": {
  "kernelspec": {
   "display_name": "Python 3 (ipykernel)",
   "language": "python",
   "name": "python3"
  },
  "language_info": {
   "codemirror_mode": {
    "name": "ipython",
    "version": 3
   },
   "file_extension": ".py",
   "mimetype": "text/x-python",
   "name": "python",
   "nbconvert_exporter": "python",
   "pygments_lexer": "ipython3",
   "version": "3.8.18"
  },
  "vscode": {
   "interpreter": {
    "hash": "1c3278b04384a1f2d1b0bc3e8783905713abb1db8d84b3b69ddff13fab40f022"
   }
  },
  "widgets": {
   "application/vnd.jupyter.widget-state+json": {
    "state": {},
    "version_major": 2,
    "version_minor": 0
   }
  }
 },
 "nbformat": 4,
 "nbformat_minor": 5
}
