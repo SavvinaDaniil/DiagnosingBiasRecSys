{
 "cells": [
  {
   "cell_type": "markdown",
   "id": "2d8ec23c-161c-4aa9-9a16-1bdb42ef18ec",
   "metadata": {},
   "source": [
    "# Libraries"
   ]
  },
  {
   "cell_type": "code",
   "execution_count": 1,
   "id": "ecd4c15b-afb9-413f-9929-97022d39082a",
   "metadata": {},
   "outputs": [],
   "source": [
    "import pickle as pkl\n",
    "import pandas as pd"
   ]
  },
  {
   "cell_type": "code",
   "execution_count": 2,
   "id": "e55f4cc8-0b43-4a68-9b13-d7e7d6923a75",
   "metadata": {},
   "outputs": [],
   "source": [
    "data_strategy = \"fairbook\"  # change depending on which dataset we want to examine"
   ]
  },
  {
   "cell_type": "markdown",
   "id": "fa4db185-77ff-4bc1-875d-320a34a7f297",
   "metadata": {},
   "source": [
    "# Analysis"
   ]
  },
  {
   "cell_type": "markdown",
   "id": "17ccf696",
   "metadata": {},
   "source": [
    "## LKPY"
   ]
  },
  {
   "cell_type": "code",
   "execution_count": 33,
   "id": "bf8eff1e-d908-4f14-8657-3b815f3e44e6",
   "metadata": {},
   "outputs": [],
   "source": [
    "algo_versions = {\n",
    "    \"UserKNN\": [\n",
    "        {\"min_nbrs\": 1, \"min_sim\": 0},\n",
    "        {\"min_nbrs\": 2, \"min_sim\": 0},\n",
    "        # {'min_nbrs':5, 'min_sim':0},\n",
    "        # {\"min_nbrs\": 10, \"min_sim\": 0},\n",
    "        {\"min_nbrs\": 1, \"min_sim\": -1},\n",
    "        {\"min_nbrs\": 2, \"min_sim\": -1},\n",
    "        # {'min_nbrs':5, 'min_sim':-1},\n",
    "        # {\"min_nbrs\": 10, \"min_sim\": -1},\n",
    "    ],\n",
    "}"
   ]
  },
  {
   "cell_type": "code",
   "execution_count": 34,
   "id": "e360abdc-a2e7-4cf8-956e-d1433d3e79ce",
   "metadata": {},
   "outputs": [],
   "source": [
    "algo_name = \"UserKNN\"\n",
    "versions = algo_versions[algo_name]"
   ]
  },
  {
   "cell_type": "code",
   "execution_count": 35,
   "id": "5297ef9c-0124-4bb0-9447-27097486fc71",
   "metadata": {},
   "outputs": [],
   "source": [
    "file_location = \"experimental_results/\" + algo_name + \"/\""
   ]
  },
  {
   "cell_type": "code",
   "execution_count": 36,
   "id": "11194e69-1514-438f-a189-b455cc08487c",
   "metadata": {},
   "outputs": [],
   "source": [
    "results = []\n",
    "for args in versions:\n",
    "    file = open(file_location + data_strategy + \"_\" + str(args) + \".pkl\", \"rb\")\n",
    "    result = pkl.load(file)\n",
    "    results.append(result)"
   ]
  },
  {
   "cell_type": "code",
   "execution_count": 37,
   "id": "303397f7-f756-49ba-b33b-245e35f853a3",
   "metadata": {},
   "outputs": [],
   "source": [
    "stringed_versions = [str(args) for args in versions]"
   ]
  },
  {
   "cell_type": "code",
   "execution_count": 38,
   "id": "c76e15f8-d565-4c63-9456-3e9854daec28",
   "metadata": {},
   "outputs": [],
   "source": [
    "# Initialize empty lists for the two halves\n",
    "min_nbrs = []\n",
    "min_sim = []\n",
    "\n",
    "# Split the strings and populate the lists\n",
    "for s in stringed_versions:\n",
    "    parts = s.split(\", \")\n",
    "\n",
    "    min_nbrs.append(parts[0].split(\" \")[-1])\n",
    "    min_sim.append(parts[1].split(\" \")[-1].split(\"}\")[0])"
   ]
  },
  {
   "cell_type": "code",
   "execution_count": 39,
   "id": "4a5f08dc",
   "metadata": {},
   "outputs": [],
   "source": [
    "over_common = [\"False\"]"
   ]
  },
  {
   "cell_type": "code",
   "execution_count": 40,
   "id": "5930d035-03be-4863-9ddf-6a437d3552a8",
   "metadata": {},
   "outputs": [],
   "source": [
    "index = pd.MultiIndex.from_product(\n",
    "    [min_sim, min_nbrs, over_common],\n",
    "    names=[\"MinimumSimilarity\", \"MinimumNeighbours\", \"OverCommon\"],\n",
    ").drop_duplicates()"
   ]
  },
  {
   "cell_type": "code",
   "execution_count": 41,
   "id": "7153ea30-78e3-4988-b34e-12e47d9ebe18",
   "metadata": {},
   "outputs": [],
   "source": [
    "results_lkpy = pd.DataFrame(results, index=index)"
   ]
  },
  {
   "cell_type": "code",
   "execution_count": 42,
   "id": "1d60d7ac-5317-4158-bdb0-dffdf5bbaf6f",
   "metadata": {},
   "outputs": [
    {
     "data": {
      "text/html": [
       "<div>\n",
       "<style scoped>\n",
       "    .dataframe tbody tr th:only-of-type {\n",
       "        vertical-align: middle;\n",
       "    }\n",
       "\n",
       "    .dataframe tbody tr th {\n",
       "        vertical-align: top;\n",
       "    }\n",
       "\n",
       "    .dataframe thead th {\n",
       "        text-align: right;\n",
       "    }\n",
       "</style>\n",
       "<table border=\"1\" class=\"dataframe\">\n",
       "  <thead>\n",
       "    <tr style=\"text-align: right;\">\n",
       "      <th></th>\n",
       "      <th></th>\n",
       "      <th></th>\n",
       "      <th>pop_corr</th>\n",
       "      <th>RMSE</th>\n",
       "      <th>NDCG</th>\n",
       "      <th>ARP</th>\n",
       "      <th>ave_PL</th>\n",
       "      <th>ACLT</th>\n",
       "      <th>AggDiv</th>\n",
       "    </tr>\n",
       "    <tr>\n",
       "      <th>MinimumSimilarity</th>\n",
       "      <th>MinimumNeighbours</th>\n",
       "      <th>OverCommon</th>\n",
       "      <th></th>\n",
       "      <th></th>\n",
       "      <th></th>\n",
       "      <th></th>\n",
       "      <th></th>\n",
       "      <th></th>\n",
       "      <th></th>\n",
       "    </tr>\n",
       "  </thead>\n",
       "  <tbody>\n",
       "    <tr>\n",
       "      <th rowspan=\"2\" valign=\"top\">0</th>\n",
       "      <th>1</th>\n",
       "      <th>False</th>\n",
       "      <td>(0.0709518452253593, 3.4409373799052483e-09)</td>\n",
       "      <td>1.816</td>\n",
       "      <td>0.001008</td>\n",
       "      <td>0.002605</td>\n",
       "      <td>-17.740110</td>\n",
       "      <td>3.028568</td>\n",
       "      <td>0.318018</td>\n",
       "    </tr>\n",
       "    <tr>\n",
       "      <th>2</th>\n",
       "      <th>False</th>\n",
       "      <td>(0.4464601671014467, 0.0)</td>\n",
       "      <td>1.704</td>\n",
       "      <td>0.005847</td>\n",
       "      <td>0.005293</td>\n",
       "      <td>67.356267</td>\n",
       "      <td>1.223127</td>\n",
       "      <td>0.504407</td>\n",
       "    </tr>\n",
       "    <tr>\n",
       "      <th rowspan=\"2\" valign=\"top\">-1</th>\n",
       "      <th>1</th>\n",
       "      <th>False</th>\n",
       "      <td>(-0.0003114874374997293, 0.9793301180788686)</td>\n",
       "      <td>1.860</td>\n",
       "      <td>0.000529</td>\n",
       "      <td>0.001931</td>\n",
       "      <td>-38.582994</td>\n",
       "      <td>3.947709</td>\n",
       "      <td>0.338535</td>\n",
       "    </tr>\n",
       "    <tr>\n",
       "      <th>2</th>\n",
       "      <th>False</th>\n",
       "      <td>(0.2824592921360292, 4.056414194840436e-127)</td>\n",
       "      <td>1.758</td>\n",
       "      <td>0.003233</td>\n",
       "      <td>0.003457</td>\n",
       "      <td>15.018270</td>\n",
       "      <td>2.019144</td>\n",
       "      <td>0.575928</td>\n",
       "    </tr>\n",
       "  </tbody>\n",
       "</table>\n",
       "</div>"
      ],
      "text/plain": [
       "                                                                                    pop_corr  \\\n",
       "MinimumSimilarity MinimumNeighbours OverCommon                                                 \n",
       "0                 1                 False       (0.0709518452253593, 3.4409373799052483e-09)   \n",
       "                  2                 False                          (0.4464601671014467, 0.0)   \n",
       "-1                1                 False       (-0.0003114874374997293, 0.9793301180788686)   \n",
       "                  2                 False       (0.2824592921360292, 4.056414194840436e-127)   \n",
       "\n",
       "                                                 RMSE      NDCG       ARP  \\\n",
       "MinimumSimilarity MinimumNeighbours OverCommon                              \n",
       "0                 1                 False       1.816  0.001008  0.002605   \n",
       "                  2                 False       1.704  0.005847  0.005293   \n",
       "-1                1                 False       1.860  0.000529  0.001931   \n",
       "                  2                 False       1.758  0.003233  0.003457   \n",
       "\n",
       "                                                   ave_PL      ACLT    AggDiv  \n",
       "MinimumSimilarity MinimumNeighbours OverCommon                                 \n",
       "0                 1                 False      -17.740110  3.028568  0.318018  \n",
       "                  2                 False       67.356267  1.223127  0.504407  \n",
       "-1                1                 False      -38.582994  3.947709  0.338535  \n",
       "                  2                 False       15.018270  2.019144  0.575928  "
      ]
     },
     "execution_count": 42,
     "metadata": {},
     "output_type": "execute_result"
    }
   ],
   "source": [
    "results_lkpy"
   ]
  },
  {
   "cell_type": "code",
   "execution_count": 43,
   "id": "9a24611a-cb9c-4b3e-a459-e6bc678a9bb0",
   "metadata": {},
   "outputs": [],
   "source": [
    "lkpy_detailed_results = []\n",
    "for args in versions:\n",
    "    file = open(file_location + 'detailed_per_item_'+data_strategy + \"_\" + str(args) + \".pkl\", \"rb\")\n",
    "    result = pkl.load(file)\n",
    "    lkpy_detailed_results.append(result)"
   ]
  },
  {
   "cell_type": "markdown",
   "id": "7382a2f4",
   "metadata": {},
   "source": [
    "## Cornac"
   ]
  },
  {
   "cell_type": "code",
   "execution_count": 44,
   "id": "0801dc1e-fea0-43e3-889c-e8f9c0aabe6b",
   "metadata": {},
   "outputs": [],
   "source": [
    "algo_versions = {\n",
    "    \"CornacUserKNN\": [{\"center\": True}],\n",
    "}\n",
    "algo_name = \"CornacUserKNN\""
   ]
  },
  {
   "cell_type": "code",
   "execution_count": 45,
   "id": "13fd52cf",
   "metadata": {},
   "outputs": [],
   "source": [
    "versions = algo_versions[algo_name]"
   ]
  },
  {
   "cell_type": "code",
   "execution_count": 46,
   "id": "1a7006f9",
   "metadata": {},
   "outputs": [],
   "source": [
    "file_location = \"experimental_results/\" + algo_name + \"/\""
   ]
  },
  {
   "cell_type": "code",
   "execution_count": 47,
   "id": "3fac767e",
   "metadata": {},
   "outputs": [],
   "source": [
    "results = []\n",
    "for args in versions:\n",
    "    file = open(file_location + data_strategy + \"_\" + str(args) + \".pkl\", \"rb\")\n",
    "    result = pkl.load(file)\n",
    "    results.append(result)"
   ]
  },
  {
   "cell_type": "code",
   "execution_count": 48,
   "id": "8a1050c9",
   "metadata": {},
   "outputs": [],
   "source": [
    "stringed_versions = [str(args) for args in versions]"
   ]
  },
  {
   "cell_type": "code",
   "execution_count": 49,
   "id": "f64e5f46",
   "metadata": {},
   "outputs": [],
   "source": [
    "# Initialize empty lists for the two halves\n",
    "min_nbrs = []\n",
    "min_sim = []\n",
    "# Split the strings and populate the lists\n",
    "for s in stringed_versions:\n",
    "    parts = s.split(\": \")\n",
    "    min_nbrs.append(parts[-1].split(\"}\")[0])\n",
    "    min_sim.append(\"-1\")"
   ]
  },
  {
   "cell_type": "code",
   "execution_count": 50,
   "id": "6fcdc020",
   "metadata": {},
   "outputs": [],
   "source": [
    "over_common = [\"True\"]"
   ]
  },
  {
   "cell_type": "code",
   "execution_count": 51,
   "id": "dc707b7c",
   "metadata": {},
   "outputs": [],
   "source": [
    "index = pd.MultiIndex.from_product(\n",
    "    [min_sim, min_nbrs, over_common],\n",
    "    names=[\"MinimumSimilarity\", \"MinimumNeighbours\", \"OverCommon\"],\n",
    ").drop_duplicates()"
   ]
  },
  {
   "cell_type": "code",
   "execution_count": 52,
   "id": "d495b94a",
   "metadata": {},
   "outputs": [],
   "source": [
    "results_cornac = pd.DataFrame(results, index=index)"
   ]
  },
  {
   "cell_type": "code",
   "execution_count": 53,
   "id": "77451f34-3825-4b55-9be4-18952f6d23b4",
   "metadata": {},
   "outputs": [],
   "source": [
    "results_cornac.index = results_cornac.index.set_levels(\n",
    "    results_cornac.index.levels[1].str.replace(\"True\", \"1\"), level=1\n",
    ")"
   ]
  },
  {
   "cell_type": "code",
   "execution_count": 54,
   "id": "b649f05a-734c-4f01-9834-27a306271026",
   "metadata": {},
   "outputs": [
    {
     "data": {
      "text/html": [
       "<div>\n",
       "<style scoped>\n",
       "    .dataframe tbody tr th:only-of-type {\n",
       "        vertical-align: middle;\n",
       "    }\n",
       "\n",
       "    .dataframe tbody tr th {\n",
       "        vertical-align: top;\n",
       "    }\n",
       "\n",
       "    .dataframe thead th {\n",
       "        text-align: right;\n",
       "    }\n",
       "</style>\n",
       "<table border=\"1\" class=\"dataframe\">\n",
       "  <thead>\n",
       "    <tr style=\"text-align: right;\">\n",
       "      <th></th>\n",
       "      <th></th>\n",
       "      <th></th>\n",
       "      <th>pop_corr</th>\n",
       "      <th>RMSE</th>\n",
       "      <th>NDCG</th>\n",
       "      <th>ARP</th>\n",
       "      <th>ave_PL</th>\n",
       "      <th>ACLT</th>\n",
       "      <th>AggDiv</th>\n",
       "    </tr>\n",
       "    <tr>\n",
       "      <th>MinimumSimilarity</th>\n",
       "      <th>MinimumNeighbours</th>\n",
       "      <th>OverCommon</th>\n",
       "      <th></th>\n",
       "      <th></th>\n",
       "      <th></th>\n",
       "      <th></th>\n",
       "      <th></th>\n",
       "      <th></th>\n",
       "      <th></th>\n",
       "    </tr>\n",
       "  </thead>\n",
       "  <tbody>\n",
       "    <tr>\n",
       "      <th>-1</th>\n",
       "      <th>1</th>\n",
       "      <th>True</th>\n",
       "      <td>(0.009609258756313608, 0.4241206672736523)</td>\n",
       "      <td>1.738937</td>\n",
       "      <td>0.000609</td>\n",
       "      <td>0.002024</td>\n",
       "      <td>-32.84345</td>\n",
       "      <td>3.938783</td>\n",
       "      <td>0.342292</td>\n",
       "    </tr>\n",
       "  </tbody>\n",
       "</table>\n",
       "</div>"
      ],
      "text/plain": [
       "                                                                                  pop_corr  \\\n",
       "MinimumSimilarity MinimumNeighbours OverCommon                                               \n",
       "-1                1                 True        (0.009609258756313608, 0.4241206672736523)   \n",
       "\n",
       "                                                    RMSE      NDCG       ARP  \\\n",
       "MinimumSimilarity MinimumNeighbours OverCommon                                 \n",
       "-1                1                 True        1.738937  0.000609  0.002024   \n",
       "\n",
       "                                                  ave_PL      ACLT    AggDiv  \n",
       "MinimumSimilarity MinimumNeighbours OverCommon                                \n",
       "-1                1                 True       -32.84345  3.938783  0.342292  "
      ]
     },
     "execution_count": 54,
     "metadata": {},
     "output_type": "execute_result"
    }
   ],
   "source": [
    "results_cornac"
   ]
  },
  {
   "cell_type": "code",
   "execution_count": 55,
   "id": "143b9818-2b69-4d3d-a178-86ddda483399",
   "metadata": {},
   "outputs": [],
   "source": [
    "cornac_detailed_results = []\n",
    "for args in versions:\n",
    "    file = open(file_location + 'detailed_per_item_'+data_strategy + \"_\" + str(args) + \".pkl\", \"rb\")\n",
    "    result = pkl.load(file)\n",
    "    cornac_detailed_results.append(result)"
   ]
  },
  {
   "cell_type": "markdown",
   "id": "959cae8a",
   "metadata": {},
   "source": [
    "# Merge"
   ]
  },
  {
   "cell_type": "code",
   "execution_count": 56,
   "id": "29bc40a1-9934-4884-ba07-fb17addb278f",
   "metadata": {},
   "outputs": [],
   "source": [
    "user_knn_metrics = (\n",
    "    pd.concat([results_lkpy, results_cornac])\n",
    "    .reset_index()\n",
    "    .sort_values([\"MinimumSimilarity\", \"OverCommon\", \"MinimumNeighbours\"])\n",
    "    .set_index([\"MinimumSimilarity\", \"OverCommon\", \"MinimumNeighbours\"])\n",
    ")"
   ]
  },
  {
   "cell_type": "code",
   "execution_count": 57,
   "id": "f1bcee80-df21-450a-8e4b-9ab2cbdbff4d",
   "metadata": {},
   "outputs": [],
   "source": [
    "metrics_order = [\"pop_corr\", \"ARP\", \"ave_PL\", \"ACLT\", \"AggDiv\", \"RMSE\", \"NDCG\"]\n",
    "user_knn_metrics = user_knn_metrics[metrics_order]"
   ]
  },
  {
   "cell_type": "code",
   "execution_count": 58,
   "id": "6b0e18bf-8d16-4bb8-ab9d-6d3f1d98f758",
   "metadata": {},
   "outputs": [],
   "source": [
    "user_knn_metrics = user_knn_metrics.rename(\n",
    "    columns={\"pop_corr\": \"PopCorr\", \"ave_PL\": \"PL\", \"ACLT\": \"APLT\", \"NDCG\": \"NDCG@10\"}\n",
    ").reindex([\"1\", \"2\", \"5\", \"10\"], level=2)"
   ]
  },
  {
   "cell_type": "code",
   "execution_count": 59,
   "id": "c06eadb3",
   "metadata": {},
   "outputs": [
    {
     "name": "stdout",
     "output_type": "stream",
     "text": [
      "\\begin{tabular}{llllrrrrr}\n",
      "\\toprule\n",
      "  &       &   &                                       PopCorr &    ARP &      PL &  AggDiv &   RMSE &  NDCG@10 \\\\\n",
      "MinimumSimilarity & OverCommon & MinimumNeighbours &                                               &        &         &         &        &          \\\\\n",
      "\\midrule\n",
      "-1 & False & 1 &  (-0.0003114874374997293, 0.9793301180788686) &  0.002 & -38.583 &   0.339 &  1.860 &    0.001 \\\\\n",
      "  &       & 2 &  (0.2824592921360292, 4.056414194840436e-127) &  0.003 &  15.018 &   0.576 &  1.758 &    0.003 \\\\\n",
      "  & True & 1 &    (0.009609258756313608, 0.4241206672736523) &  0.002 & -32.843 &   0.342 &  1.739 &    0.001 \\\\\n",
      "0 & False & 1 &  (0.0709518452253593, 3.4409373799052483e-09) &  0.003 & -17.740 &   0.318 &  1.816 &    0.001 \\\\\n",
      "  &       & 2 &                     (0.4464601671014467, 0.0) &  0.005 &  67.356 &   0.504 &  1.704 &    0.006 \\\\\n",
      "\\bottomrule\n",
      "\\end{tabular}\n",
      "\n"
     ]
    }
   ],
   "source": [
    "print(user_knn_metrics.drop(\"APLT\", axis=1).round(3).to_latex())"
   ]
  },
  {
   "cell_type": "code",
   "execution_count": 60,
   "id": "220d8360-e5cc-4b73-8f5f-abde14855dcc",
   "metadata": {
    "scrolled": true
   },
   "outputs": [],
   "source": [
    "import pickle\n",
    "\n",
    "with open(\"metrics_combined/\"+data_strategy+\"_all_user_knn.pkl\", \"wb\") as f:\n",
    "    pickle.dump(user_knn_metrics.drop(\"APLT\", axis=1).round(3), f)"
   ]
  },
  {
   "cell_type": "markdown",
   "id": "d692c7bf-db4d-4f83-bc1f-61f1feb5f5a2",
   "metadata": {},
   "source": [
    "# Significance tests"
   ]
  },
  {
   "cell_type": "markdown",
   "id": "c4d33fae-a30f-4bd0-8d80-ebc07da91cb7",
   "metadata": {},
   "source": [
    "## 1. Average Recommendation Popularity"
   ]
  },
  {
   "cell_type": "code",
   "execution_count": 61,
   "id": "27f01acf-f27b-41a1-8a75-03e8257db6a8",
   "metadata": {},
   "outputs": [
    {
     "data": {
      "text/plain": [
       "[[       profile  recommendation  average_rating\n",
       "  0     0.003775             0.0       44.750000\n",
       "  1     0.004561             0.0       50.000000\n",
       "  2     0.003617             0.0       50.000000\n",
       "  3     0.003932             0.0       50.000000\n",
       "  4     0.003775             0.0       50.000000\n",
       "  ...        ...             ...             ...\n",
       "  6916  0.003617             5.0       44.050000\n",
       "  6917  0.003460             0.0       38.200000\n",
       "  6918  0.003460             0.0       39.583333\n",
       "  6919  0.003460             0.0       47.033333\n",
       "  6920  0.003775             0.0       42.900000\n",
       "  \n",
       "  [6921 rows x 3 columns]],\n",
       " [       profile  recommendation  average_rating\n",
       "  0     0.003775             2.0       44.750000\n",
       "  1     0.004561             0.0       50.000000\n",
       "  2     0.003617             0.0       50.000000\n",
       "  3     0.003932             0.0       50.000000\n",
       "  4     0.003775             0.0       50.000000\n",
       "  ...        ...             ...             ...\n",
       "  6916  0.003617             6.0       44.050000\n",
       "  6917  0.003460             0.0       38.200000\n",
       "  6918  0.003460             0.0       39.583333\n",
       "  6919  0.003460             4.0       47.033333\n",
       "  6920  0.003775             0.0       42.900000\n",
       "  \n",
       "  [6921 rows x 3 columns]],\n",
       " [       profile  recommendation  average_rating\n",
       "  0     0.003775             0.0       44.750000\n",
       "  1     0.004561             0.0       50.000000\n",
       "  2     0.003617             0.0       50.000000\n",
       "  3     0.003932             0.0       50.000000\n",
       "  4     0.003775             0.0       50.000000\n",
       "  ...        ...             ...             ...\n",
       "  6916  0.003617             1.0       44.050000\n",
       "  6917  0.003460             0.0       38.200000\n",
       "  6918  0.003460             0.0       39.583333\n",
       "  6919  0.003460             0.0       47.033333\n",
       "  6920  0.003775             0.0       42.900000\n",
       "  \n",
       "  [6921 rows x 3 columns]],\n",
       " [       profile  recommendation  average_rating\n",
       "  0     0.003775             2.0       44.750000\n",
       "  1     0.004561             0.0       50.000000\n",
       "  2     0.003617             0.0       50.000000\n",
       "  3     0.003932             0.0       50.000000\n",
       "  4     0.003775             0.0       50.000000\n",
       "  ...        ...             ...             ...\n",
       "  6916  0.003617             1.0       44.050000\n",
       "  6917  0.003460             0.0       38.200000\n",
       "  6918  0.003460             0.0       39.583333\n",
       "  6919  0.003460             0.0       47.033333\n",
       "  6920  0.003775             0.0       42.900000\n",
       "  \n",
       "  [6921 rows x 3 columns]]]"
      ]
     },
     "execution_count": 61,
     "metadata": {},
     "output_type": "execute_result"
    }
   ],
   "source": [
    "lkpy_detailed_results"
   ]
  },
  {
   "cell_type": "code",
   "execution_count": 30,
   "id": "b197bd5a-2760-45b5-b76a-df8389e06358",
   "metadata": {},
   "outputs": [],
   "source": []
  }
 ],
 "metadata": {
  "kernelspec": {
   "display_name": "Python 3 (ipykernel)",
   "language": "python",
   "name": "python3"
  },
  "language_info": {
   "codemirror_mode": {
    "name": "ipython",
    "version": 3
   },
   "file_extension": ".py",
   "mimetype": "text/x-python",
   "name": "python",
   "nbconvert_exporter": "python",
   "pygments_lexer": "ipython3",
   "version": "3.8.18"
  },
  "vscode": {
   "interpreter": {
    "hash": "1c3278b04384a1f2d1b0bc3e8783905713abb1db8d84b3b69ddff13fab40f022"
   }
  },
  "widgets": {
   "application/vnd.jupyter.widget-state+json": {
    "state": {},
    "version_major": 2,
    "version_minor": 0
   }
  }
 },
 "nbformat": 4,
 "nbformat_minor": 5
}
