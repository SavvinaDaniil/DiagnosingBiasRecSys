{
 "cells": [
  {
   "cell_type": "markdown",
   "id": "2d8ec23c-161c-4aa9-9a16-1bdb42ef18ec",
   "metadata": {},
   "source": [
    "# Libraries"
   ]
  },
  {
   "cell_type": "code",
   "execution_count": 22,
   "id": "ecd4c15b-afb9-413f-9929-97022d39082a",
   "metadata": {},
   "outputs": [],
   "source": [
    "import pickle as pkl\n",
    "import pandas as pd"
   ]
  },
  {
   "cell_type": "code",
   "execution_count": 52,
   "id": "e55f4cc8-0b43-4a68-9b13-d7e7d6923a75",
   "metadata": {},
   "outputs": [],
   "source": [
    "data_strategy = \"ml1m\"  # change depending on which dataset we want to examine"
   ]
  },
  {
   "cell_type": "markdown",
   "id": "fa4db185-77ff-4bc1-875d-320a34a7f297",
   "metadata": {},
   "source": [
    "# Analysis"
   ]
  },
  {
   "cell_type": "markdown",
   "id": "17ccf696",
   "metadata": {},
   "source": [
    "## LKPY"
   ]
  },
  {
   "cell_type": "code",
   "execution_count": 53,
   "id": "bf8eff1e-d908-4f14-8657-3b815f3e44e6",
   "metadata": {},
   "outputs": [],
   "source": [
    "algo_versions = {\n",
    "    \"UserKNN\": [\n",
    "        {\"min_nbrs\": 1, \"min_sim\": 0},\n",
    "        {\"min_nbrs\": 2, \"min_sim\": 0},\n",
    "        # {'min_nbrs':5, 'min_sim':0},\n",
    "        {\"min_nbrs\": 10, \"min_sim\": 0},\n",
    "        {\"min_nbrs\": 1, \"min_sim\": -1},\n",
    "        {\"min_nbrs\": 2, \"min_sim\": -1},\n",
    "        # {'min_nbrs':5, 'min_sim':-1},\n",
    "        {\"min_nbrs\": 10, \"min_sim\": -1},\n",
    "    ],\n",
    "}"
   ]
  },
  {
   "cell_type": "code",
   "execution_count": 54,
   "id": "e360abdc-a2e7-4cf8-956e-d1433d3e79ce",
   "metadata": {},
   "outputs": [],
   "source": [
    "algo_name = \"UserKNN\"\n",
    "versions = algo_versions[algo_name]"
   ]
  },
  {
   "cell_type": "code",
   "execution_count": 55,
   "id": "5297ef9c-0124-4bb0-9447-27097486fc71",
   "metadata": {},
   "outputs": [],
   "source": [
    "file_location = \"experimental_results/\" + algo_name + \"/\""
   ]
  },
  {
   "cell_type": "code",
   "execution_count": 56,
   "id": "11194e69-1514-438f-a189-b455cc08487c",
   "metadata": {},
   "outputs": [],
   "source": [
    "results = []\n",
    "for args in versions:\n",
    "    file = open(file_location + data_strategy + \"_\" + str(args) + \".pkl\", \"rb\")\n",
    "    result = pkl.load(file)\n",
    "    results.append(result)"
   ]
  },
  {
   "cell_type": "code",
   "execution_count": 57,
   "id": "303397f7-f756-49ba-b33b-245e35f853a3",
   "metadata": {},
   "outputs": [],
   "source": [
    "stringed_versions = [str(args) for args in versions]"
   ]
  },
  {
   "cell_type": "code",
   "execution_count": 58,
   "id": "c76e15f8-d565-4c63-9456-3e9854daec28",
   "metadata": {},
   "outputs": [],
   "source": [
    "# Initialize empty lists for the two halves\n",
    "min_nbrs = []\n",
    "min_sim = []\n",
    "\n",
    "# Split the strings and populate the lists\n",
    "for s in stringed_versions:\n",
    "    parts = s.split(\", \")\n",
    "\n",
    "    min_nbrs.append(parts[0].split(\" \")[-1])\n",
    "    min_sim.append(parts[1].split(\" \")[-1].split(\"}\")[0])"
   ]
  },
  {
   "cell_type": "code",
   "execution_count": 59,
   "id": "4a5f08dc",
   "metadata": {},
   "outputs": [],
   "source": [
    "over_common = [\"False\"]"
   ]
  },
  {
   "cell_type": "code",
   "execution_count": 60,
   "id": "5930d035-03be-4863-9ddf-6a437d3552a8",
   "metadata": {},
   "outputs": [],
   "source": [
    "index = pd.MultiIndex.from_product(\n",
    "    [min_sim, min_nbrs, over_common],\n",
    "    names=[\"MinimumSimilarity\", \"MinimumNeighbours\", \"OverCommon\"],\n",
    ").drop_duplicates()"
   ]
  },
  {
   "cell_type": "code",
   "execution_count": 61,
   "id": "7153ea30-78e3-4988-b34e-12e47d9ebe18",
   "metadata": {},
   "outputs": [],
   "source": [
    "results_lkpy = pd.DataFrame(results, index=index)"
   ]
  },
  {
   "cell_type": "code",
   "execution_count": 62,
   "id": "1d60d7ac-5317-4158-bdb0-dffdf5bbaf6f",
   "metadata": {},
   "outputs": [
    {
     "data": {
      "text/html": [
       "<div>\n",
       "<style scoped>\n",
       "    .dataframe tbody tr th:only-of-type {\n",
       "        vertical-align: middle;\n",
       "    }\n",
       "\n",
       "    .dataframe tbody tr th {\n",
       "        vertical-align: top;\n",
       "    }\n",
       "\n",
       "    .dataframe thead th {\n",
       "        text-align: right;\n",
       "    }\n",
       "</style>\n",
       "<table border=\"1\" class=\"dataframe\">\n",
       "  <thead>\n",
       "    <tr style=\"text-align: right;\">\n",
       "      <th></th>\n",
       "      <th></th>\n",
       "      <th></th>\n",
       "      <th>pop_corr</th>\n",
       "      <th>RMSE</th>\n",
       "      <th>NDCG</th>\n",
       "      <th>ARP</th>\n",
       "      <th>ave_PL</th>\n",
       "      <th>ACLT</th>\n",
       "      <th>AggDiv</th>\n",
       "    </tr>\n",
       "    <tr>\n",
       "      <th>MinimumSimilarity</th>\n",
       "      <th>MinimumNeighbours</th>\n",
       "      <th>OverCommon</th>\n",
       "      <th></th>\n",
       "      <th></th>\n",
       "      <th></th>\n",
       "      <th></th>\n",
       "      <th></th>\n",
       "      <th></th>\n",
       "      <th></th>\n",
       "    </tr>\n",
       "  </thead>\n",
       "  <tbody>\n",
       "    <tr>\n",
       "      <th rowspan=\"3\" valign=\"top\">0</th>\n",
       "      <th>1</th>\n",
       "      <th>False</th>\n",
       "      <td>(-0.04977147729479633, 0.002439142361278052)</td>\n",
       "      <td>0.900</td>\n",
       "      <td>0.002671</td>\n",
       "      <td>0.009937</td>\n",
       "      <td>-91.917624</td>\n",
       "      <td>9.753207</td>\n",
       "      <td>0.074204</td>\n",
       "    </tr>\n",
       "    <tr>\n",
       "      <th>2</th>\n",
       "      <th>False</th>\n",
       "      <td>(-0.0030202702476565956, 0.8541678777978053)</td>\n",
       "      <td>0.894</td>\n",
       "      <td>0.012751</td>\n",
       "      <td>0.041055</td>\n",
       "      <td>-67.793998</td>\n",
       "      <td>8.754033</td>\n",
       "      <td>0.109552</td>\n",
       "    </tr>\n",
       "    <tr>\n",
       "      <th>10</th>\n",
       "      <th>False</th>\n",
       "      <td>(0.17569851551417628, 4.454130623006229e-27)</td>\n",
       "      <td>0.898</td>\n",
       "      <td>0.047951</td>\n",
       "      <td>0.169928</td>\n",
       "      <td>21.997285</td>\n",
       "      <td>3.378492</td>\n",
       "      <td>0.109822</td>\n",
       "    </tr>\n",
       "    <tr>\n",
       "      <th rowspan=\"3\" valign=\"top\">-1</th>\n",
       "      <th>1</th>\n",
       "      <th>False</th>\n",
       "      <td>(-0.08195448226452781, 5.857438034683565e-07)</td>\n",
       "      <td>0.906</td>\n",
       "      <td>0.000012</td>\n",
       "      <td>0.000304</td>\n",
       "      <td>-99.782118</td>\n",
       "      <td>9.999834</td>\n",
       "      <td>0.064220</td>\n",
       "    </tr>\n",
       "    <tr>\n",
       "      <th>2</th>\n",
       "      <th>False</th>\n",
       "      <td>(-0.05280191665496846, 0.0013018250786169837)</td>\n",
       "      <td>0.904</td>\n",
       "      <td>0.004332</td>\n",
       "      <td>0.017443</td>\n",
       "      <td>-86.269501</td>\n",
       "      <td>9.537164</td>\n",
       "      <td>0.103076</td>\n",
       "    </tr>\n",
       "    <tr>\n",
       "      <th>10</th>\n",
       "      <th>False</th>\n",
       "      <td>(0.2473077503173118, 9.145543648196975e-53)</td>\n",
       "      <td>0.894</td>\n",
       "      <td>0.055352</td>\n",
       "      <td>0.175437</td>\n",
       "      <td>26.134287</td>\n",
       "      <td>2.757018</td>\n",
       "      <td>0.174582</td>\n",
       "    </tr>\n",
       "  </tbody>\n",
       "</table>\n",
       "</div>"
      ],
      "text/plain": [
       "                                                                                     pop_corr  \\\n",
       "MinimumSimilarity MinimumNeighbours OverCommon                                                  \n",
       "0                 1                 False        (-0.04977147729479633, 0.002439142361278052)   \n",
       "                  2                 False        (-0.0030202702476565956, 0.8541678777978053)   \n",
       "                  10                False        (0.17569851551417628, 4.454130623006229e-27)   \n",
       "-1                1                 False       (-0.08195448226452781, 5.857438034683565e-07)   \n",
       "                  2                 False       (-0.05280191665496846, 0.0013018250786169837)   \n",
       "                  10                False         (0.2473077503173118, 9.145543648196975e-53)   \n",
       "\n",
       "                                                 RMSE      NDCG       ARP  \\\n",
       "MinimumSimilarity MinimumNeighbours OverCommon                              \n",
       "0                 1                 False       0.900  0.002671  0.009937   \n",
       "                  2                 False       0.894  0.012751  0.041055   \n",
       "                  10                False       0.898  0.047951  0.169928   \n",
       "-1                1                 False       0.906  0.000012  0.000304   \n",
       "                  2                 False       0.904  0.004332  0.017443   \n",
       "                  10                False       0.894  0.055352  0.175437   \n",
       "\n",
       "                                                   ave_PL      ACLT    AggDiv  \n",
       "MinimumSimilarity MinimumNeighbours OverCommon                                 \n",
       "0                 1                 False      -91.917624  9.753207  0.074204  \n",
       "                  2                 False      -67.793998  8.754033  0.109552  \n",
       "                  10                False       21.997285  3.378492  0.109822  \n",
       "-1                1                 False      -99.782118  9.999834  0.064220  \n",
       "                  2                 False      -86.269501  9.537164  0.103076  \n",
       "                  10                False       26.134287  2.757018  0.174582  "
      ]
     },
     "execution_count": 62,
     "metadata": {},
     "output_type": "execute_result"
    }
   ],
   "source": [
    "results_lkpy"
   ]
  },
  {
   "cell_type": "markdown",
   "id": "3d6b31f8-e89d-4511-abc1-fdcab26b17c2",
   "metadata": {},
   "source": [
    "Detailed results per item."
   ]
  },
  {
   "cell_type": "code",
   "execution_count": 63,
   "id": "8017fd9d-73d7-4b8a-bf0a-04d25914fc5e",
   "metadata": {},
   "outputs": [],
   "source": [
    "detailed_results = []\n",
    "for args in versions:\n",
    "    file = open(file_location + 'detailed_per_item_'+data_strategy + \"_\" + str(args) + \".pkl\", \"rb\")\n",
    "    result = pkl.load(file)\n",
    "    detailed_results.append(result)\n",
    "    break ### fix when I have all the results"
   ]
  },
  {
   "cell_type": "code",
   "execution_count": 64,
   "id": "fc053155-8f9b-41c7-894e-7c4d4ad1b4ce",
   "metadata": {},
   "outputs": [
    {
     "data": {
      "text/plain": [
       "[       profile  recommendation  average_rating\n",
       " 1     1.651159             0.0       20.743985\n",
       " 2     0.557947             0.0       16.007458\n",
       " 3     0.379801             0.0       15.067607\n",
       " 4     0.134603             0.0       13.696689\n",
       " 5     0.237252             0.0       15.045297\n",
       " ...        ...             ...             ...\n",
       " 3948  0.682285             0.0       18.192093\n",
       " 3949  0.242053             0.0       20.554126\n",
       " 3950  0.043212             0.0       18.396128\n",
       " 3951  0.032119             2.0       19.540293\n",
       " 3952  0.307947             0.0       18.946550\n",
       " \n",
       " [3706 rows x 3 columns]]"
      ]
     },
     "execution_count": 64,
     "metadata": {},
     "output_type": "execute_result"
    }
   ],
   "source": [
    "detailed_results[0]"
   ]
  },
  {
   "cell_type": "markdown",
   "id": "7382a2f4",
   "metadata": {},
   "source": [
    "## Cornac"
   ]
  },
  {
   "cell_type": "code",
   "execution_count": 65,
   "id": "0801dc1e-fea0-43e3-889c-e8f9c0aabe6b",
   "metadata": {},
   "outputs": [],
   "source": [
    "algo_versions = {\n",
    "    \"CornacUserKNN\": [{\"center\": True}],\n",
    "}\n",
    "algo_name = \"CornacUserKNN\""
   ]
  },
  {
   "cell_type": "code",
   "execution_count": 66,
   "id": "13fd52cf",
   "metadata": {},
   "outputs": [],
   "source": [
    "versions = algo_versions[algo_name]"
   ]
  },
  {
   "cell_type": "code",
   "execution_count": 67,
   "id": "1a7006f9",
   "metadata": {},
   "outputs": [],
   "source": [
    "file_location = \"experimental_results/\" + algo_name + \"/\""
   ]
  },
  {
   "cell_type": "code",
   "execution_count": 68,
   "id": "3fac767e",
   "metadata": {},
   "outputs": [],
   "source": [
    "results = []\n",
    "for args in versions:\n",
    "    file = open(file_location + data_strategy + \"_\" + str(args) + \".pkl\", \"rb\")\n",
    "    result = pkl.load(file)\n",
    "    results.append(result)"
   ]
  },
  {
   "cell_type": "code",
   "execution_count": 69,
   "id": "8a1050c9",
   "metadata": {},
   "outputs": [],
   "source": [
    "stringed_versions = [str(args) for args in versions]"
   ]
  },
  {
   "cell_type": "code",
   "execution_count": 70,
   "id": "f64e5f46",
   "metadata": {},
   "outputs": [],
   "source": [
    "# Initialize empty lists for the two halves\n",
    "min_nbrs = []\n",
    "min_sim = []\n",
    "# Split the strings and populate the lists\n",
    "for s in stringed_versions:\n",
    "    parts = s.split(\": \")\n",
    "    min_nbrs.append(parts[-1].split(\"}\")[0])\n",
    "    min_sim.append(\"-1\")"
   ]
  },
  {
   "cell_type": "code",
   "execution_count": 71,
   "id": "6fcdc020",
   "metadata": {},
   "outputs": [],
   "source": [
    "over_common = [\"True\"]"
   ]
  },
  {
   "cell_type": "code",
   "execution_count": 72,
   "id": "dc707b7c",
   "metadata": {},
   "outputs": [],
   "source": [
    "index = pd.MultiIndex.from_product(\n",
    "    [min_sim, min_nbrs, over_common],\n",
    "    names=[\"MinimumSimilarity\", \"MinimumNeighbours\", \"OverCommon\"],\n",
    ").drop_duplicates()"
   ]
  },
  {
   "cell_type": "code",
   "execution_count": 73,
   "id": "d495b94a",
   "metadata": {},
   "outputs": [],
   "source": [
    "results_cornac = pd.DataFrame(results, index=index)"
   ]
  },
  {
   "cell_type": "code",
   "execution_count": 74,
   "id": "77451f34-3825-4b55-9be4-18952f6d23b4",
   "metadata": {},
   "outputs": [],
   "source": [
    "results_cornac.index = results_cornac.index.set_levels(\n",
    "    results_cornac.index.levels[1].str.replace(\"True\", \"1\"), level=1\n",
    ")"
   ]
  },
  {
   "cell_type": "code",
   "execution_count": 75,
   "id": "b649f05a-734c-4f01-9834-27a306271026",
   "metadata": {},
   "outputs": [
    {
     "data": {
      "text/html": [
       "<div>\n",
       "<style scoped>\n",
       "    .dataframe tbody tr th:only-of-type {\n",
       "        vertical-align: middle;\n",
       "    }\n",
       "\n",
       "    .dataframe tbody tr th {\n",
       "        vertical-align: top;\n",
       "    }\n",
       "\n",
       "    .dataframe thead th {\n",
       "        text-align: right;\n",
       "    }\n",
       "</style>\n",
       "<table border=\"1\" class=\"dataframe\">\n",
       "  <thead>\n",
       "    <tr style=\"text-align: right;\">\n",
       "      <th></th>\n",
       "      <th></th>\n",
       "      <th></th>\n",
       "      <th>pop_corr</th>\n",
       "      <th>RMSE</th>\n",
       "      <th>NDCG</th>\n",
       "      <th>ARP</th>\n",
       "      <th>ave_PL</th>\n",
       "      <th>ACLT</th>\n",
       "      <th>AggDiv</th>\n",
       "    </tr>\n",
       "    <tr>\n",
       "      <th>MinimumSimilarity</th>\n",
       "      <th>MinimumNeighbours</th>\n",
       "      <th>OverCommon</th>\n",
       "      <th></th>\n",
       "      <th></th>\n",
       "      <th></th>\n",
       "      <th></th>\n",
       "      <th></th>\n",
       "      <th></th>\n",
       "      <th></th>\n",
       "    </tr>\n",
       "  </thead>\n",
       "  <tbody>\n",
       "    <tr>\n",
       "      <th>-1</th>\n",
       "      <th>1</th>\n",
       "      <th>True</th>\n",
       "      <td>(-0.09327498569759275, 1.2794716660567971e-08)</td>\n",
       "      <td>0.909644</td>\n",
       "      <td>0.000042</td>\n",
       "      <td>0.000375</td>\n",
       "      <td>-99.722348</td>\n",
       "      <td>9.998344</td>\n",
       "      <td>0.066919</td>\n",
       "    </tr>\n",
       "  </tbody>\n",
       "</table>\n",
       "</div>"
      ],
      "text/plain": [
       "                                                                                      pop_corr  \\\n",
       "MinimumSimilarity MinimumNeighbours OverCommon                                                   \n",
       "-1                1                 True        (-0.09327498569759275, 1.2794716660567971e-08)   \n",
       "\n",
       "                                                    RMSE      NDCG       ARP  \\\n",
       "MinimumSimilarity MinimumNeighbours OverCommon                                 \n",
       "-1                1                 True        0.909644  0.000042  0.000375   \n",
       "\n",
       "                                                   ave_PL      ACLT    AggDiv  \n",
       "MinimumSimilarity MinimumNeighbours OverCommon                                 \n",
       "-1                1                 True       -99.722348  9.998344  0.066919  "
      ]
     },
     "execution_count": 75,
     "metadata": {},
     "output_type": "execute_result"
    }
   ],
   "source": [
    "results_cornac"
   ]
  },
  {
   "cell_type": "markdown",
   "id": "959cae8a",
   "metadata": {},
   "source": [
    "# Merge"
   ]
  },
  {
   "cell_type": "code",
   "execution_count": 76,
   "id": "29bc40a1-9934-4884-ba07-fb17addb278f",
   "metadata": {},
   "outputs": [],
   "source": [
    "user_knn_metrics = (\n",
    "    pd.concat([results_lkpy, results_cornac])\n",
    "    .reset_index()\n",
    "    .sort_values([\"MinimumSimilarity\", \"OverCommon\", \"MinimumNeighbours\"])\n",
    "    .set_index([\"MinimumSimilarity\", \"OverCommon\", \"MinimumNeighbours\"])\n",
    ")"
   ]
  },
  {
   "cell_type": "code",
   "execution_count": 77,
   "id": "f1bcee80-df21-450a-8e4b-9ab2cbdbff4d",
   "metadata": {},
   "outputs": [],
   "source": [
    "metrics_order = [\"pop_corr\", \"ARP\", \"ave_PL\", \"ACLT\", \"AggDiv\", \"RMSE\", \"NDCG\"]\n",
    "user_knn_metrics = user_knn_metrics[metrics_order]"
   ]
  },
  {
   "cell_type": "code",
   "execution_count": 78,
   "id": "6b0e18bf-8d16-4bb8-ab9d-6d3f1d98f758",
   "metadata": {},
   "outputs": [],
   "source": [
    "user_knn_metrics = user_knn_metrics.rename(\n",
    "    columns={\"pop_corr\": \"PopCorr\", \"ave_PL\": \"PL\", \"ACLT\": \"APLT\", \"NDCG\": \"NDCG@10\"}\n",
    ").reindex([\"1\", \"2\", \"5\", \"10\"], level=2)"
   ]
  },
  {
   "cell_type": "code",
   "execution_count": 79,
   "id": "c06eadb3",
   "metadata": {},
   "outputs": [
    {
     "name": "stdout",
     "output_type": "stream",
     "text": [
      "\\begin{tabular}{llllrrrrr}\n",
      "\\toprule\n",
      "  &       &    &                                         PopCorr &    ARP &      PL &  AggDiv &   RMSE &  NDCG@10 \\\\\n",
      "MinimumSimilarity & OverCommon & MinimumNeighbours &                                                 &        &         &         &        &          \\\\\n",
      "\\midrule\n",
      "-1 & False & 1 &   (-0.08195448226452781, 5.857438034683565e-07) &  0.000 & -99.782 &   0.064 &  0.906 &    0.000 \\\\\n",
      "  &       & 2 &   (-0.05280191665496846, 0.0013018250786169837) &  0.017 & -86.270 &   0.103 &  0.904 &    0.004 \\\\\n",
      "  &       & 10 &     (0.2473077503173118, 9.145543648196975e-53) &  0.175 &  26.134 &   0.175 &  0.894 &    0.055 \\\\\n",
      "  & True & 1 &  (-0.09327498569759275, 1.2794716660567971e-08) &  0.000 & -99.722 &   0.067 &  0.910 &    0.000 \\\\\n",
      "0 & False & 1 &    (-0.04977147729479633, 0.002439142361278052) &  0.010 & -91.918 &   0.074 &  0.900 &    0.003 \\\\\n",
      "  &       & 2 &    (-0.0030202702476565956, 0.8541678777978053) &  0.041 & -67.794 &   0.110 &  0.894 &    0.013 \\\\\n",
      "  &       & 10 &    (0.17569851551417628, 4.454130623006229e-27) &  0.170 &  21.997 &   0.110 &  0.898 &    0.048 \\\\\n",
      "\\bottomrule\n",
      "\\end{tabular}\n",
      "\n"
     ]
    }
   ],
   "source": [
    "print(user_knn_metrics.drop(\"APLT\", axis=1).round(3).to_latex())"
   ]
  },
  {
   "cell_type": "code",
   "execution_count": 51,
   "id": "220d8360-e5cc-4b73-8f5f-abde14855dcc",
   "metadata": {
    "scrolled": true
   },
   "outputs": [],
   "source": [
    "import pickle\n",
    "\n",
    "with open(\"metrics_combined/ml1m_all_user_knn.pkl\", \"wb\") as f:\n",
    "    pickle.dump(user_knn_metrics.drop(\"APLT\", axis=1).round(3), f)"
   ]
  }
 ],
 "metadata": {
  "kernelspec": {
   "display_name": "Python 3 (ipykernel)",
   "language": "python",
   "name": "python3"
  },
  "language_info": {
   "codemirror_mode": {
    "name": "ipython",
    "version": 3
   },
   "file_extension": ".py",
   "mimetype": "text/x-python",
   "name": "python",
   "nbconvert_exporter": "python",
   "pygments_lexer": "ipython3",
   "version": "3.8.18"
  },
  "vscode": {
   "interpreter": {
    "hash": "1c3278b04384a1f2d1b0bc3e8783905713abb1db8d84b3b69ddff13fab40f022"
   }
  },
  "widgets": {
   "application/vnd.jupyter.widget-state+json": {
    "state": {},
    "version_major": 2,
    "version_minor": 0
   }
  }
 },
 "nbformat": 4,
 "nbformat_minor": 5
}
