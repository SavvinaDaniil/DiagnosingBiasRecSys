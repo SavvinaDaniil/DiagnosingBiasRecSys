{
 "cells": [
  {
   "cell_type": "markdown",
   "id": "2d8ec23c-161c-4aa9-9a16-1bdb42ef18ec",
   "metadata": {},
   "source": [
    "# Libraries"
   ]
  },
  {
   "cell_type": "code",
   "execution_count": null,
   "id": "ecd4c15b-afb9-413f-9929-97022d39082a",
   "metadata": {},
   "outputs": [],
   "source": [
    "import pickle as pkl\n",
    "import pandas as pd"
   ]
  },
  {
   "cell_type": "code",
   "execution_count": null,
   "id": "e55f4cc8-0b43-4a68-9b13-d7e7d6923a75",
   "metadata": {},
   "outputs": [],
   "source": [
    "data_strategy = \"ml1m\"  # change depending on which dataset we want to examine"
   ]
  },
  {
   "cell_type": "markdown",
   "id": "fa4db185-77ff-4bc1-875d-320a34a7f297",
   "metadata": {},
   "source": [
    "# Analysis"
   ]
  },
  {
   "cell_type": "markdown",
   "id": "17ccf696",
   "metadata": {},
   "source": [
    "## LKPY"
   ]
  },
  {
   "cell_type": "code",
   "execution_count": null,
   "id": "bf8eff1e-d908-4f14-8657-3b815f3e44e6",
   "metadata": {},
   "outputs": [],
   "source": [
    "algo_versions = {\n",
    "    \"UserKNN\": [\n",
    "        {\"min_nbrs\": 1, \"min_sim\": 0},\n",
    "        {\"min_nbrs\": 2, \"min_sim\": 0},\n",
    "        # {'min_nbrs':5, 'min_sim':0},\n",
    "        {\"min_nbrs\": 10, \"min_sim\": 0},\n",
    "        {\"min_nbrs\": 1, \"min_sim\": -1},\n",
    "        {\"min_nbrs\": 2, \"min_sim\": -1},\n",
    "        # {'min_nbrs':5, 'min_sim':-1},\n",
    "        {\"min_nbrs\": 10, \"min_sim\": -1},\n",
    "    ],\n",
    "}"
   ]
  },
  {
   "cell_type": "code",
   "execution_count": null,
   "id": "e360abdc-a2e7-4cf8-956e-d1433d3e79ce",
   "metadata": {},
   "outputs": [],
   "source": [
    "algo_name = \"UserKNN\"\n",
    "versions = algo_versions[algo_name]"
   ]
  },
  {
   "cell_type": "code",
   "execution_count": null,
   "id": "5297ef9c-0124-4bb0-9447-27097486fc71",
   "metadata": {},
   "outputs": [],
   "source": [
    "file_location = \"experimental_results/\" + algo_name + \"/\""
   ]
  },
  {
   "cell_type": "code",
   "execution_count": null,
   "id": "11194e69-1514-438f-a189-b455cc08487c",
   "metadata": {},
   "outputs": [],
   "source": [
    "results = []\n",
    "for args in versions:\n",
    "    file = open(file_location + data_strategy + \"_\" + str(args) + \".pkl\", \"rb\")\n",
    "    result = pkl.load(file)\n",
    "    results.append(result)"
   ]
  },
  {
   "cell_type": "code",
   "execution_count": null,
   "id": "303397f7-f756-49ba-b33b-245e35f853a3",
   "metadata": {},
   "outputs": [],
   "source": [
    "stringed_versions = [str(args) for args in versions]"
   ]
  },
  {
   "cell_type": "code",
   "execution_count": null,
   "id": "c76e15f8-d565-4c63-9456-3e9854daec28",
   "metadata": {},
   "outputs": [],
   "source": [
    "# Initialize empty lists for the two halves\n",
    "min_nbrs = []\n",
    "min_sim = []\n",
    "\n",
    "# Split the strings and populate the lists\n",
    "for s in stringed_versions:\n",
    "    parts = s.split(\", \")\n",
    "\n",
    "    min_nbrs.append(parts[0].split(\" \")[-1])\n",
    "    min_sim.append(parts[1].split(\" \")[-1].split(\"}\")[0])"
   ]
  },
  {
   "cell_type": "code",
   "execution_count": null,
   "id": "4a5f08dc",
   "metadata": {},
   "outputs": [],
   "source": [
    "over_common = [\"False\"]"
   ]
  },
  {
   "cell_type": "code",
   "execution_count": null,
   "id": "5930d035-03be-4863-9ddf-6a437d3552a8",
   "metadata": {},
   "outputs": [],
   "source": [
    "index = pd.MultiIndex.from_product(\n",
    "    [min_sim, min_nbrs, over_common],\n",
    "    names=[\"MinimumSimilarity\", \"MinimumNeighbours\", \"OverCommon\"],\n",
    ").drop_duplicates()"
   ]
  },
  {
   "cell_type": "code",
   "execution_count": null,
   "id": "7153ea30-78e3-4988-b34e-12e47d9ebe18",
   "metadata": {},
   "outputs": [],
   "source": [
    "results_lkpy = pd.DataFrame(results, index=index)"
   ]
  },
  {
   "cell_type": "markdown",
   "id": "7382a2f4",
   "metadata": {},
   "source": [
    "## Cornac"
   ]
  },
  {
   "cell_type": "code",
   "execution_count": null,
   "id": "0801dc1e-fea0-43e3-889c-e8f9c0aabe6b",
   "metadata": {},
   "outputs": [],
   "source": [
    "algo_versions = {\n",
    "    \"CornacUserKNN\": [{\"center\": True}],\n",
    "}\n",
    "algo_name = \"CornacUserKNN\""
   ]
  },
  {
   "cell_type": "code",
   "execution_count": null,
   "id": "13fd52cf",
   "metadata": {},
   "outputs": [],
   "source": [
    "versions = algo_versions[algo_name]"
   ]
  },
  {
   "cell_type": "code",
   "execution_count": null,
   "id": "1a7006f9",
   "metadata": {},
   "outputs": [],
   "source": [
    "file_location = \"experimental_results/\" + algo_name + \"/\""
   ]
  },
  {
   "cell_type": "code",
   "execution_count": null,
   "id": "3fac767e",
   "metadata": {},
   "outputs": [],
   "source": [
    "results = []\n",
    "for args in versions:\n",
    "    file = open(file_location + data_strategy + \"_\" + str(args) + \".pkl\", \"rb\")\n",
    "    result = pkl.load(file)\n",
    "    results.append(result)"
   ]
  },
  {
   "cell_type": "code",
   "execution_count": null,
   "id": "8a1050c9",
   "metadata": {},
   "outputs": [],
   "source": [
    "stringed_versions = [str(args) for args in versions]"
   ]
  },
  {
   "cell_type": "code",
   "execution_count": null,
   "id": "f64e5f46",
   "metadata": {},
   "outputs": [],
   "source": [
    "# Initialize empty lists for the two halves\n",
    "min_nbrs = []\n",
    "min_sim = []\n",
    "# Split the strings and populate the lists\n",
    "for s in stringed_versions:\n",
    "    parts = s.split(\": \")\n",
    "    min_nbrs.append(parts[-1].split(\"}\")[0])\n",
    "    min_sim.append(\"-1\")"
   ]
  },
  {
   "cell_type": "code",
   "execution_count": null,
   "id": "6fcdc020",
   "metadata": {},
   "outputs": [],
   "source": [
    "over_common = [\"True\"]"
   ]
  },
  {
   "cell_type": "code",
   "execution_count": null,
   "id": "dc707b7c",
   "metadata": {},
   "outputs": [],
   "source": [
    "index = pd.MultiIndex.from_product(\n",
    "    [min_sim, min_nbrs, over_common],\n",
    "    names=[\"MinimumSimilarity\", \"MinimumNeighbours\", \"OverCommon\"],\n",
    ").drop_duplicates()"
   ]
  },
  {
   "cell_type": "code",
   "execution_count": null,
   "id": "d495b94a",
   "metadata": {},
   "outputs": [],
   "source": [
    "results_cornac = pd.DataFrame(results, index=index)"
   ]
  },
  {
   "cell_type": "code",
   "execution_count": null,
   "id": "77451f34-3825-4b55-9be4-18952f6d23b4",
   "metadata": {},
   "outputs": [],
   "source": [
    "results_cornac.index = results_cornac.index.set_levels(\n",
    "    results_cornac.index.levels[1].str.replace(\"True\", \"1\"), level=1\n",
    ")"
   ]
  },
  {
   "cell_type": "code",
   "execution_count": null,
   "id": "b649f05a-734c-4f01-9834-27a306271026",
   "metadata": {},
   "outputs": [],
   "source": [
    "results_cornac"
   ]
  },
  {
   "cell_type": "markdown",
   "id": "959cae8a",
   "metadata": {},
   "source": [
    "# Merge"
   ]
  },
  {
   "cell_type": "code",
   "execution_count": null,
   "id": "29bc40a1-9934-4884-ba07-fb17addb278f",
   "metadata": {},
   "outputs": [],
   "source": [
    "user_knn_metrics = (\n",
    "    pd.concat([results_lkpy, results_cornac])\n",
    "    .reset_index()\n",
    "    .sort_values([\"MinimumSimilarity\", \"OverCommon\", \"MinimumNeighbours\"])\n",
    "    .set_index([\"MinimumSimilarity\", \"OverCommon\", \"MinimumNeighbours\"])\n",
    ")"
   ]
  },
  {
   "cell_type": "code",
   "execution_count": null,
   "id": "f1bcee80-df21-450a-8e4b-9ab2cbdbff4d",
   "metadata": {},
   "outputs": [],
   "source": [
    "metrics_order = [\"pop_corr\", \"ARP\", \"ave_PL\", \"ACLT\", \"AggDiv\", \"RMSE\", \"NDCG\"]\n",
    "user_knn_metrics = user_knn_metrics[metrics_order]"
   ]
  },
  {
   "cell_type": "code",
   "execution_count": null,
   "id": "6b0e18bf-8d16-4bb8-ab9d-6d3f1d98f758",
   "metadata": {},
   "outputs": [],
   "source": [
    "user_knn_metrics = user_knn_metrics.rename(\n",
    "    columns={\"pop_corr\": \"PopCorr\", \"ave_PL\": \"PL\", \"ACLT\": \"APLT\", \"NDCG\": \"NDCG@10\"}\n",
    ").reindex([\"1\", \"2\", \"5\", \"10\"], level=2)"
   ]
  },
  {
   "cell_type": "code",
   "execution_count": null,
   "id": "c06eadb3",
   "metadata": {},
   "outputs": [],
   "source": [
    "print(user_knn_metrics.drop(\"APLT\", axis=1).round(3).to_latex())"
   ]
  },
  {
   "cell_type": "code",
   "execution_count": null,
   "id": "220d8360-e5cc-4b73-8f5f-abde14855dcc",
   "metadata": {
    "scrolled": true
   },
   "outputs": [],
   "source": [
    "import pickle\n",
    "\n",
    "with open(\"metrics_combined/ml1m_all_user_knn.pkl\", \"wb\") as f:\n",
    "    pickle.dump(user_knn_metrics.drop(\"APLT\", axis=1).round(3), f)"
   ]
  }
 ],
 "metadata": {
  "kernelspec": {
   "display_name": "Python 3 (ipykernel)",
   "language": "python",
   "name": "python3"
  },
  "language_info": {
   "codemirror_mode": {
    "name": "ipython",
    "version": 3
   },
   "file_extension": ".py",
   "mimetype": "text/x-python",
   "name": "python",
   "nbconvert_exporter": "python",
   "pygments_lexer": "ipython3",
   "version": "3.8.18"
  },
  "vscode": {
   "interpreter": {
    "hash": "1c3278b04384a1f2d1b0bc3e8783905713abb1db8d84b3b69ddff13fab40f022"
   }
  }
 },
 "nbformat": 4,
 "nbformat_minor": 5
}
