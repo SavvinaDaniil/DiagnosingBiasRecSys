{
 "cells": [
  {
   "cell_type": "markdown",
   "id": "7477c78d-a41d-40b5-af76-8b980bc540bf",
   "metadata": {},
   "source": [
    "### Import Libraries"
   ]
  },
  {
   "cell_type": "code",
   "execution_count": 2,
   "id": "e364e8c1",
   "metadata": {},
   "outputs": [
    {
     "name": "stdout",
     "output_type": "stream",
     "text": [
      "env: MKL_THREADING_LAYER=tbb\n",
      "env: OPENBLAS_NUM_THREADS=24\n",
      "env: NUMBA_NUM_THREADS=96\n",
      "env: MKL_NUM_THREADS=96\n",
      "env: OMP_NUM_THREADS=1\n"
     ]
    }
   ],
   "source": [
    "import ipywidgets as widgets\n",
    "from IPython.display import display\n",
    "import os\n",
    "import pandas as pd\n",
    "import numpy as np\n",
    "from scipy import io\n",
    "from lib import train"
   ]
  },
  {
   "cell_type": "markdown",
   "id": "46aa7e4e-12be-4383-83d3-d275cca23c06",
   "metadata": {},
   "source": [
    "### Widget"
   ]
  },
  {
   "cell_type": "code",
   "execution_count": 3,
   "id": "9fec6472-4ed9-4944-be9d-f9cab5cd3873",
   "metadata": {},
   "outputs": [],
   "source": [
    "# Define the list of dataset options\n",
    "dataset_options = ['fairbook', 'ml1m', 'epinion', 'synthetic']\n",
    "\n",
    "# Define the list of algorithm options\n",
    "algorithm_options = ['UserKNN', 'MF']\n",
    "\n",
    "# Create a radio button widget for datasets\n",
    "rad_button_dataset = widgets.RadioButtons(\n",
    "    options=dataset_options,\n",
    "    description='Choose dataset:',\n",
    "    disabled=False,\n",
    "    value=None\n",
    ")\n",
    "\n",
    "# Create a radio button widget for algorithms (Initially hidden)\n",
    "rad_button_algorithm = widgets.RadioButtons(\n",
    "    options=algorithm_options,\n",
    "    description='Choose algorithm:',\n",
    "    disabled=False,\n",
    "    value=None\n",
    ")\n",
    "\n",
    "# Create an OK button for dataset selection\n",
    "ok_button_dataset = widgets.Button(\n",
    "    description='OK',\n",
    "    disabled=True\n",
    ")\n",
    "\n",
    "# Create an OK button for algorithm selection (Initially hidden)\n",
    "ok_button_algorithm = widgets.Button(\n",
    "    description='OK',\n",
    "    disabled=True\n",
    ")\n",
    "\n",
    "output_radb = widgets.Output()\n",
    "\n",
    "# VBox container to control the display of the second radio button and OK button\n",
    "algorithm_selection_box = widgets.VBox([rad_button_algorithm, ok_button_algorithm])\n",
    "algorithm_selection_box.layout.display = 'none'  # Initially hidden\n",
    "\n",
    "# Variables to store the selected dataset and algorithm\n",
    "selected_dataset = None\n",
    "selected_algorithm = None\n",
    "\n",
    "# Function to handle the dataset radio button change\n",
    "def on_radio_dataset_change(change):\n",
    "    global selected_dataset\n",
    "    if change['type'] == 'change' and change['name'] == 'value':\n",
    "        selected_dataset = change['new']\n",
    "        ok_button_dataset.disabled = False  # Enable OK button when a dataset is selected\n",
    "\n",
    "# Function to handle the algorithm radio button change\n",
    "def on_radio_algorithm_change(change):\n",
    "    global selected_algorithm\n",
    "    if change['type'] == 'change' and change['name'] == 'value':\n",
    "        selected_algorithm = change['new']\n",
    "        ok_button_algorithm.disabled = False  # Enable OK button when an algorithm is selected\n",
    "\n",
    "# Function to handle the dataset OK button click\n",
    "def on_ok_button_dataset_clicked(b):\n",
    "    global selected_dataset\n",
    "    with output_radb:\n",
    "        output_radb.clear_output()\n",
    "        if selected_dataset:\n",
    "            print(f'Dataset chosen: {selected_dataset}')\n",
    "            # Show the algorithm selection radio button and enable the algorithm OK button\n",
    "            algorithm_selection_box.layout.display = 'block'\n",
    "\n",
    "# Function to handle the algorithm OK button click\n",
    "def on_ok_button_algorithm_clicked(b):\n",
    "    global selected_algorithm\n",
    "    with output_radb:\n",
    "        output_radb.clear_output()\n",
    "        if selected_algorithm:\n",
    "            print(f'Algorithm chosen: {selected_algorithm}')\n",
    "            print(f'Starting process for dataset: {selected_dataset} with algorithm: {selected_algorithm}')\n",
    "            # Trigger the training process here (e.g., train with chosen algorithm and dataset)\n",
    "            train.train(selected_dataset, selected_algorithm)\n",
    "\n",
    "# Attach the functions to the respective widgets\n",
    "rad_button_dataset.observe(on_radio_dataset_change)\n",
    "rad_button_algorithm.observe(on_radio_algorithm_change)\n",
    "ok_button_dataset.on_click(on_ok_button_dataset_clicked)\n",
    "ok_button_algorithm.on_click(on_ok_button_algorithm_clicked)"
   ]
  },
  {
   "cell_type": "markdown",
   "id": "e2f6b623-c99e-4aaf-b0d7-26a9ee0ae98a",
   "metadata": {},
   "source": [
    "### Run"
   ]
  },
  {
   "cell_type": "code",
   "execution_count": 4,
   "id": "93d7c759-e8ce-47d9-ae5f-fadb74c7658c",
   "metadata": {},
   "outputs": [
    {
     "data": {
      "application/vnd.jupyter.widget-view+json": {
       "model_id": "88e3bc9dc8714bb28ea215babf91ca70",
       "version_major": 2,
       "version_minor": 0
      },
      "text/plain": [
       "RadioButtons(description='Choose dataset:', options=('fairbook', 'ml1m', 'epinion', 'synthetic'), value=None)"
      ]
     },
     "metadata": {},
     "output_type": "display_data"
    },
    {
     "data": {
      "application/vnd.jupyter.widget-view+json": {
       "model_id": "001a2c62c8f94232b2c62b9fd93fc516",
       "version_major": 2,
       "version_minor": 0
      },
      "text/plain": [
       "Button(description='OK', disabled=True, style=ButtonStyle())"
      ]
     },
     "metadata": {},
     "output_type": "display_data"
    },
    {
     "data": {
      "application/vnd.jupyter.widget-view+json": {
       "model_id": "76e6e999a00e4313ac5dfb50cca15937",
       "version_major": 2,
       "version_minor": 0
      },
      "text/plain": [
       "Output()"
      ]
     },
     "metadata": {},
     "output_type": "display_data"
    },
    {
     "data": {
      "application/vnd.jupyter.widget-view+json": {
       "model_id": "f37283aabf6d4f59a29a490c78f90862",
       "version_major": 2,
       "version_minor": 0
      },
      "text/plain": [
       "VBox(children=(RadioButtons(description='Choose algorithm:', options=('UserKNN', 'MF'), value=None), Button(de…"
      ]
     },
     "metadata": {},
     "output_type": "display_data"
    }
   ],
   "source": [
    "# Display the dataset radio button and its OK button\n",
    "display(rad_button_dataset, ok_button_dataset, output_radb)\n",
    "\n",
    "# Display the second radio button and OK button for algorithm selection (hidden initially)\n",
    "display(algorithm_selection_box)"
   ]
  }
 ],
 "metadata": {
  "kernelspec": {
   "display_name": "Python 3 (ipykernel)",
   "language": "python",
   "name": "python3"
  },
  "language_info": {
   "codemirror_mode": {
    "name": "ipython",
    "version": 3
   },
   "file_extension": ".py",
   "mimetype": "text/x-python",
   "name": "python",
   "nbconvert_exporter": "python",
   "pygments_lexer": "ipython3",
   "version": "3.8.18"
  },
  "widgets": {
   "application/vnd.jupyter.widget-state+json": {
    "state": {
     "001a2c62c8f94232b2c62b9fd93fc516": {
      "model_module": "@jupyter-widgets/controls",
      "model_module_version": "2.0.0",
      "model_name": "ButtonModel",
      "state": {
       "description": "OK",
       "layout": "IPY_MODEL_33d2a414817041fd97a9eefd952017fb",
       "style": "IPY_MODEL_8cda3291b4f54b2aae7d1d20db67da4f",
       "tooltip": null
      }
     },
     "1357d502efd14d8a9c29ab92e154ac18": {
      "model_module": "@jupyter-widgets/base",
      "model_module_version": "2.0.0",
      "model_name": "LayoutModel",
      "state": {
       "display": "block"
      }
     },
     "2afee3e7c8f04e53983d3e71de34dc67": {
      "model_module": "@jupyter-widgets/base",
      "model_module_version": "2.0.0",
      "model_name": "LayoutModel",
      "state": {}
     },
     "33d2a414817041fd97a9eefd952017fb": {
      "model_module": "@jupyter-widgets/base",
      "model_module_version": "2.0.0",
      "model_name": "LayoutModel",
      "state": {}
     },
     "63819782536d43f2b1601904713c1ba8": {
      "model_module": "@jupyter-widgets/base",
      "model_module_version": "2.0.0",
      "model_name": "LayoutModel",
      "state": {}
     },
     "74a0949110e74859b2a3c50c1b090422": {
      "model_module": "@jupyter-widgets/controls",
      "model_module_version": "2.0.0",
      "model_name": "ButtonModel",
      "state": {
       "description": "OK",
       "layout": "IPY_MODEL_eb9b97f8543f487196a41727afc3ab12",
       "style": "IPY_MODEL_a120bcac762e4f779427a4f50a3714a8",
       "tooltip": null
      }
     },
     "7559b3d73fe8441496b0a334a6e098a3": {
      "model_module": "@jupyter-widgets/controls",
      "model_module_version": "2.0.0",
      "model_name": "DescriptionStyleModel",
      "state": {
       "description_width": ""
      }
     },
     "76e6e999a00e4313ac5dfb50cca15937": {
      "model_module": "@jupyter-widgets/output",
      "model_module_version": "1.0.0",
      "model_name": "OutputModel",
      "state": {
       "layout": "IPY_MODEL_63819782536d43f2b1601904713c1ba8",
       "msg_id": "2381bf44-5101-4b8c-96d2-fd57e038824c",
       "outputs": [
        {
         "name": "stdout",
         "output_type": "stream",
         "text": "Algorithm chosen: UserKNN\nStarting process for dataset: synthetic with algorithm: UserKNN\nuniformly_random\n{'min_nbrs': 1, 'min_sim': 0}\nWe got them already\nnr of longtail 3277\n2.5782848151062154\n"
        }
       ]
      }
     },
     "88e3bc9dc8714bb28ea215babf91ca70": {
      "model_module": "@jupyter-widgets/controls",
      "model_module_version": "2.0.0",
      "model_name": "RadioButtonsModel",
      "state": {
       "_options_labels": [
        "fairbook",
        "ml1m",
        "epinion",
        "synthetic"
       ],
       "description": "Choose dataset:",
       "index": 3,
       "layout": "IPY_MODEL_9a5ceac03f0441998a13fce8e16e7d3e",
       "style": "IPY_MODEL_7559b3d73fe8441496b0a334a6e098a3"
      }
     },
     "8ca7e8d0bf3444a1a1bfbc33ee208238": {
      "model_module": "@jupyter-widgets/controls",
      "model_module_version": "2.0.0",
      "model_name": "DescriptionStyleModel",
      "state": {
       "description_width": ""
      }
     },
     "8cda3291b4f54b2aae7d1d20db67da4f": {
      "model_module": "@jupyter-widgets/controls",
      "model_module_version": "2.0.0",
      "model_name": "ButtonStyleModel",
      "state": {
       "font_family": null,
       "font_size": null,
       "font_style": null,
       "font_variant": null,
       "font_weight": null,
       "text_color": null,
       "text_decoration": null
      }
     },
     "9a5ceac03f0441998a13fce8e16e7d3e": {
      "model_module": "@jupyter-widgets/base",
      "model_module_version": "2.0.0",
      "model_name": "LayoutModel",
      "state": {}
     },
     "a120bcac762e4f779427a4f50a3714a8": {
      "model_module": "@jupyter-widgets/controls",
      "model_module_version": "2.0.0",
      "model_name": "ButtonStyleModel",
      "state": {
       "font_family": null,
       "font_size": null,
       "font_style": null,
       "font_variant": null,
       "font_weight": null,
       "text_color": null,
       "text_decoration": null
      }
     },
     "ac04cd74470740a48f795b61d0e0d4bb": {
      "model_module": "@jupyter-widgets/controls",
      "model_module_version": "2.0.0",
      "model_name": "RadioButtonsModel",
      "state": {
       "_options_labels": [
        "UserKNN",
        "MF"
       ],
       "description": "Choose algorithm:",
       "index": 0,
       "layout": "IPY_MODEL_2afee3e7c8f04e53983d3e71de34dc67",
       "style": "IPY_MODEL_8ca7e8d0bf3444a1a1bfbc33ee208238"
      }
     },
     "eb9b97f8543f487196a41727afc3ab12": {
      "model_module": "@jupyter-widgets/base",
      "model_module_version": "2.0.0",
      "model_name": "LayoutModel",
      "state": {}
     },
     "f37283aabf6d4f59a29a490c78f90862": {
      "model_module": "@jupyter-widgets/controls",
      "model_module_version": "2.0.0",
      "model_name": "VBoxModel",
      "state": {
       "children": [
        "IPY_MODEL_ac04cd74470740a48f795b61d0e0d4bb",
        "IPY_MODEL_74a0949110e74859b2a3c50c1b090422"
       ],
       "layout": "IPY_MODEL_1357d502efd14d8a9c29ab92e154ac18"
      }
     }
    },
    "version_major": 2,
    "version_minor": 0
   }
  }
 },
 "nbformat": 4,
 "nbformat_minor": 5
}
