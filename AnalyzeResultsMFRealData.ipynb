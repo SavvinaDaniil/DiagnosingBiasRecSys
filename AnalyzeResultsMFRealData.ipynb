{
 "cells": [
  {
   "cell_type": "markdown",
   "id": "2d8ec23c-161c-4aa9-9a16-1bdb42ef18ec",
   "metadata": {},
   "source": [
    "# Libraries"
   ]
  },
  {
   "cell_type": "code",
   "execution_count": 1,
   "id": "ecd4c15b-afb9-413f-9929-97022d39082a",
   "metadata": {},
   "outputs": [],
   "source": [
    "import pickle as pkl\n",
    "import pandas as pd"
   ]
  },
  {
   "cell_type": "code",
   "execution_count": 2,
   "id": "99f11284",
   "metadata": {},
   "outputs": [],
   "source": [
    "algo_name = \"MF\"\n",
    "data_strategy = \"ml1m\"  # change depending on which dataset we want to examine"
   ]
  },
  {
   "cell_type": "markdown",
   "id": "fa4db185-77ff-4bc1-875d-320a34a7f297",
   "metadata": {},
   "source": [
    "# Analysis"
   ]
  },
  {
   "cell_type": "markdown",
   "id": "17ccf696",
   "metadata": {},
   "source": [
    "## LKPY"
   ]
  },
  {
   "cell_type": "code",
   "execution_count": 3,
   "id": "933482bc-9819-4cbb-89af-c4d2e20f8168",
   "metadata": {},
   "outputs": [],
   "source": [
    "algo_versions = {\"MF\": [{\"bias\": True}, {\"bias\": False}]}"
   ]
  },
  {
   "cell_type": "code",
   "execution_count": 4,
   "id": "e360abdc-a2e7-4cf8-956e-d1433d3e79ce",
   "metadata": {},
   "outputs": [],
   "source": [
    "versions = algo_versions[algo_name]"
   ]
  },
  {
   "cell_type": "code",
   "execution_count": 5,
   "id": "5297ef9c-0124-4bb0-9447-27097486fc71",
   "metadata": {},
   "outputs": [],
   "source": [
    "file_location = \"experimental_results/\" + algo_name + \"/\""
   ]
  },
  {
   "cell_type": "code",
   "execution_count": 6,
   "id": "11194e69-1514-438f-a189-b455cc08487c",
   "metadata": {},
   "outputs": [],
   "source": [
    "results = []\n",
    "# for data_strategy in data_strategies:\n",
    "for args in versions:\n",
    "    file = open(file_location + data_strategy + \"_\" + str(args) + \".pkl\", \"rb\")\n",
    "    result = pkl.load(file)\n",
    "    results.append(result)"
   ]
  },
  {
   "cell_type": "code",
   "execution_count": 7,
   "id": "303397f7-f756-49ba-b33b-245e35f853a3",
   "metadata": {},
   "outputs": [],
   "source": [
    "stringed_versions = [str(args) for args in versions]"
   ]
  },
  {
   "cell_type": "code",
   "execution_count": 8,
   "id": "c76e15f8-d565-4c63-9456-3e9854daec28",
   "metadata": {},
   "outputs": [],
   "source": [
    "# Initialize empty lists for the two halves\n",
    "bias = []\n",
    "\n",
    "# Split the strings and populate the lists\n",
    "for s in stringed_versions:\n",
    "    parts = s.split(\": \")\n",
    "\n",
    "    bias.append(parts[-1].split(\"}\")[0])"
   ]
  },
  {
   "cell_type": "code",
   "execution_count": 9,
   "id": "f2aef42b-98f2-444e-a7db-5006acaa185a",
   "metadata": {},
   "outputs": [],
   "source": [
    "library = [\"Lenskit\"]"
   ]
  },
  {
   "cell_type": "code",
   "execution_count": 10,
   "id": "e9a05e3c-d61f-4727-86ea-206d4264d456",
   "metadata": {},
   "outputs": [],
   "source": [
    "index = pd.MultiIndex.from_product(\n",
    "    [bias, library], names=[\"Bias\", \"Library\"]\n",
    ").drop_duplicates()"
   ]
  },
  {
   "cell_type": "code",
   "execution_count": 11,
   "id": "7153ea30-78e3-4988-b34e-12e47d9ebe18",
   "metadata": {},
   "outputs": [],
   "source": [
    "results_lkpy = pd.DataFrame(results, index=index)"
   ]
  },
  {
   "cell_type": "code",
   "execution_count": 12,
   "id": "7d7c5d8f-036e-4f93-b01e-a14627672d5b",
   "metadata": {},
   "outputs": [
    {
     "data": {
      "text/html": [
       "<div>\n",
       "<style scoped>\n",
       "    .dataframe tbody tr th:only-of-type {\n",
       "        vertical-align: middle;\n",
       "    }\n",
       "\n",
       "    .dataframe tbody tr th {\n",
       "        vertical-align: top;\n",
       "    }\n",
       "\n",
       "    .dataframe thead th {\n",
       "        text-align: right;\n",
       "    }\n",
       "</style>\n",
       "<table border=\"1\" class=\"dataframe\">\n",
       "  <thead>\n",
       "    <tr style=\"text-align: right;\">\n",
       "      <th></th>\n",
       "      <th></th>\n",
       "      <th>pop_corr</th>\n",
       "      <th>RMSE</th>\n",
       "      <th>NDCG</th>\n",
       "      <th>ARP</th>\n",
       "      <th>ave_PL</th>\n",
       "      <th>ACLT</th>\n",
       "      <th>AggDiv</th>\n",
       "    </tr>\n",
       "    <tr>\n",
       "      <th>Bias</th>\n",
       "      <th>Library</th>\n",
       "      <th></th>\n",
       "      <th></th>\n",
       "      <th></th>\n",
       "      <th></th>\n",
       "      <th></th>\n",
       "      <th></th>\n",
       "      <th></th>\n",
       "    </tr>\n",
       "  </thead>\n",
       "  <tbody>\n",
       "    <tr>\n",
       "      <th>True</th>\n",
       "      <th>Lenskit</th>\n",
       "      <td>(0.18281201180408185, 3.254366339717149e-29)</td>\n",
       "      <td>0.866</td>\n",
       "      <td>0.039624</td>\n",
       "      <td>0.154846</td>\n",
       "      <td>8.191902</td>\n",
       "      <td>3.311589</td>\n",
       "      <td>0.135456</td>\n",
       "    </tr>\n",
       "    <tr>\n",
       "      <th>False</th>\n",
       "      <th>Lenskit</th>\n",
       "      <td>(0.1530897593020129, 7.131834200649564e-21)</td>\n",
       "      <td>0.860</td>\n",
       "      <td>0.037897</td>\n",
       "      <td>0.125644</td>\n",
       "      <td>-14.354416</td>\n",
       "      <td>5.217053</td>\n",
       "      <td>0.189692</td>\n",
       "    </tr>\n",
       "  </tbody>\n",
       "</table>\n",
       "</div>"
      ],
      "text/plain": [
       "                                                   pop_corr   RMSE      NDCG  \\\n",
       "Bias  Library                                                                  \n",
       "True  Lenskit  (0.18281201180408185, 3.254366339717149e-29)  0.866  0.039624   \n",
       "False Lenskit   (0.1530897593020129, 7.131834200649564e-21)  0.860  0.037897   \n",
       "\n",
       "                    ARP     ave_PL      ACLT    AggDiv  \n",
       "Bias  Library                                           \n",
       "True  Lenskit  0.154846   8.191902  3.311589  0.135456  \n",
       "False Lenskit  0.125644 -14.354416  5.217053  0.189692  "
      ]
     },
     "execution_count": 12,
     "metadata": {},
     "output_type": "execute_result"
    }
   ],
   "source": [
    "results_lkpy"
   ]
  },
  {
   "cell_type": "markdown",
   "id": "bfdb321b-2de2-447a-b71b-e4dd2ce8c69d",
   "metadata": {},
   "source": [
    "## Cornac"
   ]
  },
  {
   "cell_type": "code",
   "execution_count": 13,
   "id": "861e8dca-88e5-40ba-a257-5b93e3ecd181",
   "metadata": {},
   "outputs": [],
   "source": [
    "algo_versions = {\"CornacMF\": [{\"bias\": True}, {\"bias\": False}]}\n",
    "algo_name = \"CornacMF\""
   ]
  },
  {
   "cell_type": "code",
   "execution_count": 14,
   "id": "9082f657-c646-4e5f-94ac-e3962c1c9853",
   "metadata": {},
   "outputs": [],
   "source": [
    "versions = algo_versions[algo_name]"
   ]
  },
  {
   "cell_type": "code",
   "execution_count": 15,
   "id": "dfbaec2a-61c7-449e-879b-ca22c29da26f",
   "metadata": {},
   "outputs": [],
   "source": [
    "file_location = \"experimental_results/\" + algo_name + \"/\""
   ]
  },
  {
   "cell_type": "code",
   "execution_count": 16,
   "id": "b503907e-b2ae-4ca7-b704-5d700e174d4e",
   "metadata": {},
   "outputs": [],
   "source": [
    "results = []\n",
    "# for data_strategy in data_strategies:\n",
    "for args in versions:\n",
    "    file = open(file_location + data_strategy + \"_\" + str(args) + \".pkl\", \"rb\")\n",
    "    result = pkl.load(file)\n",
    "    results.append(result)"
   ]
  },
  {
   "cell_type": "code",
   "execution_count": 17,
   "id": "8ad79182-8d24-40ff-8b35-12249d87b95a",
   "metadata": {},
   "outputs": [],
   "source": [
    "stringed_versions = [str(args) for args in versions]"
   ]
  },
  {
   "cell_type": "code",
   "execution_count": 18,
   "id": "16ef32c2-5f30-45f2-8097-8e758a0a1769",
   "metadata": {},
   "outputs": [],
   "source": [
    "# Initialize empty lists for the two halves\n",
    "bias = []\n",
    "\n",
    "# Split the strings and populate the lists\n",
    "for s in stringed_versions:\n",
    "    parts = s.split(\": \")\n",
    "\n",
    "    bias.append(parts[-1].split(\"}\")[0])"
   ]
  },
  {
   "cell_type": "code",
   "execution_count": 19,
   "id": "aafbbd62-f96f-4f72-8208-77db20ced629",
   "metadata": {},
   "outputs": [],
   "source": [
    "library = [\"Cornac\"]"
   ]
  },
  {
   "cell_type": "code",
   "execution_count": 20,
   "id": "bfcf87db-915b-44fe-8cc9-9c33692daccf",
   "metadata": {},
   "outputs": [],
   "source": [
    "index = pd.MultiIndex.from_product(\n",
    "    [bias, library], names=[\"Bias\", \"Library\"]\n",
    ").drop_duplicates()"
   ]
  },
  {
   "cell_type": "code",
   "execution_count": 21,
   "id": "84b59582-c867-4c85-8f9a-7614bf82cd13",
   "metadata": {},
   "outputs": [],
   "source": [
    "results_cornac = pd.DataFrame(results, index=index)"
   ]
  },
  {
   "cell_type": "code",
   "execution_count": 22,
   "id": "6e99f5f7-e411-4217-a46f-8b35f323f2df",
   "metadata": {},
   "outputs": [
    {
     "data": {
      "text/html": [
       "<div>\n",
       "<style scoped>\n",
       "    .dataframe tbody tr th:only-of-type {\n",
       "        vertical-align: middle;\n",
       "    }\n",
       "\n",
       "    .dataframe tbody tr th {\n",
       "        vertical-align: top;\n",
       "    }\n",
       "\n",
       "    .dataframe thead th {\n",
       "        text-align: right;\n",
       "    }\n",
       "</style>\n",
       "<table border=\"1\" class=\"dataframe\">\n",
       "  <thead>\n",
       "    <tr style=\"text-align: right;\">\n",
       "      <th></th>\n",
       "      <th></th>\n",
       "      <th>pop_corr</th>\n",
       "      <th>RMSE</th>\n",
       "      <th>NDCG</th>\n",
       "      <th>ARP</th>\n",
       "      <th>ave_PL</th>\n",
       "      <th>ACLT</th>\n",
       "      <th>AggDiv</th>\n",
       "    </tr>\n",
       "    <tr>\n",
       "      <th>Bias</th>\n",
       "      <th>Library</th>\n",
       "      <th></th>\n",
       "      <th></th>\n",
       "      <th></th>\n",
       "      <th></th>\n",
       "      <th></th>\n",
       "      <th></th>\n",
       "      <th></th>\n",
       "    </tr>\n",
       "  </thead>\n",
       "  <tbody>\n",
       "    <tr>\n",
       "      <th>True</th>\n",
       "      <th>Cornac</th>\n",
       "      <td>(0.23667686838048066, 2.3769418029025756e-48)</td>\n",
       "      <td>0.856338</td>\n",
       "      <td>0.058900</td>\n",
       "      <td>0.191816</td>\n",
       "      <td>35.601525</td>\n",
       "      <td>2.269205</td>\n",
       "      <td>0.104965</td>\n",
       "    </tr>\n",
       "    <tr>\n",
       "      <th>False</th>\n",
       "      <th>Cornac</th>\n",
       "      <td>(0.27121214539452443, 1.7056375151033963e-63)</td>\n",
       "      <td>0.856538</td>\n",
       "      <td>0.064022</td>\n",
       "      <td>0.191648</td>\n",
       "      <td>34.398847</td>\n",
       "      <td>2.581291</td>\n",
       "      <td>0.137615</td>\n",
       "    </tr>\n",
       "  </tbody>\n",
       "</table>\n",
       "</div>"
      ],
      "text/plain": [
       "                                                    pop_corr      RMSE  \\\n",
       "Bias  Library                                                            \n",
       "True  Cornac   (0.23667686838048066, 2.3769418029025756e-48)  0.856338   \n",
       "False Cornac   (0.27121214539452443, 1.7056375151033963e-63)  0.856538   \n",
       "\n",
       "                   NDCG       ARP     ave_PL      ACLT    AggDiv  \n",
       "Bias  Library                                                     \n",
       "True  Cornac   0.058900  0.191816  35.601525  2.269205  0.104965  \n",
       "False Cornac   0.064022  0.191648  34.398847  2.581291  0.137615  "
      ]
     },
     "execution_count": 22,
     "metadata": {},
     "output_type": "execute_result"
    }
   ],
   "source": [
    "results_cornac"
   ]
  },
  {
   "cell_type": "markdown",
   "id": "608960aa-33a5-4acd-829e-90669b7b0f3d",
   "metadata": {},
   "source": [
    "# Merge"
   ]
  },
  {
   "cell_type": "code",
   "execution_count": 23,
   "id": "1023e32c-65df-48fb-b5f4-1a1d1a9dc323",
   "metadata": {},
   "outputs": [],
   "source": [
    "mf_metrics = (\n",
    "    pd.concat([results_lkpy, results_cornac])\n",
    "    .reset_index()\n",
    "    .sort_values([\"Library\", \"Bias\"])\n",
    "    .set_index([\"Library\", \"Bias\"])\n",
    ")"
   ]
  },
  {
   "cell_type": "code",
   "execution_count": 24,
   "id": "6effb8b5-ee18-4b86-b462-d4896dc41fcc",
   "metadata": {},
   "outputs": [],
   "source": [
    "metrics_order = [\"pop_corr\", \"ARP\", \"ave_PL\", \"ACLT\", \"AggDiv\", \"RMSE\", \"NDCG\"]\n",
    "mf_metrics = mf_metrics[metrics_order]"
   ]
  },
  {
   "cell_type": "code",
   "execution_count": 25,
   "id": "84a6e0a5-36e9-47de-9d59-76a84c622e44",
   "metadata": {},
   "outputs": [],
   "source": [
    "mf_metrics = mf_metrics.rename(\n",
    "    columns={\"pop_corr\": \"PopCorr\", \"ave_PL\": \"PL\", \"ACLT\": \"APLT\", \"NDCG\": \"NDCG@10\"}\n",
    ")"
   ]
  },
  {
   "cell_type": "code",
   "execution_count": 26,
   "id": "c34ed802-2f73-4ca8-9ade-2240b8591b63",
   "metadata": {},
   "outputs": [],
   "source": [
    "mf_metrics['RealPopCorr'] = mf_metrics.PopCorr.apply(lambda x: x[0])\n",
    "mf_metrics['Significance'] = mf_metrics.PopCorr.apply(lambda x: True if x[1]<0.005 else False)\n",
    "mf_metrics['PopCorr'] = mf_metrics.RealPopCorr \n",
    "mf_metrics = mf_metrics.drop('RealPopCorr', axis=1)"
   ]
  },
  {
   "cell_type": "code",
   "execution_count": 27,
   "id": "5a0adfec-9e1a-4c79-89b2-77e9ca49054c",
   "metadata": {},
   "outputs": [
    {
     "data": {
      "text/html": [
       "<div>\n",
       "<style scoped>\n",
       "    .dataframe tbody tr th:only-of-type {\n",
       "        vertical-align: middle;\n",
       "    }\n",
       "\n",
       "    .dataframe tbody tr th {\n",
       "        vertical-align: top;\n",
       "    }\n",
       "\n",
       "    .dataframe thead th {\n",
       "        text-align: right;\n",
       "    }\n",
       "</style>\n",
       "<table border=\"1\" class=\"dataframe\">\n",
       "  <thead>\n",
       "    <tr style=\"text-align: right;\">\n",
       "      <th></th>\n",
       "      <th></th>\n",
       "      <th>PopCorr</th>\n",
       "      <th>ARP</th>\n",
       "      <th>PL</th>\n",
       "      <th>APLT</th>\n",
       "      <th>AggDiv</th>\n",
       "      <th>RMSE</th>\n",
       "      <th>NDCG@10</th>\n",
       "      <th>Significance</th>\n",
       "    </tr>\n",
       "    <tr>\n",
       "      <th>Library</th>\n",
       "      <th>Bias</th>\n",
       "      <th></th>\n",
       "      <th></th>\n",
       "      <th></th>\n",
       "      <th></th>\n",
       "      <th></th>\n",
       "      <th></th>\n",
       "      <th></th>\n",
       "      <th></th>\n",
       "    </tr>\n",
       "  </thead>\n",
       "  <tbody>\n",
       "    <tr>\n",
       "      <th rowspan=\"2\" valign=\"top\">Cornac</th>\n",
       "      <th>False</th>\n",
       "      <td>0.271212</td>\n",
       "      <td>0.191648</td>\n",
       "      <td>34.398847</td>\n",
       "      <td>2.581291</td>\n",
       "      <td>0.137615</td>\n",
       "      <td>0.856538</td>\n",
       "      <td>0.064022</td>\n",
       "      <td>True</td>\n",
       "    </tr>\n",
       "    <tr>\n",
       "      <th>True</th>\n",
       "      <td>0.236677</td>\n",
       "      <td>0.191816</td>\n",
       "      <td>35.601525</td>\n",
       "      <td>2.269205</td>\n",
       "      <td>0.104965</td>\n",
       "      <td>0.856338</td>\n",
       "      <td>0.058900</td>\n",
       "      <td>True</td>\n",
       "    </tr>\n",
       "    <tr>\n",
       "      <th rowspan=\"2\" valign=\"top\">Lenskit</th>\n",
       "      <th>False</th>\n",
       "      <td>0.153090</td>\n",
       "      <td>0.125644</td>\n",
       "      <td>-14.354416</td>\n",
       "      <td>5.217053</td>\n",
       "      <td>0.189692</td>\n",
       "      <td>0.860000</td>\n",
       "      <td>0.037897</td>\n",
       "      <td>True</td>\n",
       "    </tr>\n",
       "    <tr>\n",
       "      <th>True</th>\n",
       "      <td>0.182812</td>\n",
       "      <td>0.154846</td>\n",
       "      <td>8.191902</td>\n",
       "      <td>3.311589</td>\n",
       "      <td>0.135456</td>\n",
       "      <td>0.866000</td>\n",
       "      <td>0.039624</td>\n",
       "      <td>True</td>\n",
       "    </tr>\n",
       "  </tbody>\n",
       "</table>\n",
       "</div>"
      ],
      "text/plain": [
       "                PopCorr       ARP         PL      APLT    AggDiv      RMSE  \\\n",
       "Library Bias                                                                 \n",
       "Cornac  False  0.271212  0.191648  34.398847  2.581291  0.137615  0.856538   \n",
       "        True   0.236677  0.191816  35.601525  2.269205  0.104965  0.856338   \n",
       "Lenskit False  0.153090  0.125644 -14.354416  5.217053  0.189692  0.860000   \n",
       "        True   0.182812  0.154846   8.191902  3.311589  0.135456  0.866000   \n",
       "\n",
       "                NDCG@10  Significance  \n",
       "Library Bias                           \n",
       "Cornac  False  0.064022          True  \n",
       "        True   0.058900          True  \n",
       "Lenskit False  0.037897          True  \n",
       "        True   0.039624          True  "
      ]
     },
     "execution_count": 27,
     "metadata": {},
     "output_type": "execute_result"
    }
   ],
   "source": [
    "mf_metrics"
   ]
  },
  {
   "cell_type": "code",
   "execution_count": 28,
   "id": "c5b17ca9-bd9e-4564-98f1-1b53c79054e1",
   "metadata": {},
   "outputs": [
    {
     "name": "stdout",
     "output_type": "stream",
     "text": [
      "\\begin{tabular}{llrrrrrr}\n",
      "\\toprule\n",
      "        &      &  PopCorr &    ARP &      PL &  AggDiv &   RMSE &  NDCG@10 \\\\\n",
      "Library & Bias &          &        &         &         &        &          \\\\\n",
      "\\midrule\n",
      "Cornac & False &    0.271 &  0.192 &  34.399 &   0.138 &  0.857 &    0.064 \\\\\n",
      "        & True &    0.237 &  0.192 &  35.602 &   0.105 &  0.856 &    0.059 \\\\\n",
      "Lenskit & False &    0.153 &  0.126 & -14.354 &   0.190 &  0.860 &    0.038 \\\\\n",
      "        & True &    0.183 &  0.155 &   8.192 &   0.135 &  0.866 &    0.040 \\\\\n",
      "\\bottomrule\n",
      "\\end{tabular}\n",
      "\n"
     ]
    }
   ],
   "source": [
    "print(mf_metrics.drop(['APLT','Significance'], axis=1).round(3).to_latex())"
   ]
  },
  {
   "cell_type": "code",
   "execution_count": 29,
   "id": "1e3874c1-270a-407d-b889-c6c31e7d5d60",
   "metadata": {},
   "outputs": [],
   "source": [
    "import pickle\n",
    "\n",
    "with open(\"metrics_combined/\"+data_strategy+\"_all_mf.pkl\", \"wb\") as f:\n",
    "    pickle.dump(mf_metrics.round(3), f)"
   ]
  }
 ],
 "metadata": {
  "kernelspec": {
   "display_name": "Python 3 (ipykernel)",
   "language": "python",
   "name": "python3"
  },
  "language_info": {
   "codemirror_mode": {
    "name": "ipython",
    "version": 3
   },
   "file_extension": ".py",
   "mimetype": "text/x-python",
   "name": "python",
   "nbconvert_exporter": "python",
   "pygments_lexer": "ipython3",
   "version": "3.8.18"
  },
  "vscode": {
   "interpreter": {
    "hash": "1c3278b04384a1f2d1b0bc3e8783905713abb1db8d84b3b69ddff13fab40f022"
   }
  },
  "widgets": {
   "application/vnd.jupyter.widget-state+json": {
    "state": {},
    "version_major": 2,
    "version_minor": 0
   }
  }
 },
 "nbformat": 4,
 "nbformat_minor": 5
}
