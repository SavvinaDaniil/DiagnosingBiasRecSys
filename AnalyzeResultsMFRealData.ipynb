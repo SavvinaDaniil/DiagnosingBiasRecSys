{
 "cells": [
  {
   "cell_type": "markdown",
   "id": "2d8ec23c-161c-4aa9-9a16-1bdb42ef18ec",
   "metadata": {},
   "source": [
    "# Libraries"
   ]
  },
  {
   "cell_type": "code",
   "execution_count": 50,
   "id": "ecd4c15b-afb9-413f-9929-97022d39082a",
   "metadata": {},
   "outputs": [],
   "source": [
    "import pickle as pkl\n",
    "import pandas as pd"
   ]
  },
  {
   "cell_type": "code",
   "execution_count": 51,
   "id": "99f11284",
   "metadata": {},
   "outputs": [],
   "source": [
    "algo_name = \"MF\"\n",
    "data_strategy = \"fairbook\"  # change depending on which dataset we want to examine"
   ]
  },
  {
   "cell_type": "markdown",
   "id": "fa4db185-77ff-4bc1-875d-320a34a7f297",
   "metadata": {},
   "source": [
    "# Analysis"
   ]
  },
  {
   "cell_type": "markdown",
   "id": "17ccf696",
   "metadata": {},
   "source": [
    "## LKPY"
   ]
  },
  {
   "cell_type": "code",
   "execution_count": 52,
   "id": "933482bc-9819-4cbb-89af-c4d2e20f8168",
   "metadata": {},
   "outputs": [],
   "source": [
    "algo_versions = {\"MF\": [{\"bias\": True}, {\"bias\": False}]}"
   ]
  },
  {
   "cell_type": "code",
   "execution_count": 53,
   "id": "e360abdc-a2e7-4cf8-956e-d1433d3e79ce",
   "metadata": {},
   "outputs": [],
   "source": [
    "versions = algo_versions[algo_name]"
   ]
  },
  {
   "cell_type": "code",
   "execution_count": 54,
   "id": "5297ef9c-0124-4bb0-9447-27097486fc71",
   "metadata": {},
   "outputs": [],
   "source": [
    "file_location = \"experimental_results/\" + algo_name + \"/\""
   ]
  },
  {
   "cell_type": "code",
   "execution_count": 55,
   "id": "11194e69-1514-438f-a189-b455cc08487c",
   "metadata": {},
   "outputs": [],
   "source": [
    "results = []\n",
    "# for data_strategy in data_strategies:\n",
    "for args in versions:\n",
    "    file = open(file_location + data_strategy + \"_\" + str(args) + \".pkl\", \"rb\")\n",
    "    result = pkl.load(file)\n",
    "    results.append(result)"
   ]
  },
  {
   "cell_type": "code",
   "execution_count": 56,
   "id": "303397f7-f756-49ba-b33b-245e35f853a3",
   "metadata": {},
   "outputs": [],
   "source": [
    "stringed_versions = [str(args) for args in versions]"
   ]
  },
  {
   "cell_type": "code",
   "execution_count": 57,
   "id": "c76e15f8-d565-4c63-9456-3e9854daec28",
   "metadata": {},
   "outputs": [],
   "source": [
    "# Initialize empty lists for the two halves\n",
    "bias = []\n",
    "\n",
    "# Split the strings and populate the lists\n",
    "for s in stringed_versions:\n",
    "    parts = s.split(\": \")\n",
    "\n",
    "    bias.append(parts[-1].split(\"}\")[0])"
   ]
  },
  {
   "cell_type": "code",
   "execution_count": 58,
   "id": "f2aef42b-98f2-444e-a7db-5006acaa185a",
   "metadata": {},
   "outputs": [],
   "source": [
    "library = [\"Lenskit\"]"
   ]
  },
  {
   "cell_type": "code",
   "execution_count": 59,
   "id": "e9a05e3c-d61f-4727-86ea-206d4264d456",
   "metadata": {},
   "outputs": [],
   "source": [
    "index = pd.MultiIndex.from_product(\n",
    "    [bias, library], names=[\"Bias\", \"Library\"]\n",
    ").drop_duplicates()"
   ]
  },
  {
   "cell_type": "code",
   "execution_count": 60,
   "id": "7153ea30-78e3-4988-b34e-12e47d9ebe18",
   "metadata": {},
   "outputs": [],
   "source": [
    "results_lkpy = pd.DataFrame(results, index=index)"
   ]
  },
  {
   "cell_type": "markdown",
   "id": "bfdb321b-2de2-447a-b71b-e4dd2ce8c69d",
   "metadata": {},
   "source": [
    "## Cornac"
   ]
  },
  {
   "cell_type": "code",
   "execution_count": 61,
   "id": "861e8dca-88e5-40ba-a257-5b93e3ecd181",
   "metadata": {},
   "outputs": [],
   "source": [
    "algo_versions = {\"CornacMF\": [{\"bias\": True}, {\"bias\": False}]}\n",
    "algo_name = \"CornacMF\""
   ]
  },
  {
   "cell_type": "code",
   "execution_count": 62,
   "id": "9082f657-c646-4e5f-94ac-e3962c1c9853",
   "metadata": {},
   "outputs": [],
   "source": [
    "versions = algo_versions[algo_name]"
   ]
  },
  {
   "cell_type": "code",
   "execution_count": 63,
   "id": "dfbaec2a-61c7-449e-879b-ca22c29da26f",
   "metadata": {},
   "outputs": [],
   "source": [
    "file_location = \"experimental_results/\" + algo_name + \"/\""
   ]
  },
  {
   "cell_type": "code",
   "execution_count": 64,
   "id": "b503907e-b2ae-4ca7-b704-5d700e174d4e",
   "metadata": {},
   "outputs": [],
   "source": [
    "results = []\n",
    "# for data_strategy in data_strategies:\n",
    "for args in versions:\n",
    "    file = open(file_location + data_strategy + \"_\" + str(args) + \".pkl\", \"rb\")\n",
    "    result = pkl.load(file)\n",
    "    results.append(result)"
   ]
  },
  {
   "cell_type": "code",
   "execution_count": 65,
   "id": "8ad79182-8d24-40ff-8b35-12249d87b95a",
   "metadata": {},
   "outputs": [],
   "source": [
    "stringed_versions = [str(args) for args in versions]"
   ]
  },
  {
   "cell_type": "code",
   "execution_count": 66,
   "id": "16ef32c2-5f30-45f2-8097-8e758a0a1769",
   "metadata": {},
   "outputs": [],
   "source": [
    "# Initialize empty lists for the two halves\n",
    "bias = []\n",
    "\n",
    "# Split the strings and populate the lists\n",
    "for s in stringed_versions:\n",
    "    parts = s.split(\": \")\n",
    "\n",
    "    bias.append(parts[-1].split(\"}\")[0])"
   ]
  },
  {
   "cell_type": "code",
   "execution_count": 67,
   "id": "aafbbd62-f96f-4f72-8208-77db20ced629",
   "metadata": {},
   "outputs": [],
   "source": [
    "library = [\"Cornac\"]"
   ]
  },
  {
   "cell_type": "code",
   "execution_count": 68,
   "id": "bfcf87db-915b-44fe-8cc9-9c33692daccf",
   "metadata": {},
   "outputs": [],
   "source": [
    "index = pd.MultiIndex.from_product(\n",
    "    [bias, library], names=[\"Bias\", \"Library\"]\n",
    ").drop_duplicates()"
   ]
  },
  {
   "cell_type": "code",
   "execution_count": 69,
   "id": "84b59582-c867-4c85-8f9a-7614bf82cd13",
   "metadata": {},
   "outputs": [],
   "source": [
    "results_cornac = pd.DataFrame(results, index=index)"
   ]
  },
  {
   "cell_type": "code",
   "execution_count": 70,
   "id": "6e99f5f7-e411-4217-a46f-8b35f323f2df",
   "metadata": {},
   "outputs": [
    {
     "data": {
      "text/html": [
       "<div>\n",
       "<style scoped>\n",
       "    .dataframe tbody tr th:only-of-type {\n",
       "        vertical-align: middle;\n",
       "    }\n",
       "\n",
       "    .dataframe tbody tr th {\n",
       "        vertical-align: top;\n",
       "    }\n",
       "\n",
       "    .dataframe thead th {\n",
       "        text-align: right;\n",
       "    }\n",
       "</style>\n",
       "<table border=\"1\" class=\"dataframe\">\n",
       "  <thead>\n",
       "    <tr style=\"text-align: right;\">\n",
       "      <th></th>\n",
       "      <th></th>\n",
       "      <th>pop_corr</th>\n",
       "      <th>RMSE</th>\n",
       "      <th>NDCG</th>\n",
       "      <th>ARP</th>\n",
       "      <th>ave_PL</th>\n",
       "      <th>ACLT</th>\n",
       "      <th>AggDiv</th>\n",
       "    </tr>\n",
       "    <tr>\n",
       "      <th>Bias</th>\n",
       "      <th>Library</th>\n",
       "      <th></th>\n",
       "      <th></th>\n",
       "      <th></th>\n",
       "      <th></th>\n",
       "      <th></th>\n",
       "      <th></th>\n",
       "      <th></th>\n",
       "    </tr>\n",
       "  </thead>\n",
       "  <tbody>\n",
       "    <tr>\n",
       "      <th>True</th>\n",
       "      <th>Cornac</th>\n",
       "      <td>(0.007876063179982292, 0.5123894845456104)</td>\n",
       "      <td>1.312559</td>\n",
       "      <td>0.009397</td>\n",
       "      <td>0.002267</td>\n",
       "      <td>-37.563355</td>\n",
       "      <td>2.512494</td>\n",
       "      <td>0.251698</td>\n",
       "    </tr>\n",
       "    <tr>\n",
       "      <th>False</th>\n",
       "      <th>Cornac</th>\n",
       "      <td>(-0.01381451360101617, 0.250509873109233)</td>\n",
       "      <td>1.460234</td>\n",
       "      <td>0.000993</td>\n",
       "      <td>0.001456</td>\n",
       "      <td>-61.163727</td>\n",
       "      <td>6.490933</td>\n",
       "      <td>0.173385</td>\n",
       "    </tr>\n",
       "  </tbody>\n",
       "</table>\n",
       "</div>"
      ],
      "text/plain": [
       "                                                 pop_corr      RMSE      NDCG  \\\n",
       "Bias  Library                                                                   \n",
       "True  Cornac   (0.007876063179982292, 0.5123894845456104)  1.312559  0.009397   \n",
       "False Cornac    (-0.01381451360101617, 0.250509873109233)  1.460234  0.000993   \n",
       "\n",
       "                    ARP     ave_PL      ACLT    AggDiv  \n",
       "Bias  Library                                           \n",
       "True  Cornac   0.002267 -37.563355  2.512494  0.251698  \n",
       "False Cornac   0.001456 -61.163727  6.490933  0.173385  "
      ]
     },
     "execution_count": 70,
     "metadata": {},
     "output_type": "execute_result"
    }
   ],
   "source": [
    "results_cornac"
   ]
  },
  {
   "cell_type": "markdown",
   "id": "608960aa-33a5-4acd-829e-90669b7b0f3d",
   "metadata": {},
   "source": [
    "# Merge"
   ]
  },
  {
   "cell_type": "code",
   "execution_count": 71,
   "id": "1023e32c-65df-48fb-b5f4-1a1d1a9dc323",
   "metadata": {},
   "outputs": [],
   "source": [
    "mf_metrics = (\n",
    "    pd.concat([results_lkpy, results_cornac])\n",
    "    .reset_index()\n",
    "    .sort_values([\"Library\", \"Bias\"])\n",
    "    .set_index([\"Library\", \"Bias\"])\n",
    ")"
   ]
  },
  {
   "cell_type": "code",
   "execution_count": 72,
   "id": "6effb8b5-ee18-4b86-b462-d4896dc41fcc",
   "metadata": {},
   "outputs": [],
   "source": [
    "metrics_order = [\"pop_corr\", \"ARP\", \"ave_PL\", \"ACLT\", \"AggDiv\", \"RMSE\", \"NDCG\"]\n",
    "mf_metrics = mf_metrics[metrics_order]"
   ]
  },
  {
   "cell_type": "code",
   "execution_count": 73,
   "id": "84a6e0a5-36e9-47de-9d59-76a84c622e44",
   "metadata": {},
   "outputs": [],
   "source": [
    "mf_metrics = mf_metrics.rename(\n",
    "    columns={\"pop_corr\": \"PopCorr\", \"ave_PL\": \"PL\", \"ACLT\": \"APLT\", \"NDCG\": \"NDCG@10\"}\n",
    ")"
   ]
  },
  {
   "cell_type": "code",
   "execution_count": 74,
   "id": "c5b17ca9-bd9e-4564-98f1-1b53c79054e1",
   "metadata": {},
   "outputs": [
    {
     "name": "stdout",
     "output_type": "stream",
     "text": [
      "\\begin{tabular}{lllrrrrr}\n",
      "\\toprule\n",
      "        &      &                                        PopCorr &    ARP &      PL &  AggDiv &   RMSE &  NDCG@10 \\\\\n",
      "Library & Bias &                                                &        &         &         &        &          \\\\\n",
      "\\midrule\n",
      "Cornac & False &      (-0.01381451360101617, 0.250509873109233) &  0.001 & -61.164 &   0.173 &  1.460 &    0.001 \\\\\n",
      "        & True &     (0.007876063179982292, 0.5123894845456104) &  0.002 & -37.563 &   0.252 &  1.313 &    0.009 \\\\\n",
      "Lenskit & False &    (-0.015301384386933124, 0.2030869873493037) &  0.002 & -59.558 &   0.269 &  1.762 &    0.003 \\\\\n",
      "        & True &  (0.10821060670720456, 1.7610865056903274e-19) &  0.005 &  46.628 &   0.248 &  1.560 &    0.004 \\\\\n",
      "\\bottomrule\n",
      "\\end{tabular}\n",
      "\n"
     ]
    }
   ],
   "source": [
    "print(mf_metrics.drop(\"APLT\", axis=1).round(3).to_latex())"
   ]
  },
  {
   "cell_type": "code",
   "execution_count": 76,
   "id": "1e3874c1-270a-407d-b889-c6c31e7d5d60",
   "metadata": {},
   "outputs": [],
   "source": [
    "import pickle\n",
    "\n",
    "with open(\"metrics_combined/\"+data_strategy+\"_all_mf.pkl\", \"wb\") as f:\n",
    "    pickle.dump(mf_metrics.round(3), f)"
   ]
  }
 ],
 "metadata": {
  "kernelspec": {
   "display_name": "Python 3 (ipykernel)",
   "language": "python",
   "name": "python3"
  },
  "language_info": {
   "codemirror_mode": {
    "name": "ipython",
    "version": 3
   },
   "file_extension": ".py",
   "mimetype": "text/x-python",
   "name": "python",
   "nbconvert_exporter": "python",
   "pygments_lexer": "ipython3",
   "version": "3.8.18"
  },
  "vscode": {
   "interpreter": {
    "hash": "1c3278b04384a1f2d1b0bc3e8783905713abb1db8d84b3b69ddff13fab40f022"
   }
  },
  "widgets": {
   "application/vnd.jupyter.widget-state+json": {
    "state": {},
    "version_major": 2,
    "version_minor": 0
   }
  }
 },
 "nbformat": 4,
 "nbformat_minor": 5
}
