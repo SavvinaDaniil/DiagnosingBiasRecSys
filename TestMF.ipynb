{
 "cells": [
  {
   "cell_type": "code",
   "execution_count": 1,
   "id": "08c92fef-e99f-4d4b-ba0b-fd2d2b93e1a1",
   "metadata": {},
   "outputs": [
    {
     "name": "stdout",
     "output_type": "stream",
     "text": [
      "env: MKL_THREADING_LAYER=tbb\n",
      "env: OPENBLAS_NUM_THREADS=24\n",
      "env: NUMBA_NUM_THREADS=96\n",
      "env: MKL_NUM_THREADS=96\n",
      "env: OMP_NUM_THREADS=1\n"
     ]
    }
   ],
   "source": [
    "%env MKL_THREADING_LAYER=tbb\n",
    "%env OPENBLAS_NUM_THREADS=24\n",
    "%env NUMBA_NUM_THREADS=96\n",
    "%env MKL_NUM_THREADS=96\n",
    "%env OMP_NUM_THREADS=1"
   ]
  },
  {
   "cell_type": "code",
   "execution_count": 16,
   "id": "0fe55703-473d-4072-88cf-304f10fe63fb",
   "metadata": {},
   "outputs": [],
   "source": [
    "import os\n",
    "\n",
    "os.environ[\"MKL_THREADING_LAYER\"] = \"tbb\"\n",
    "os.environ[\"OPENBLAS_NUM_THREADS\"] = \"24\"\n",
    "os.environ[\"NUMBA_NUM_THREADS\"] = \"96\"\n",
    "os.environ[\"MKL_NUM_THREADS\"] = \"96\"\n",
    "os.environ[\"OMP_NUM_THREADS\"] = \"1\"\n",
    "# os.environ['TF_CPP_MIN_LOG_LEVEL'] = '1'\n",
    "# for random generation\n",
    "\n",
    "\n",
    "# basic functions\n",
    "import pandas as pd\n",
    "\n",
    "pd.options.display.max_rows = 100\n",
    "import pickle\n",
    "import scipy\n",
    "\n",
    "# custom-made functions\n",
    "import modelling_mf\n",
    "from optimize_hp import optimize_lkpy, optimize_cornac\n",
    "\n",
    "# lenskit RS library\n",
    "from lenskit.algorithms import als\n",
    "\n",
    "\n",
    "# cornac RS library\n",
    "from cornac.models import MF\n",
    "\n",
    "\n",
    "# cornac RS library\n",
    "import cornac\n",
    "from cornac.eval_methods import BaseMethod\n",
    "from cornac.metrics import RMSE\n",
    "\n",
    "\n",
    "# lenskit RS library\n",
    "from lenskit import crossfold as xf\n",
    "from lenskit.algorithms import Recommender, basic\n",
    "from lenskit import util, batch, topn\n",
    "from lenskit.metrics.predict import rmse"
   ]
  },
  {
   "cell_type": "code",
   "execution_count": 3,
   "id": "69bef391-7ca4-4641-ae04-e5d935ef9039",
   "metadata": {},
   "outputs": [],
   "source": [
    "data = \"ml1m\"\n",
    "# user-item interactions\n",
    "ml1m_ratings = pd.read_csv(\n",
    "    \"data/\" + data + \"_events.dat\", header=None, sep=\"::\", engine=\"python\"\n",
    ").drop(3, axis=1)\n",
    "ml1m_ratings.columns = [\"user\", \"item\", \"rating\"]"
   ]
  },
  {
   "cell_type": "code",
   "execution_count": 4,
   "id": "68aaa4d4-c8de-43b4-92f2-58a4dfe0611e",
   "metadata": {},
   "outputs": [],
   "source": [
    "ratings = ml1m_ratings.copy()\n",
    "ratings = ratings.drop_duplicates(subset=[\"user\", \"item\"], keep=\"last\")\n",
    "data_strategy = \"ml1m\""
   ]
  },
  {
   "cell_type": "code",
   "execution_count": 5,
   "id": "40ecd5b6-c54d-4a8a-9834-95f924e6364c",
   "metadata": {},
   "outputs": [],
   "source": [
    "user_col = \"user\"  # the name of the column that includes the users\n",
    "item_col = \"item\"  # the name of the column that includes the items\n",
    "predict_col = \"rating\"  # the name of the column that includes the interaction"
   ]
  },
  {
   "cell_type": "code",
   "execution_count": 6,
   "id": "ecdac918-e31d-43e4-bf41-6802ec95bdab",
   "metadata": {},
   "outputs": [],
   "source": [
    "evaluation_way = \"cross_validation\"\n",
    "verbose = True\n",
    "plot = True\n",
    "save_plot = True  # save the plots\n",
    "fallback = False\n",
    "nr_recs = 10\n",
    "sampling_strategy = \"frac\"\n",
    "partition_way = \"user\""
   ]
  },
  {
   "cell_type": "code",
   "execution_count": 7,
   "id": "c0ad3186-35ec-453c-8af5-4ec7bdca8099",
   "metadata": {},
   "outputs": [],
   "source": [
    "mapping_dict = {}  # Create a dictionary that maps each item to an integer - necessary for Cornac.\n",
    "i = 0\n",
    "for mov in ratings[item_col].unique():\n",
    "    mapping_dict[mov] = i\n",
    "    i += 1\n",
    "ratings[item_col] = ratings[item_col].map(\n",
    "    lambda x: mapping_dict.get(x, x)\n",
    ")  # Map in the ratings file"
   ]
  },
  {
   "cell_type": "code",
   "execution_count": 9,
   "id": "d09abcdb-4100-4742-b235-74ba3654b162",
   "metadata": {},
   "outputs": [],
   "source": [
    "algo_versions = {\"CornacMF\": [{\"bias\": True}, {\"bias\": False}]}"
   ]
  },
  {
   "cell_type": "code",
   "execution_count": 10,
   "id": "4c4a09b0-61fb-4737-9343-192777dd40eb",
   "metadata": {},
   "outputs": [],
   "source": [
    "algorithm_cornac = MF\n",
    "algo_name = \"CornacMF\"\n",
    "versions = algo_versions[algo_name]"
   ]
  },
  {
   "cell_type": "code",
   "execution_count": 17,
   "id": "7fb2f435-224d-43b0-9d31-5552c646eeec",
   "metadata": {},
   "outputs": [
    {
     "name": "stdout",
     "output_type": "stream",
     "text": [
      "ml1m {'bias': True}\n",
      "We got them already\n"
     ]
    }
   ],
   "source": [
    "args = versions[0]\n",
    "print(data_strategy, args)\n",
    "\n",
    "p = \"best_parameters/\" + algo_name + \"/\" + data_strategy + \"_\" + str(args) + \".pkl\"\n",
    "if os.path.isfile(p):\n",
    "    print(\"We got them already\")\n",
    "    with open(p, \"rb\") as f:\n",
    "        best_params = pickle.load(f)\n",
    "optimal_k = best_params[\"k\"]\n",
    "optimal_reg = best_params[\"lambda_reg\"]\n",
    "optimal_lr = best_params[\"learning_rate\"]\n",
    "algorithm=algorithm_cornac(\n",
    "            k=optimal_k,\n",
    "            use_bias=args[\"bias\"],\n",
    "            lambda_reg=optimal_reg,\n",
    "            learning_rate=optimal_lr)\n",
    "n=nr_recs\n",
    "\n",
    "\n",
    "# MODELING\n",
    "\n",
    "all_items = set(ratings.item.unique())\n",
    "\n",
    "if partition_way == \"user\":\n",
    "    if sampling_strategy == \"frac\":\n",
    "        sample = xf.SampleFrac(0.2, rng_spec=0)\n",
    "    elif sampling_strategy == \"N\":\n",
    "        sample = xf.SampleN(5, rng_spec=0)\n",
    "    sets = [\n",
    "        i for i in enumerate(xf.partition_users(ratings, 5, sample, rng_spec=0))\n",
    "    ]\n",
    "elif partition_way == \"row\":\n",
    "    sets = [i for i in enumerate(xf.partition_rows(ratings, 5, rng_spec=0))]"
   ]
  },
  {
   "cell_type": "code",
   "execution_count": 19,
   "id": "9f5d566f-a2d6-4c67-90b9-9449e9e42f17",
   "metadata": {},
   "outputs": [],
   "source": [
    "i, tp = sets[2]"
   ]
  },
  {
   "cell_type": "code",
   "execution_count": 22,
   "id": "1bf20f7f-cfdc-46a1-b066-3e179a25e79c",
   "metadata": {},
   "outputs": [
    {
     "name": "stdout",
     "output_type": "stream",
     "text": [
      "rating_threshold = 1.0\n",
      "exclude_unknowns = False\n",
      "---\n",
      "Training data:\n",
      "Number of users = 6040\n",
      "Number of items = 3703\n",
      "Number of ratings = 961956\n",
      "Max rating = 5.0\n",
      "Min rating = 1.0\n",
      "Global mean = 3.6\n",
      "---\n",
      "Test data:\n",
      "Number of users = 1208\n",
      "Number of items = 2994\n",
      "Number of ratings = 38253\n",
      "Number of unknown users = 0\n",
      "Number of unknown items = 3\n",
      "---\n",
      "Total users = 6040\n",
      "Total items = 3706\n"
     ]
    }
   ],
   "source": [
    "train_df = tp[0]\n",
    "test_df = tp[1]\n",
    "eval_method = BaseMethod.from_splits(\n",
    "    train_data=list(\n",
    "        train_df[[\"user\", \"item\", \"rating\"]].to_records(index=False)\n",
    "    ),\n",
    "    test_data=list(\n",
    "        test_df[[\"user\", \"item\", \"rating\"]].to_records(index=False)\n",
    "    ),\n",
    "    exclude_unknowns=False,\n",
    "    verbose=verbose,\n",
    ")"
   ]
  },
  {
   "cell_type": "code",
   "execution_count": 24,
   "id": "b1206658-7a2b-4003-9788-d5cb980312e4",
   "metadata": {},
   "outputs": [],
   "source": [
    "models = [algorithm]\n",
    "metrics = [RMSE()]\n",
    "exp = cornac.Experiment(\n",
    "    eval_method=eval_method,\n",
    "    models=models,\n",
    "    metrics=metrics,\n",
    "    user_based=False,\n",
    "    save_dir=\"cornacLogs\",\n",
    "    verbose=verbose,\n",
    ")"
   ]
  },
  {
   "cell_type": "code",
   "execution_count": 25,
   "id": "f9f98b9f-ea32-41d2-a566-b57c0e18fc9e",
   "metadata": {},
   "outputs": [
    {
     "name": "stdout",
     "output_type": "stream",
     "text": [
      "\n",
      "[MF] Training started!\n",
      "\n",
      "[MF] Evaluation started!\n"
     ]
    },
    {
     "data": {
      "application/vnd.jupyter.widget-view+json": {
       "model_id": "917d865268104d379b7038bec880a44f",
       "version_major": 2,
       "version_minor": 0
      },
      "text/plain": [
       "Rating:   0%|          | 0/38253 [00:00<?, ?it/s]"
      ]
     },
     "metadata": {},
     "output_type": "display_data"
    },
    {
     "name": "stdout",
     "output_type": "stream",
     "text": [
      "\n",
      "TEST:\n",
      "...\n",
      "   |   RMSE | Train (s) | Test (s)\n",
      "-- + ------ + --------- + --------\n",
      "MF | 0.8611 |    1.0658 |   0.6176\n",
      "\n"
     ]
    }
   ],
   "source": [
    "exp.run()"
   ]
  },
  {
   "cell_type": "code",
   "execution_count": 26,
   "id": "7b110029-d0bd-4046-971f-e7554697e3a0",
   "metadata": {},
   "outputs": [],
   "source": [
    "loss = exp.result[0].metric_avg_results[\"RMSE\"]"
   ]
  },
  {
   "cell_type": "code",
   "execution_count": 27,
   "id": "1da7e3c0-ae68-4f1e-8589-0ed55dc3b2a4",
   "metadata": {},
   "outputs": [],
   "source": [
    "test_users = test_df.user.unique()  # the users in the test set\n",
    "recs, stdev_20 = modelling_mf.recommend_cornac(\n",
    "                exp=exp, all_items=all_items, user_col=user_col, item_col=item_col, n=n\n",
    "            )\n",
    "recs_grouped = recs.groupby([user_col])[item_col].apply(list)\n"
   ]
  },
  {
   "cell_type": "code",
   "execution_count": 29,
   "id": "e3f1c03c-4de3-42a1-8e6c-de51bf557833",
   "metadata": {},
   "outputs": [],
   "source": [
    "precision, recall, ndcg = modelling_mf.calculate_topn_metrics(recs, test_df)\n",
    "pop_bias = modelling_mf.calculate_pop_bias_per_item(\n",
    "                all_items, item_col, user_col, predict_col, train_df, recs\n",
    "            )"
   ]
  },
  {
   "cell_type": "code",
   "execution_count": 30,
   "id": "12bca71d-7913-4cb2-806d-e4193fbe1d2f",
   "metadata": {},
   "outputs": [],
   "source": [
    "GAP_vs_GAP = modelling_mf.calculate_ave_pop_per_user(\n",
    "                test_users, item_col, user_col, pop_bias, train_df, recs_grouped\n",
    "            )"
   ]
  },
  {
   "cell_type": "code",
   "execution_count": 31,
   "id": "0520753d-3078-4944-8cd6-529a200d1d5c",
   "metadata": {},
   "outputs": [
    {
     "name": "stdout",
     "output_type": "stream",
     "text": [
      "nr of longtail 2648\n",
      "2.19205298013245\n"
     ]
    }
   ],
   "source": [
    "ARP, ave_PL, ACLT = modelling_mf.calculate_all_pb_metrics(\n",
    "                pop_bias, test_users, item_col, user_col, train_df, recs_grouped, recs\n",
    "            )"
   ]
  },
  {
   "cell_type": "code",
   "execution_count": null,
   "id": "832f64d4-9457-4439-bd78-ee5f9e44baf5",
   "metadata": {},
   "outputs": [],
   "source": []
  }
 ],
 "metadata": {
  "kernelspec": {
   "display_name": "Python 3 (ipykernel)",
   "language": "python",
   "name": "python3"
  },
  "language_info": {
   "codemirror_mode": {
    "name": "ipython",
    "version": 3
   },
   "file_extension": ".py",
   "mimetype": "text/x-python",
   "name": "python",
   "nbconvert_exporter": "python",
   "pygments_lexer": "ipython3",
   "version": "3.8.19"
  },
  "widgets": {
   "application/vnd.jupyter.widget-state+json": {
    "state": {
     "0495bcad1d8f45428b4e38b203d88c98": {
      "model_module": "@jupyter-widgets/controls",
      "model_module_version": "2.0.0",
      "model_name": "HTMLModel",
      "state": {
       "layout": "IPY_MODEL_aa514202a9c54ace868c250a759d52dc",
       "style": "IPY_MODEL_7aca8be314794f7baa1879420bb155f6",
       "value": "Rating: 100%"
      }
     },
     "22862443dc014a5aaa38bd1e4e59c6b1": {
      "model_module": "@jupyter-widgets/controls",
      "model_module_version": "2.0.0",
      "model_name": "HTMLModel",
      "state": {
       "layout": "IPY_MODEL_ac0887bf32934a718b0482cff40abf35",
       "style": "IPY_MODEL_e394bf2b3c8a47df96b9e0147ac7b35d",
       "value": " 38253/38253 [00:00&lt;00:00, 65214.65it/s]"
      }
     },
     "3a153ce4bc124572b8953d30c90a95b9": {
      "model_module": "@jupyter-widgets/controls",
      "model_module_version": "2.0.0",
      "model_name": "ProgressStyleModel",
      "state": {
       "description_width": ""
      }
     },
     "4dc8b87b7fe24eddb6630e5929ef490b": {
      "model_module": "@jupyter-widgets/base",
      "model_module_version": "2.0.0",
      "model_name": "LayoutModel",
      "state": {}
     },
     "7aca8be314794f7baa1879420bb155f6": {
      "model_module": "@jupyter-widgets/controls",
      "model_module_version": "2.0.0",
      "model_name": "HTMLStyleModel",
      "state": {
       "description_width": "",
       "font_size": null,
       "text_color": null
      }
     },
     "917d865268104d379b7038bec880a44f": {
      "model_module": "@jupyter-widgets/controls",
      "model_module_version": "2.0.0",
      "model_name": "HBoxModel",
      "state": {
       "children": [
        "IPY_MODEL_0495bcad1d8f45428b4e38b203d88c98",
        "IPY_MODEL_9e26d5f3ecdd4c18999eceda954454d7",
        "IPY_MODEL_22862443dc014a5aaa38bd1e4e59c6b1"
       ],
       "layout": "IPY_MODEL_b1d823ff9d5f4ef39784ac24d1615d3c"
      }
     },
     "9e26d5f3ecdd4c18999eceda954454d7": {
      "model_module": "@jupyter-widgets/controls",
      "model_module_version": "2.0.0",
      "model_name": "FloatProgressModel",
      "state": {
       "bar_style": "success",
       "layout": "IPY_MODEL_4dc8b87b7fe24eddb6630e5929ef490b",
       "max": 38253,
       "style": "IPY_MODEL_3a153ce4bc124572b8953d30c90a95b9",
       "value": 38253
      }
     },
     "aa514202a9c54ace868c250a759d52dc": {
      "model_module": "@jupyter-widgets/base",
      "model_module_version": "2.0.0",
      "model_name": "LayoutModel",
      "state": {}
     },
     "ac0887bf32934a718b0482cff40abf35": {
      "model_module": "@jupyter-widgets/base",
      "model_module_version": "2.0.0",
      "model_name": "LayoutModel",
      "state": {}
     },
     "b1d823ff9d5f4ef39784ac24d1615d3c": {
      "model_module": "@jupyter-widgets/base",
      "model_module_version": "2.0.0",
      "model_name": "LayoutModel",
      "state": {}
     },
     "e394bf2b3c8a47df96b9e0147ac7b35d": {
      "model_module": "@jupyter-widgets/controls",
      "model_module_version": "2.0.0",
      "model_name": "HTMLStyleModel",
      "state": {
       "description_width": "",
       "font_size": null,
       "text_color": null
      }
     }
    },
    "version_major": 2,
    "version_minor": 0
   }
  }
 },
 "nbformat": 4,
 "nbformat_minor": 5
}
