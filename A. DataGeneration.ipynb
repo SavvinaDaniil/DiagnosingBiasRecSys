{
 "cells": [
  {
   "cell_type": "code",
   "execution_count": null,
   "id": "a3f85011-08dc-4329-9252-46f6a344a29d",
   "metadata": {},
   "outputs": [],
   "source": [
    "# basic functions\n",
    "import pandas as pd\n",
    "from lenskit import crossfold as xf\n",
    "\n",
    "pd.options.display.max_rows = 100\n",
    "\n",
    "# custom-made functions\n",
    "from data_generation import generate_data"
   ]
  },
  {
   "cell_type": "code",
   "execution_count": null,
   "id": "f0b07a8c-da6b-4aa8-988e-1c6ae67f5198",
   "metadata": {},
   "outputs": [],
   "source": [
    "data = \"fairbook\"\n",
    "# user-item interactions\n",
    "fairbook_ratings = pd.read_csv(\"data/\" + data + \"_events.csv\")"
   ]
  },
  {
   "cell_type": "code",
   "execution_count": null,
   "id": "e4c59674-4fad-4613-9110-d1f9f251cca1",
   "metadata": {},
   "outputs": [],
   "source": [
    "user_col = \"user\"  # the name of the column that includes the users\n",
    "item_col = \"item\"  # the name of the column that includes the items\n",
    "predict_col = \"rating\"  # the name of the column that includes the interaction"
   ]
  },
  {
   "cell_type": "code",
   "execution_count": null,
   "id": "7b41b731-2396-44e0-9b34-4455b014935c",
   "metadata": {},
   "outputs": [],
   "source": [
    "data_strategies = [\n",
    "    \"uniformly_random\",\n",
    "    \"popularity_good\",\n",
    "    \"popularity_bad\",\n",
    "    \"popularity_good_for_bp_ur\",\n",
    "    \"popularity_bad_for_bp_ur\",\n",
    "]"
   ]
  },
  {
   "cell_type": "code",
   "execution_count": null,
   "id": "f8ce8c28-c409-493a-a8f1-c72913d151ff",
   "metadata": {},
   "outputs": [],
   "source": [
    "location = \"all_folds/\"  # save here"
   ]
  },
  {
   "cell_type": "code",
   "execution_count": null,
   "id": "221d3972-b1c5-435c-85ad-f0c058dbfc76",
   "metadata": {},
   "outputs": [],
   "source": [
    "all_splits = {}\n",
    "for i in range(len(data_strategies)):\n",
    "    print(i)\n",
    "    current_splits = []\n",
    "    data_strategy = data_strategies[i]\n",
    "    # generate the data\n",
    "    ratings = generate_data(\n",
    "        strategy=data_strategy, copying_dataset=fairbook_ratings, user_perc=0.2\n",
    "    )\n",
    "\n",
    "    sample = xf.SampleFrac(0.2, rng_spec=0)\n",
    "    sets = [i for i in enumerate(xf.partition_users(ratings, 5, sample, rng_spec=0))]\n",
    "    for j, tp in sets:\n",
    "        current_splits.append([tp[0], tp[1]])\n",
    "\n",
    "        tp[0].to_csv(\n",
    "            location + data_strategy + \"_fold_\" + str(j + 1) + \"_train.csv\", index=False\n",
    "        )\n",
    "        tp[1].to_csv(\n",
    "            location + data_strategy + \"_fold_\" + str(j + 1) + \"_test.csv\", index=False\n",
    "        )\n",
    "\n",
    "    all_splits[data_strategy] = current_splits"
   ]
  }
 ],
 "metadata": {
  "kernelspec": {
   "display_name": "Python 3 (ipykernel)",
   "language": "python",
   "name": "python3"
  },
  "language_info": {
   "codemirror_mode": {
    "name": "ipython",
    "version": 3
   },
   "file_extension": ".py",
   "mimetype": "text/x-python",
   "name": "python",
   "nbconvert_exporter": "python",
   "pygments_lexer": "ipython3",
   "version": "3.8.18"
  }
 },
 "nbformat": 4,
 "nbformat_minor": 5
}
