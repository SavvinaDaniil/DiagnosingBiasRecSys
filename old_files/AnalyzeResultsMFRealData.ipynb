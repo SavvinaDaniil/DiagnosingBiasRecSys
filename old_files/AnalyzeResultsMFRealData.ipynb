{
 "cells": [
  {
   "cell_type": "markdown",
   "id": "2d8ec23c-161c-4aa9-9a16-1bdb42ef18ec",
   "metadata": {},
   "source": [
    "# Libraries"
   ]
  },
  {
   "cell_type": "code",
   "execution_count": 2,
   "id": "ecd4c15b-afb9-413f-9929-97022d39082a",
   "metadata": {},
   "outputs": [],
   "source": [
    "import pickle as pkl\n",
    "import pandas as pd\n",
    "import numpy as np\n",
    "from modelling_mf import calculate_average_PL, calculate_ARP\n",
    "from scipy.stats import mannwhitneyu"
   ]
  },
  {
   "cell_type": "code",
   "execution_count": 79,
   "id": "99f11284",
   "metadata": {},
   "outputs": [],
   "source": [
    "algo_name = \"MF\"\n",
    "data_strategy = \"epinion\"  # change depending on which dataset we want to examine"
   ]
  },
  {
   "cell_type": "markdown",
   "id": "fa4db185-77ff-4bc1-875d-320a34a7f297",
   "metadata": {},
   "source": [
    "# Analysis"
   ]
  },
  {
   "cell_type": "markdown",
   "id": "17ccf696",
   "metadata": {},
   "source": [
    "## LKPY"
   ]
  },
  {
   "cell_type": "code",
   "execution_count": 80,
   "id": "933482bc-9819-4cbb-89af-c4d2e20f8168",
   "metadata": {},
   "outputs": [],
   "source": [
    "algo_versions = {\"MF\": [{\"bias\": True}, {\"bias\": False}]}"
   ]
  },
  {
   "cell_type": "code",
   "execution_count": 81,
   "id": "e360abdc-a2e7-4cf8-956e-d1433d3e79ce",
   "metadata": {},
   "outputs": [],
   "source": [
    "versions = algo_versions[algo_name]"
   ]
  },
  {
   "cell_type": "code",
   "execution_count": 82,
   "id": "5297ef9c-0124-4bb0-9447-27097486fc71",
   "metadata": {},
   "outputs": [],
   "source": [
    "file_location = \"experimental_results/\" + algo_name + \"/\""
   ]
  },
  {
   "cell_type": "code",
   "execution_count": 83,
   "id": "11194e69-1514-438f-a189-b455cc08487c",
   "metadata": {},
   "outputs": [],
   "source": [
    "results = []\n",
    "# for data_strategy in data_strategies:\n",
    "for args in versions:\n",
    "    file = open(file_location + data_strategy + \"_\" + str(args) + \".pkl\", \"rb\")\n",
    "    result = pkl.load(file)\n",
    "    results.append(result)"
   ]
  },
  {
   "cell_type": "code",
   "execution_count": 84,
   "id": "303397f7-f756-49ba-b33b-245e35f853a3",
   "metadata": {},
   "outputs": [],
   "source": [
    "stringed_versions = [str(args) for args in versions]"
   ]
  },
  {
   "cell_type": "code",
   "execution_count": 85,
   "id": "c76e15f8-d565-4c63-9456-3e9854daec28",
   "metadata": {},
   "outputs": [],
   "source": [
    "# Initialize empty lists for the two halves\n",
    "bias = []\n",
    "\n",
    "# Split the strings and populate the lists\n",
    "for s in stringed_versions:\n",
    "    parts = s.split(\": \")\n",
    "\n",
    "    bias.append(parts[-1].split(\"}\")[0])"
   ]
  },
  {
   "cell_type": "code",
   "execution_count": 86,
   "id": "f2aef42b-98f2-444e-a7db-5006acaa185a",
   "metadata": {},
   "outputs": [],
   "source": [
    "library = [\"Lenskit\"]"
   ]
  },
  {
   "cell_type": "code",
   "execution_count": 87,
   "id": "e9a05e3c-d61f-4727-86ea-206d4264d456",
   "metadata": {},
   "outputs": [],
   "source": [
    "index = pd.MultiIndex.from_product(\n",
    "    [bias, library], names=[\"Bias\", \"Library\"]\n",
    ").drop_duplicates()"
   ]
  },
  {
   "cell_type": "code",
   "execution_count": 88,
   "id": "7153ea30-78e3-4988-b34e-12e47d9ebe18",
   "metadata": {},
   "outputs": [],
   "source": [
    "results_lkpy = pd.DataFrame(results, index=index)"
   ]
  },
  {
   "cell_type": "code",
   "execution_count": 89,
   "id": "7d7c5d8f-036e-4f93-b01e-a14627672d5b",
   "metadata": {},
   "outputs": [
    {
     "data": {
      "text/html": [
       "<div>\n",
       "<style scoped>\n",
       "    .dataframe tbody tr th:only-of-type {\n",
       "        vertical-align: middle;\n",
       "    }\n",
       "\n",
       "    .dataframe tbody tr th {\n",
       "        vertical-align: top;\n",
       "    }\n",
       "\n",
       "    .dataframe thead th {\n",
       "        text-align: right;\n",
       "    }\n",
       "</style>\n",
       "<table border=\"1\" class=\"dataframe\">\n",
       "  <thead>\n",
       "    <tr style=\"text-align: right;\">\n",
       "      <th></th>\n",
       "      <th></th>\n",
       "      <th>pop_corr</th>\n",
       "      <th>RMSE</th>\n",
       "      <th>NDCG</th>\n",
       "      <th>ARP</th>\n",
       "      <th>ave_PL</th>\n",
       "      <th>ACLT</th>\n",
       "      <th>AggDiv</th>\n",
       "    </tr>\n",
       "    <tr>\n",
       "      <th>Bias</th>\n",
       "      <th>Library</th>\n",
       "      <th></th>\n",
       "      <th></th>\n",
       "      <th></th>\n",
       "      <th></th>\n",
       "      <th></th>\n",
       "      <th></th>\n",
       "      <th></th>\n",
       "    </tr>\n",
       "  </thead>\n",
       "  <tbody>\n",
       "    <tr>\n",
       "      <th>True</th>\n",
       "      <th>Lenskit</th>\n",
       "      <td>(0.12584777417168197, 0.0)</td>\n",
       "      <td>1.03</td>\n",
       "      <td>0.001115</td>\n",
       "      <td>0.003262</td>\n",
       "      <td>402.394492</td>\n",
       "      <td>0.211626</td>\n",
       "      <td>0.033192</td>\n",
       "    </tr>\n",
       "    <tr>\n",
       "      <th>False</th>\n",
       "      <th>Lenskit</th>\n",
       "      <td>(0.01957999723391162, 1.5892081148164622e-26)</td>\n",
       "      <td>1.24</td>\n",
       "      <td>0.000467</td>\n",
       "      <td>0.000513</td>\n",
       "      <td>-54.107020</td>\n",
       "      <td>0.887888</td>\n",
       "      <td>0.041994</td>\n",
       "    </tr>\n",
       "  </tbody>\n",
       "</table>\n",
       "</div>"
      ],
      "text/plain": [
       "                                                    pop_corr  RMSE      NDCG  \\\n",
       "Bias  Library                                                                  \n",
       "True  Lenskit                     (0.12584777417168197, 0.0)  1.03  0.001115   \n",
       "False Lenskit  (0.01957999723391162, 1.5892081148164622e-26)  1.24  0.000467   \n",
       "\n",
       "                    ARP      ave_PL      ACLT    AggDiv  \n",
       "Bias  Library                                            \n",
       "True  Lenskit  0.003262  402.394492  0.211626  0.033192  \n",
       "False Lenskit  0.000513  -54.107020  0.887888  0.041994  "
      ]
     },
     "execution_count": 89,
     "metadata": {},
     "output_type": "execute_result"
    }
   ],
   "source": [
    "results_lkpy"
   ]
  },
  {
   "cell_type": "code",
   "execution_count": 90,
   "id": "d4b43d0f-bd98-4ee0-b18d-d4303f931e8f",
   "metadata": {},
   "outputs": [],
   "source": [
    "lkpy_detailed_results = []\n",
    "for args in versions:\n",
    "    file = open(file_location + 'correct_detailed_per_item_'+data_strategy + \"_\" + str(args) + \".pkl\", \"rb\")\n",
    "    result = pkl.load(file)\n",
    "    lkpy_detailed_results.append(result)"
   ]
  },
  {
   "cell_type": "markdown",
   "id": "bfdb321b-2de2-447a-b71b-e4dd2ce8c69d",
   "metadata": {},
   "source": [
    "## Cornac"
   ]
  },
  {
   "cell_type": "code",
   "execution_count": 91,
   "id": "861e8dca-88e5-40ba-a257-5b93e3ecd181",
   "metadata": {},
   "outputs": [],
   "source": [
    "algo_versions = {\"CornacMF\": [{\"bias\": True}, {\"bias\": False}]}\n",
    "algo_name = \"CornacMF\""
   ]
  },
  {
   "cell_type": "code",
   "execution_count": 92,
   "id": "9082f657-c646-4e5f-94ac-e3962c1c9853",
   "metadata": {},
   "outputs": [],
   "source": [
    "versions = algo_versions[algo_name]"
   ]
  },
  {
   "cell_type": "code",
   "execution_count": 93,
   "id": "dfbaec2a-61c7-449e-879b-ca22c29da26f",
   "metadata": {},
   "outputs": [],
   "source": [
    "file_location = \"experimental_results/\" + algo_name + \"/\""
   ]
  },
  {
   "cell_type": "code",
   "execution_count": 94,
   "id": "b503907e-b2ae-4ca7-b704-5d700e174d4e",
   "metadata": {},
   "outputs": [],
   "source": [
    "results = []\n",
    "# for data_strategy in data_strategies:\n",
    "for args in versions:\n",
    "    file = open(file_location + data_strategy + \"_\" + str(args) + \".pkl\", \"rb\")\n",
    "    result = pkl.load(file)\n",
    "    results.append(result)"
   ]
  },
  {
   "cell_type": "code",
   "execution_count": 95,
   "id": "8ad79182-8d24-40ff-8b35-12249d87b95a",
   "metadata": {},
   "outputs": [],
   "source": [
    "stringed_versions = [str(args) for args in versions]"
   ]
  },
  {
   "cell_type": "code",
   "execution_count": 96,
   "id": "16ef32c2-5f30-45f2-8097-8e758a0a1769",
   "metadata": {},
   "outputs": [],
   "source": [
    "# Initialize empty lists for the two halves\n",
    "bias = []\n",
    "\n",
    "# Split the strings and populate the lists\n",
    "for s in stringed_versions:\n",
    "    parts = s.split(\": \")\n",
    "\n",
    "    bias.append(parts[-1].split(\"}\")[0])"
   ]
  },
  {
   "cell_type": "code",
   "execution_count": 97,
   "id": "aafbbd62-f96f-4f72-8208-77db20ced629",
   "metadata": {},
   "outputs": [],
   "source": [
    "library = [\"Cornac\"]"
   ]
  },
  {
   "cell_type": "code",
   "execution_count": 98,
   "id": "bfcf87db-915b-44fe-8cc9-9c33692daccf",
   "metadata": {},
   "outputs": [],
   "source": [
    "index = pd.MultiIndex.from_product(\n",
    "    [bias, library], names=[\"Bias\", \"Library\"]\n",
    ").drop_duplicates()"
   ]
  },
  {
   "cell_type": "code",
   "execution_count": 99,
   "id": "84b59582-c867-4c85-8f9a-7614bf82cd13",
   "metadata": {},
   "outputs": [],
   "source": [
    "results_cornac = pd.DataFrame(results, index=index)"
   ]
  },
  {
   "cell_type": "code",
   "execution_count": 100,
   "id": "6e99f5f7-e411-4217-a46f-8b35f323f2df",
   "metadata": {},
   "outputs": [
    {
     "data": {
      "text/html": [
       "<div>\n",
       "<style scoped>\n",
       "    .dataframe tbody tr th:only-of-type {\n",
       "        vertical-align: middle;\n",
       "    }\n",
       "\n",
       "    .dataframe tbody tr th {\n",
       "        vertical-align: top;\n",
       "    }\n",
       "\n",
       "    .dataframe thead th {\n",
       "        text-align: right;\n",
       "    }\n",
       "</style>\n",
       "<table border=\"1\" class=\"dataframe\">\n",
       "  <thead>\n",
       "    <tr style=\"text-align: right;\">\n",
       "      <th></th>\n",
       "      <th></th>\n",
       "      <th>pop_corr</th>\n",
       "      <th>RMSE</th>\n",
       "      <th>NDCG</th>\n",
       "      <th>ARP</th>\n",
       "      <th>ave_PL</th>\n",
       "      <th>ACLT</th>\n",
       "      <th>AggDiv</th>\n",
       "    </tr>\n",
       "    <tr>\n",
       "      <th>Bias</th>\n",
       "      <th>Library</th>\n",
       "      <th></th>\n",
       "      <th></th>\n",
       "      <th></th>\n",
       "      <th></th>\n",
       "      <th></th>\n",
       "      <th></th>\n",
       "      <th></th>\n",
       "    </tr>\n",
       "  </thead>\n",
       "  <tbody>\n",
       "    <tr>\n",
       "      <th>True</th>\n",
       "      <th>Cornac</th>\n",
       "      <td>(0.009046154316153961, 8.478315356882231e-07)</td>\n",
       "      <td>1.029231</td>\n",
       "      <td>0.000197</td>\n",
       "      <td>0.000848</td>\n",
       "      <td>19.814337</td>\n",
       "      <td>0.000000</td>\n",
       "      <td>0.000078</td>\n",
       "    </tr>\n",
       "    <tr>\n",
       "      <th>False</th>\n",
       "      <th>Cornac</th>\n",
       "      <td>(0.0013471572948617603, 0.4633919937605722)</td>\n",
       "      <td>1.152307</td>\n",
       "      <td>0.000062</td>\n",
       "      <td>0.000232</td>\n",
       "      <td>-53.845347</td>\n",
       "      <td>0.002121</td>\n",
       "      <td>0.000810</td>\n",
       "    </tr>\n",
       "  </tbody>\n",
       "</table>\n",
       "</div>"
      ],
      "text/plain": [
       "                                                    pop_corr      RMSE  \\\n",
       "Bias  Library                                                            \n",
       "True  Cornac   (0.009046154316153961, 8.478315356882231e-07)  1.029231   \n",
       "False Cornac     (0.0013471572948617603, 0.4633919937605722)  1.152307   \n",
       "\n",
       "                   NDCG       ARP     ave_PL      ACLT    AggDiv  \n",
       "Bias  Library                                                     \n",
       "True  Cornac   0.000197  0.000848  19.814337  0.000000  0.000078  \n",
       "False Cornac   0.000062  0.000232 -53.845347  0.002121  0.000810  "
      ]
     },
     "execution_count": 100,
     "metadata": {},
     "output_type": "execute_result"
    }
   ],
   "source": [
    "results_cornac"
   ]
  },
  {
   "cell_type": "code",
   "execution_count": 101,
   "id": "2e5472ed-10b2-4683-a115-3b9f51323230",
   "metadata": {},
   "outputs": [],
   "source": [
    "cornac_detailed_results = []\n",
    "for args in versions:\n",
    "    file = open(file_location + 'correct_detailed_per_item_'+data_strategy + \"_\" + str(args) + \".pkl\", \"rb\")\n",
    "    result = pkl.load(file)\n",
    "    cornac_detailed_results.append(result)"
   ]
  },
  {
   "cell_type": "markdown",
   "id": "608960aa-33a5-4acd-829e-90669b7b0f3d",
   "metadata": {},
   "source": [
    "# Merge"
   ]
  },
  {
   "cell_type": "code",
   "execution_count": 102,
   "id": "1023e32c-65df-48fb-b5f4-1a1d1a9dc323",
   "metadata": {},
   "outputs": [],
   "source": [
    "mf_metrics = (\n",
    "    pd.concat([results_lkpy, results_cornac])\n",
    "    .reset_index()\n",
    "    .sort_values([\"Library\", \"Bias\"])\n",
    "    .set_index([\"Library\", \"Bias\"])\n",
    ")"
   ]
  },
  {
   "cell_type": "code",
   "execution_count": 103,
   "id": "6effb8b5-ee18-4b86-b462-d4896dc41fcc",
   "metadata": {},
   "outputs": [],
   "source": [
    "metrics_order = [\"pop_corr\", \"ARP\", \"ave_PL\", \"ACLT\", \"AggDiv\", \"RMSE\", \"NDCG\"]\n",
    "mf_metrics = mf_metrics[metrics_order]"
   ]
  },
  {
   "cell_type": "code",
   "execution_count": 104,
   "id": "84a6e0a5-36e9-47de-9d59-76a84c622e44",
   "metadata": {},
   "outputs": [],
   "source": [
    "mf_metrics = mf_metrics.rename(\n",
    "    columns={\"pop_corr\": \"PopCorr\", \"ave_PL\": \"PL\", \"ACLT\": \"APLT\", \"NDCG\": \"NDCG@10\"}\n",
    ")"
   ]
  },
  {
   "cell_type": "code",
   "execution_count": 105,
   "id": "c34ed802-2f73-4ca8-9ade-2240b8591b63",
   "metadata": {},
   "outputs": [],
   "source": [
    "mf_metrics['RealPopCorr'] = mf_metrics.PopCorr.apply(lambda x: x[0])\n",
    "mf_metrics['Significance'] = mf_metrics.PopCorr.apply(lambda x: True if x[1]<0.005 else False)\n",
    "mf_metrics['PopCorr'] = mf_metrics.RealPopCorr \n",
    "mf_metrics = mf_metrics.drop('RealPopCorr', axis=1)"
   ]
  },
  {
   "cell_type": "code",
   "execution_count": 106,
   "id": "5a0adfec-9e1a-4c79-89b2-77e9ca49054c",
   "metadata": {},
   "outputs": [
    {
     "data": {
      "text/html": [
       "<div>\n",
       "<style scoped>\n",
       "    .dataframe tbody tr th:only-of-type {\n",
       "        vertical-align: middle;\n",
       "    }\n",
       "\n",
       "    .dataframe tbody tr th {\n",
       "        vertical-align: top;\n",
       "    }\n",
       "\n",
       "    .dataframe thead th {\n",
       "        text-align: right;\n",
       "    }\n",
       "</style>\n",
       "<table border=\"1\" class=\"dataframe\">\n",
       "  <thead>\n",
       "    <tr style=\"text-align: right;\">\n",
       "      <th></th>\n",
       "      <th></th>\n",
       "      <th>PopCorr</th>\n",
       "      <th>ARP</th>\n",
       "      <th>PL</th>\n",
       "      <th>APLT</th>\n",
       "      <th>AggDiv</th>\n",
       "      <th>RMSE</th>\n",
       "      <th>NDCG@10</th>\n",
       "      <th>Significance</th>\n",
       "    </tr>\n",
       "    <tr>\n",
       "      <th>Library</th>\n",
       "      <th>Bias</th>\n",
       "      <th></th>\n",
       "      <th></th>\n",
       "      <th></th>\n",
       "      <th></th>\n",
       "      <th></th>\n",
       "      <th></th>\n",
       "      <th></th>\n",
       "      <th></th>\n",
       "    </tr>\n",
       "  </thead>\n",
       "  <tbody>\n",
       "    <tr>\n",
       "      <th rowspan=\"2\" valign=\"top\">Cornac</th>\n",
       "      <th>False</th>\n",
       "      <td>0.001347</td>\n",
       "      <td>0.000232</td>\n",
       "      <td>-53.845347</td>\n",
       "      <td>0.002121</td>\n",
       "      <td>0.000810</td>\n",
       "      <td>1.152307</td>\n",
       "      <td>0.000062</td>\n",
       "      <td>False</td>\n",
       "    </tr>\n",
       "    <tr>\n",
       "      <th>True</th>\n",
       "      <td>0.009046</td>\n",
       "      <td>0.000848</td>\n",
       "      <td>19.814337</td>\n",
       "      <td>0.000000</td>\n",
       "      <td>0.000078</td>\n",
       "      <td>1.029231</td>\n",
       "      <td>0.000197</td>\n",
       "      <td>True</td>\n",
       "    </tr>\n",
       "    <tr>\n",
       "      <th rowspan=\"2\" valign=\"top\">Lenskit</th>\n",
       "      <th>False</th>\n",
       "      <td>0.019580</td>\n",
       "      <td>0.000513</td>\n",
       "      <td>-54.107020</td>\n",
       "      <td>0.887888</td>\n",
       "      <td>0.041994</td>\n",
       "      <td>1.240000</td>\n",
       "      <td>0.000467</td>\n",
       "      <td>True</td>\n",
       "    </tr>\n",
       "    <tr>\n",
       "      <th>True</th>\n",
       "      <td>0.125848</td>\n",
       "      <td>0.003262</td>\n",
       "      <td>402.394492</td>\n",
       "      <td>0.211626</td>\n",
       "      <td>0.033192</td>\n",
       "      <td>1.030000</td>\n",
       "      <td>0.001115</td>\n",
       "      <td>True</td>\n",
       "    </tr>\n",
       "  </tbody>\n",
       "</table>\n",
       "</div>"
      ],
      "text/plain": [
       "                PopCorr       ARP          PL      APLT    AggDiv      RMSE  \\\n",
       "Library Bias                                                                  \n",
       "Cornac  False  0.001347  0.000232  -53.845347  0.002121  0.000810  1.152307   \n",
       "        True   0.009046  0.000848   19.814337  0.000000  0.000078  1.029231   \n",
       "Lenskit False  0.019580  0.000513  -54.107020  0.887888  0.041994  1.240000   \n",
       "        True   0.125848  0.003262  402.394492  0.211626  0.033192  1.030000   \n",
       "\n",
       "                NDCG@10  Significance  \n",
       "Library Bias                           \n",
       "Cornac  False  0.000062         False  \n",
       "        True   0.000197          True  \n",
       "Lenskit False  0.000467          True  \n",
       "        True   0.001115          True  "
      ]
     },
     "execution_count": 106,
     "metadata": {},
     "output_type": "execute_result"
    }
   ],
   "source": [
    "mf_metrics"
   ]
  },
  {
   "cell_type": "code",
   "execution_count": 107,
   "id": "c5b17ca9-bd9e-4564-98f1-1b53c79054e1",
   "metadata": {},
   "outputs": [
    {
     "name": "stdout",
     "output_type": "stream",
     "text": [
      "\\begin{tabular}{llrrrrrr}\n",
      "\\toprule\n",
      "        &      &  PopCorr &    ARP &       PL &  AggDiv &   RMSE &  NDCG@10 \\\\\n",
      "Library & Bias &          &        &          &         &        &          \\\\\n",
      "\\midrule\n",
      "Cornac & False &    0.001 &  0.000 &  -53.845 &   0.001 &  1.152 &    0.000 \\\\\n",
      "        & True &    0.009 &  0.001 &   19.814 &   0.000 &  1.029 &    0.000 \\\\\n",
      "Lenskit & False &    0.020 &  0.001 &  -54.107 &   0.042 &  1.240 &    0.000 \\\\\n",
      "        & True &    0.126 &  0.003 &  402.394 &   0.033 &  1.030 &    0.001 \\\\\n",
      "\\bottomrule\n",
      "\\end{tabular}\n",
      "\n"
     ]
    }
   ],
   "source": [
    "print(mf_metrics.drop(['APLT','Significance'], axis=1).round(3).to_latex())"
   ]
  },
  {
   "cell_type": "code",
   "execution_count": 108,
   "id": "1e3874c1-270a-407d-b889-c6c31e7d5d60",
   "metadata": {},
   "outputs": [],
   "source": [
    "import pickle\n",
    "\n",
    "with open(\"metrics_combined/\"+data_strategy+\"_all_mf.pkl\", \"wb\") as f:\n",
    "    pickle.dump(mf_metrics.round(3), f)"
   ]
  },
  {
   "cell_type": "markdown",
   "id": "f7e9986e-ac8b-4169-9895-efc9ba776052",
   "metadata": {},
   "source": [
    "# Significance tests"
   ]
  },
  {
   "cell_type": "markdown",
   "id": "0e60c9bc-eab9-4e6f-8a52-60a8437be9d4",
   "metadata": {},
   "source": [
    "## 1. Average Recommendation Popularity\n",
    "recommendation values"
   ]
  },
  {
   "cell_type": "code",
   "execution_count": 109,
   "id": "affa9e26-b490-4d7d-88e5-538399bd043e",
   "metadata": {},
   "outputs": [],
   "source": [
    "mf_results = cornac_detailed_results+lkpy_detailed_results"
   ]
  },
  {
   "cell_type": "code",
   "execution_count": 110,
   "id": "be7190bf-41d9-477a-b0d6-51628786c1b9",
   "metadata": {},
   "outputs": [],
   "source": [
    "def highest_average(df_list, column_name = 'recommendation'):\n",
    "    highest_average = -10^6\n",
    "    highest_i = -1\n",
    "    for i in range(len(df_list)):\n",
    "        df = df_list[i]\n",
    "        mean = np.mean(df[column_name].values)\n",
    "        if mean > highest_average:\n",
    "            highest_average = mean\n",
    "            highest_i = i\n",
    "    print(highest_average, highest_i)\n",
    "    return highest_average, highest_i"
   ]
  },
  {
   "cell_type": "code",
   "execution_count": 111,
   "id": "516fcb8d-9987-498d-8515-f6c2d0106bfd",
   "metadata": {},
   "outputs": [],
   "source": [
    "def mannwhitneyu_test(df_list, alt = 'greater', column_name = 'recommendation'):\n",
    "    # find the highest average \n",
    "    ha, hi = highest_average(df_list, column_name)\n",
    "    inds_df_list = list(range(len(df_list)))\n",
    "    to_test_inds = inds_df_list[:hi] + inds_df_list[hi+1:]\n",
    "    print(to_test_inds)\n",
    "    df1 = df_list[hi]\n",
    "    pvalues = []\n",
    "    for ind in to_test_inds:\n",
    "        df2 = df_list[ind]\n",
    "        x = df1[column_name].values\n",
    "        y = df2[column_name].values\n",
    "        pvalue = mannwhitneyu(x,y, alternative = alt)[1]\n",
    "        pvalues.append(pvalue)\n",
    "    return pvalues # pvalues for all comparisons"
   ]
  },
  {
   "cell_type": "code",
   "execution_count": 112,
   "id": "136eb4fa-0ef0-42d6-9862-b48b83f5aeb3",
   "metadata": {},
   "outputs": [
    {
     "name": "stdout",
     "output_type": "stream",
     "text": [
      "0.003262157336492948 2\n",
      "[0, 1, 3]\n"
     ]
    },
    {
     "data": {
      "text/plain": [
       "[0.0, 0.0, 0.0]"
      ]
     },
     "execution_count": 112,
     "metadata": {},
     "output_type": "execute_result"
    }
   ],
   "source": [
    "mannwhitneyu_test(mf_results) "
   ]
  },
  {
   "cell_type": "markdown",
   "id": "96081e0d-397e-47eb-877c-130119120ae3",
   "metadata": {},
   "source": [
    "## 2. Popularity Lift"
   ]
  },
  {
   "cell_type": "code",
   "execution_count": 113,
   "id": "c227c1e7-0fea-4a82-9a50-09ebab377899",
   "metadata": {},
   "outputs": [],
   "source": [
    "for df in mf_results:\n",
    "    df['popularity_lift'] = (df['recommendation']-df['profile'])/df['profile']*100"
   ]
  },
  {
   "cell_type": "code",
   "execution_count": 114,
   "id": "6d815456-879e-4851-94b2-d84699ec9ea2",
   "metadata": {},
   "outputs": [
    {
     "name": "stdout",
     "output_type": "stream",
     "text": [
      "402.3951463607632 2\n",
      "[0, 1, 3]\n"
     ]
    },
    {
     "data": {
      "text/plain": [
       "[0.0, 0.0, 0.0]"
      ]
     },
     "execution_count": 114,
     "metadata": {},
     "output_type": "execute_result"
    }
   ],
   "source": [
    "mannwhitneyu_test(mf_results, column_name = 'popularity_lift') "
   ]
  },
  {
   "cell_type": "code",
   "execution_count": null,
   "id": "fd6a5f6c-c77a-489a-8c98-0ca9ca6aac5a",
   "metadata": {},
   "outputs": [],
   "source": []
  }
 ],
 "metadata": {
  "kernelspec": {
   "display_name": "Python 3 (ipykernel)",
   "language": "python",
   "name": "python3"
  },
  "language_info": {
   "codemirror_mode": {
    "name": "ipython",
    "version": 3
   },
   "file_extension": ".py",
   "mimetype": "text/x-python",
   "name": "python",
   "nbconvert_exporter": "python",
   "pygments_lexer": "ipython3",
   "version": "3.8.18"
  },
  "vscode": {
   "interpreter": {
    "hash": "1c3278b04384a1f2d1b0bc3e8783905713abb1db8d84b3b69ddff13fab40f022"
   }
  },
  "widgets": {
   "application/vnd.jupyter.widget-state+json": {
    "state": {},
    "version_major": 2,
    "version_minor": 0
   }
  }
 },
 "nbformat": 4,
 "nbformat_minor": 5
}
