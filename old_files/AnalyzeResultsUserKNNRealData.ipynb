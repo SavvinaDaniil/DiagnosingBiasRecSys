{
 "cells": [
  {
   "cell_type": "markdown",
   "id": "2d8ec23c-161c-4aa9-9a16-1bdb42ef18ec",
   "metadata": {},
   "source": [
    "# Libraries"
   ]
  },
  {
   "cell_type": "code",
   "execution_count": 119,
   "id": "ecd4c15b-afb9-413f-9929-97022d39082a",
   "metadata": {},
   "outputs": [],
   "source": [
    "import pickle as pkl\n",
    "import numpy as np\n",
    "import pandas as pd\n",
    "from scipy.stats import mannwhitneyu"
   ]
  },
  {
   "cell_type": "code",
   "execution_count": 120,
   "id": "e55f4cc8-0b43-4a68-9b13-d7e7d6923a75",
   "metadata": {},
   "outputs": [],
   "source": [
    "data_strategy = \"epinion\"  # change depending on which dataset we want to examine"
   ]
  },
  {
   "cell_type": "markdown",
   "id": "fa4db185-77ff-4bc1-875d-320a34a7f297",
   "metadata": {},
   "source": [
    "# Analysis"
   ]
  },
  {
   "cell_type": "markdown",
   "id": "17ccf696",
   "metadata": {},
   "source": [
    "## LKPY"
   ]
  },
  {
   "cell_type": "code",
   "execution_count": 121,
   "id": "bf8eff1e-d908-4f14-8657-3b815f3e44e6",
   "metadata": {},
   "outputs": [],
   "source": [
    "algo_versions = {\n",
    "    \"UserKNN\": [\n",
    "        {\"min_nbrs\": 1, \"min_sim\": 0},\n",
    "        {\"min_nbrs\": 2, \"min_sim\": 0},\n",
    "        # {'min_nbrs':5, 'min_sim':0},\n",
    "        # {\"min_nbrs\": 10, \"min_sim\": 0},\n",
    "        {\"min_nbrs\": 1, \"min_sim\": -1},\n",
    "        {\"min_nbrs\": 2, \"min_sim\": -1},\n",
    "        # {'min_nbrs':5, 'min_sim':-1},\n",
    "        # {\"min_nbrs\": 10, \"min_sim\": -1},\n",
    "    ],\n",
    "}"
   ]
  },
  {
   "cell_type": "code",
   "execution_count": 122,
   "id": "e360abdc-a2e7-4cf8-956e-d1433d3e79ce",
   "metadata": {},
   "outputs": [],
   "source": [
    "algo_name = \"UserKNN\"\n",
    "versions = algo_versions[algo_name]"
   ]
  },
  {
   "cell_type": "code",
   "execution_count": 123,
   "id": "5297ef9c-0124-4bb0-9447-27097486fc71",
   "metadata": {},
   "outputs": [],
   "source": [
    "file_location = \"experimental_results/\" + algo_name + \"/\""
   ]
  },
  {
   "cell_type": "code",
   "execution_count": 124,
   "id": "11194e69-1514-438f-a189-b455cc08487c",
   "metadata": {},
   "outputs": [],
   "source": [
    "results = []\n",
    "for args in versions:\n",
    "    file = open(file_location + data_strategy + \"_\" + str(args) + \".pkl\", \"rb\")\n",
    "    result = pkl.load(file)\n",
    "    results.append(result)"
   ]
  },
  {
   "cell_type": "code",
   "execution_count": 125,
   "id": "303397f7-f756-49ba-b33b-245e35f853a3",
   "metadata": {},
   "outputs": [],
   "source": [
    "stringed_versions = [str(args) for args in versions]"
   ]
  },
  {
   "cell_type": "code",
   "execution_count": 126,
   "id": "c76e15f8-d565-4c63-9456-3e9854daec28",
   "metadata": {},
   "outputs": [],
   "source": [
    "# Initialize empty lists for the two halves\n",
    "min_nbrs = []\n",
    "min_sim = []\n",
    "\n",
    "# Split the strings and populate the lists\n",
    "for s in stringed_versions:\n",
    "    parts = s.split(\", \")\n",
    "\n",
    "    min_nbrs.append(parts[0].split(\" \")[-1])\n",
    "    min_sim.append(parts[1].split(\" \")[-1].split(\"}\")[0])"
   ]
  },
  {
   "cell_type": "code",
   "execution_count": 127,
   "id": "4a5f08dc",
   "metadata": {},
   "outputs": [],
   "source": [
    "over_common = [\"False\"]"
   ]
  },
  {
   "cell_type": "code",
   "execution_count": 128,
   "id": "5930d035-03be-4863-9ddf-6a437d3552a8",
   "metadata": {},
   "outputs": [],
   "source": [
    "index = pd.MultiIndex.from_product(\n",
    "    [min_sim, min_nbrs, over_common],\n",
    "    names=[\"MinimumSimilarity\", \"MinimumNeighbours\", \"OverCommon\"],\n",
    ").drop_duplicates()"
   ]
  },
  {
   "cell_type": "code",
   "execution_count": 129,
   "id": "7153ea30-78e3-4988-b34e-12e47d9ebe18",
   "metadata": {},
   "outputs": [],
   "source": [
    "results_lkpy = pd.DataFrame(results, index=index)"
   ]
  },
  {
   "cell_type": "code",
   "execution_count": 130,
   "id": "1d60d7ac-5317-4158-bdb0-dffdf5bbaf6f",
   "metadata": {},
   "outputs": [
    {
     "data": {
      "text/html": [
       "<div>\n",
       "<style scoped>\n",
       "    .dataframe tbody tr th:only-of-type {\n",
       "        vertical-align: middle;\n",
       "    }\n",
       "\n",
       "    .dataframe tbody tr th {\n",
       "        vertical-align: top;\n",
       "    }\n",
       "\n",
       "    .dataframe thead th {\n",
       "        text-align: right;\n",
       "    }\n",
       "</style>\n",
       "<table border=\"1\" class=\"dataframe\">\n",
       "  <thead>\n",
       "    <tr style=\"text-align: right;\">\n",
       "      <th></th>\n",
       "      <th></th>\n",
       "      <th></th>\n",
       "      <th>pop_corr</th>\n",
       "      <th>RMSE</th>\n",
       "      <th>NDCG</th>\n",
       "      <th>ARP</th>\n",
       "      <th>ave_PL</th>\n",
       "      <th>ACLT</th>\n",
       "      <th>AggDiv</th>\n",
       "    </tr>\n",
       "    <tr>\n",
       "      <th>MinimumSimilarity</th>\n",
       "      <th>MinimumNeighbours</th>\n",
       "      <th>OverCommon</th>\n",
       "      <th></th>\n",
       "      <th></th>\n",
       "      <th></th>\n",
       "      <th></th>\n",
       "      <th></th>\n",
       "      <th></th>\n",
       "      <th></th>\n",
       "    </tr>\n",
       "  </thead>\n",
       "  <tbody>\n",
       "    <tr>\n",
       "      <th rowspan=\"2\" valign=\"top\">0</th>\n",
       "      <th>1</th>\n",
       "      <th>False</th>\n",
       "      <td>(0.04319430702198934, 2.4227248200698596e-122)</td>\n",
       "      <td>1.148</td>\n",
       "      <td>0.000248</td>\n",
       "      <td>0.000645</td>\n",
       "      <td>65.526848</td>\n",
       "      <td>1.488664</td>\n",
       "      <td>0.039699</td>\n",
       "    </tr>\n",
       "    <tr>\n",
       "      <th>2</th>\n",
       "      <th>False</th>\n",
       "      <td>(0.15316607258667803, 0.0)</td>\n",
       "      <td>1.108</td>\n",
       "      <td>0.000502</td>\n",
       "      <td>0.001322</td>\n",
       "      <td>165.929066</td>\n",
       "      <td>0.000000</td>\n",
       "      <td>0.047412</td>\n",
       "    </tr>\n",
       "    <tr>\n",
       "      <th rowspan=\"2\" valign=\"top\">-1</th>\n",
       "      <th>1</th>\n",
       "      <th>False</th>\n",
       "      <td>(0.02309613734937969, 2.9662866087745307e-36)</td>\n",
       "      <td>1.212</td>\n",
       "      <td>0.000036</td>\n",
       "      <td>0.000462</td>\n",
       "      <td>36.538499</td>\n",
       "      <td>3.243510</td>\n",
       "      <td>0.032338</td>\n",
       "    </tr>\n",
       "    <tr>\n",
       "      <th>2</th>\n",
       "      <th>False</th>\n",
       "      <td>(0.17296228008058673, 0.0)</td>\n",
       "      <td>1.168</td>\n",
       "      <td>0.000261</td>\n",
       "      <td>0.001141</td>\n",
       "      <td>176.223702</td>\n",
       "      <td>0.000000</td>\n",
       "      <td>0.054999</td>\n",
       "    </tr>\n",
       "  </tbody>\n",
       "</table>\n",
       "</div>"
      ],
      "text/plain": [
       "                                                                                      pop_corr  \\\n",
       "MinimumSimilarity MinimumNeighbours OverCommon                                                   \n",
       "0                 1                 False       (0.04319430702198934, 2.4227248200698596e-122)   \n",
       "                  2                 False                           (0.15316607258667803, 0.0)   \n",
       "-1                1                 False        (0.02309613734937969, 2.9662866087745307e-36)   \n",
       "                  2                 False                           (0.17296228008058673, 0.0)   \n",
       "\n",
       "                                                 RMSE      NDCG       ARP  \\\n",
       "MinimumSimilarity MinimumNeighbours OverCommon                              \n",
       "0                 1                 False       1.148  0.000248  0.000645   \n",
       "                  2                 False       1.108  0.000502  0.001322   \n",
       "-1                1                 False       1.212  0.000036  0.000462   \n",
       "                  2                 False       1.168  0.000261  0.001141   \n",
       "\n",
       "                                                    ave_PL      ACLT    AggDiv  \n",
       "MinimumSimilarity MinimumNeighbours OverCommon                                  \n",
       "0                 1                 False        65.526848  1.488664  0.039699  \n",
       "                  2                 False       165.929066  0.000000  0.047412  \n",
       "-1                1                 False        36.538499  3.243510  0.032338  \n",
       "                  2                 False       176.223702  0.000000  0.054999  "
      ]
     },
     "execution_count": 130,
     "metadata": {},
     "output_type": "execute_result"
    }
   ],
   "source": [
    "results_lkpy"
   ]
  },
  {
   "cell_type": "code",
   "execution_count": 131,
   "id": "9a24611a-cb9c-4b3e-a459-e6bc678a9bb0",
   "metadata": {},
   "outputs": [],
   "source": [
    "lkpy_detailed_results = []\n",
    "for args in versions:\n",
    "    file = open(file_location + 'correct_detailed_per_item_'+data_strategy + \"_\" + str(args) + \".pkl\", \"rb\")\n",
    "    result = pkl.load(file)\n",
    "    lkpy_detailed_results.append(result)"
   ]
  },
  {
   "cell_type": "markdown",
   "id": "7382a2f4",
   "metadata": {},
   "source": [
    "## Cornac"
   ]
  },
  {
   "cell_type": "code",
   "execution_count": 132,
   "id": "0801dc1e-fea0-43e3-889c-e8f9c0aabe6b",
   "metadata": {},
   "outputs": [],
   "source": [
    "algo_versions = {\n",
    "    \"CornacUserKNN\": [{\"center\": True}],\n",
    "}\n",
    "algo_name = \"CornacUserKNN\""
   ]
  },
  {
   "cell_type": "code",
   "execution_count": 133,
   "id": "13fd52cf",
   "metadata": {},
   "outputs": [],
   "source": [
    "versions = algo_versions[algo_name]"
   ]
  },
  {
   "cell_type": "code",
   "execution_count": 134,
   "id": "1a7006f9",
   "metadata": {},
   "outputs": [],
   "source": [
    "file_location = \"experimental_results/\" + algo_name + \"/\""
   ]
  },
  {
   "cell_type": "code",
   "execution_count": 135,
   "id": "3fac767e",
   "metadata": {},
   "outputs": [],
   "source": [
    "results = []\n",
    "for args in versions:\n",
    "    file = open(file_location + data_strategy + \"_\" + str(args) + \".pkl\", \"rb\")\n",
    "    result = pkl.load(file)\n",
    "    results.append(result)"
   ]
  },
  {
   "cell_type": "code",
   "execution_count": 136,
   "id": "8a1050c9",
   "metadata": {},
   "outputs": [],
   "source": [
    "stringed_versions = [str(args) for args in versions]"
   ]
  },
  {
   "cell_type": "code",
   "execution_count": 137,
   "id": "f64e5f46",
   "metadata": {},
   "outputs": [],
   "source": [
    "# Initialize empty lists for the two halves\n",
    "min_nbrs = []\n",
    "min_sim = []\n",
    "# Split the strings and populate the lists\n",
    "for s in stringed_versions:\n",
    "    parts = s.split(\": \")\n",
    "    min_nbrs.append(parts[-1].split(\"}\")[0])\n",
    "    min_sim.append(\"-1\")"
   ]
  },
  {
   "cell_type": "code",
   "execution_count": 138,
   "id": "6fcdc020",
   "metadata": {},
   "outputs": [],
   "source": [
    "over_common = [\"True\"]"
   ]
  },
  {
   "cell_type": "code",
   "execution_count": 139,
   "id": "dc707b7c",
   "metadata": {},
   "outputs": [],
   "source": [
    "index = pd.MultiIndex.from_product(\n",
    "    [min_sim, min_nbrs, over_common],\n",
    "    names=[\"MinimumSimilarity\", \"MinimumNeighbours\", \"OverCommon\"],\n",
    ").drop_duplicates()"
   ]
  },
  {
   "cell_type": "code",
   "execution_count": 140,
   "id": "d495b94a",
   "metadata": {},
   "outputs": [],
   "source": [
    "results_cornac = pd.DataFrame(results, index=index)"
   ]
  },
  {
   "cell_type": "code",
   "execution_count": 141,
   "id": "77451f34-3825-4b55-9be4-18952f6d23b4",
   "metadata": {},
   "outputs": [],
   "source": [
    "results_cornac.index = results_cornac.index.set_levels(\n",
    "    results_cornac.index.levels[1].str.replace(\"True\", \"1\"), level=1\n",
    ")"
   ]
  },
  {
   "cell_type": "code",
   "execution_count": 142,
   "id": "b649f05a-734c-4f01-9834-27a306271026",
   "metadata": {},
   "outputs": [
    {
     "data": {
      "text/html": [
       "<div>\n",
       "<style scoped>\n",
       "    .dataframe tbody tr th:only-of-type {\n",
       "        vertical-align: middle;\n",
       "    }\n",
       "\n",
       "    .dataframe tbody tr th {\n",
       "        vertical-align: top;\n",
       "    }\n",
       "\n",
       "    .dataframe thead th {\n",
       "        text-align: right;\n",
       "    }\n",
       "</style>\n",
       "<table border=\"1\" class=\"dataframe\">\n",
       "  <thead>\n",
       "    <tr style=\"text-align: right;\">\n",
       "      <th></th>\n",
       "      <th></th>\n",
       "      <th></th>\n",
       "      <th>pop_corr</th>\n",
       "      <th>RMSE</th>\n",
       "      <th>NDCG</th>\n",
       "      <th>ARP</th>\n",
       "      <th>ave_PL</th>\n",
       "      <th>ACLT</th>\n",
       "      <th>AggDiv</th>\n",
       "    </tr>\n",
       "    <tr>\n",
       "      <th>MinimumSimilarity</th>\n",
       "      <th>MinimumNeighbours</th>\n",
       "      <th>OverCommon</th>\n",
       "      <th></th>\n",
       "      <th></th>\n",
       "      <th></th>\n",
       "      <th></th>\n",
       "      <th></th>\n",
       "      <th></th>\n",
       "      <th></th>\n",
       "    </tr>\n",
       "  </thead>\n",
       "  <tbody>\n",
       "    <tr>\n",
       "      <th>-1</th>\n",
       "      <th>1</th>\n",
       "      <th>True</th>\n",
       "      <td>(0.019650605461640824, 1.0504277226394118e-26)</td>\n",
       "      <td>1.153543</td>\n",
       "      <td>0.000028</td>\n",
       "      <td>0.000412</td>\n",
       "      <td>20.7889</td>\n",
       "      <td>3.699153</td>\n",
       "      <td>0.036284</td>\n",
       "    </tr>\n",
       "  </tbody>\n",
       "</table>\n",
       "</div>"
      ],
      "text/plain": [
       "                                                                                      pop_corr  \\\n",
       "MinimumSimilarity MinimumNeighbours OverCommon                                                   \n",
       "-1                1                 True        (0.019650605461640824, 1.0504277226394118e-26)   \n",
       "\n",
       "                                                    RMSE      NDCG       ARP  \\\n",
       "MinimumSimilarity MinimumNeighbours OverCommon                                 \n",
       "-1                1                 True        1.153543  0.000028  0.000412   \n",
       "\n",
       "                                                 ave_PL      ACLT    AggDiv  \n",
       "MinimumSimilarity MinimumNeighbours OverCommon                               \n",
       "-1                1                 True        20.7889  3.699153  0.036284  "
      ]
     },
     "execution_count": 142,
     "metadata": {},
     "output_type": "execute_result"
    }
   ],
   "source": [
    "results_cornac"
   ]
  },
  {
   "cell_type": "code",
   "execution_count": 143,
   "id": "143b9818-2b69-4d3d-a178-86ddda483399",
   "metadata": {},
   "outputs": [],
   "source": [
    "cornac_detailed_results = []\n",
    "for args in versions:\n",
    "    file = open(file_location + 'correct_detailed_per_item_'+data_strategy + \"_\" + str(args) + \".pkl\", \"rb\")\n",
    "    result = pkl.load(file)\n",
    "    cornac_detailed_results.append(result)"
   ]
  },
  {
   "cell_type": "code",
   "execution_count": 144,
   "id": "dc3f8ea3-3579-46d6-a183-b5a642e8b72f",
   "metadata": {},
   "outputs": [
    {
     "data": {
      "text/plain": [
       "[{'center': True}]"
      ]
     },
     "execution_count": 144,
     "metadata": {},
     "output_type": "execute_result"
    }
   ],
   "source": [
    "versions"
   ]
  },
  {
   "cell_type": "markdown",
   "id": "959cae8a",
   "metadata": {},
   "source": [
    "# Merge"
   ]
  },
  {
   "cell_type": "code",
   "execution_count": 145,
   "id": "29bc40a1-9934-4884-ba07-fb17addb278f",
   "metadata": {},
   "outputs": [],
   "source": [
    "user_knn_metrics = (\n",
    "    pd.concat([results_lkpy, results_cornac])\n",
    "    .reset_index()\n",
    "    .sort_values([\"MinimumSimilarity\", \"OverCommon\", \"MinimumNeighbours\"])\n",
    "    .set_index([\"MinimumSimilarity\", \"OverCommon\", \"MinimumNeighbours\"])\n",
    ")"
   ]
  },
  {
   "cell_type": "code",
   "execution_count": 146,
   "id": "f1bcee80-df21-450a-8e4b-9ab2cbdbff4d",
   "metadata": {},
   "outputs": [],
   "source": [
    "metrics_order = [\"pop_corr\", \"ARP\", \"ave_PL\", \"ACLT\", \"AggDiv\", \"RMSE\", \"NDCG\"]\n",
    "user_knn_metrics = user_knn_metrics[metrics_order]"
   ]
  },
  {
   "cell_type": "code",
   "execution_count": 147,
   "id": "6b0e18bf-8d16-4bb8-ab9d-6d3f1d98f758",
   "metadata": {},
   "outputs": [],
   "source": [
    "user_knn_metrics = user_knn_metrics.rename(\n",
    "    columns={\"pop_corr\": \"PopCorr\", \"ave_PL\": \"PL\", \"ACLT\": \"APLT\", \"NDCG\": \"NDCG@10\"}\n",
    ").reindex([\"1\", \"2\", \"5\", \"10\"], level=2)"
   ]
  },
  {
   "cell_type": "code",
   "execution_count": 148,
   "id": "71fde9b7-f55d-4522-a26d-c35fd370e0b1",
   "metadata": {},
   "outputs": [],
   "source": [
    "user_knn_metrics['RealPopCorr'] = user_knn_metrics.PopCorr.apply(lambda x: x[0])\n",
    "user_knn_metrics['Significance'] = user_knn_metrics.PopCorr.apply(lambda x: True if x[1]<0.005 else False)\n",
    "user_knn_metrics['PopCorr'] = user_knn_metrics.RealPopCorr \n",
    "user_knn_metrics = user_knn_metrics.drop('RealPopCorr', axis=1)"
   ]
  },
  {
   "cell_type": "code",
   "execution_count": 149,
   "id": "7ab93ab3-6368-40bb-9c70-7d1a0395ca25",
   "metadata": {},
   "outputs": [
    {
     "data": {
      "text/html": [
       "<div>\n",
       "<style scoped>\n",
       "    .dataframe tbody tr th:only-of-type {\n",
       "        vertical-align: middle;\n",
       "    }\n",
       "\n",
       "    .dataframe tbody tr th {\n",
       "        vertical-align: top;\n",
       "    }\n",
       "\n",
       "    .dataframe thead th {\n",
       "        text-align: right;\n",
       "    }\n",
       "</style>\n",
       "<table border=\"1\" class=\"dataframe\">\n",
       "  <thead>\n",
       "    <tr style=\"text-align: right;\">\n",
       "      <th></th>\n",
       "      <th></th>\n",
       "      <th></th>\n",
       "      <th>PopCorr</th>\n",
       "      <th>ARP</th>\n",
       "      <th>PL</th>\n",
       "      <th>APLT</th>\n",
       "      <th>AggDiv</th>\n",
       "      <th>RMSE</th>\n",
       "      <th>NDCG@10</th>\n",
       "      <th>Significance</th>\n",
       "    </tr>\n",
       "    <tr>\n",
       "      <th>MinimumSimilarity</th>\n",
       "      <th>OverCommon</th>\n",
       "      <th>MinimumNeighbours</th>\n",
       "      <th></th>\n",
       "      <th></th>\n",
       "      <th></th>\n",
       "      <th></th>\n",
       "      <th></th>\n",
       "      <th></th>\n",
       "      <th></th>\n",
       "      <th></th>\n",
       "    </tr>\n",
       "  </thead>\n",
       "  <tbody>\n",
       "    <tr>\n",
       "      <th rowspan=\"3\" valign=\"top\">-1</th>\n",
       "      <th rowspan=\"2\" valign=\"top\">False</th>\n",
       "      <th>1</th>\n",
       "      <td>0.023096</td>\n",
       "      <td>0.000462</td>\n",
       "      <td>36.538499</td>\n",
       "      <td>3.243510</td>\n",
       "      <td>0.032338</td>\n",
       "      <td>1.212000</td>\n",
       "      <td>0.000036</td>\n",
       "      <td>True</td>\n",
       "    </tr>\n",
       "    <tr>\n",
       "      <th>2</th>\n",
       "      <td>0.172962</td>\n",
       "      <td>0.001141</td>\n",
       "      <td>176.223702</td>\n",
       "      <td>0.000000</td>\n",
       "      <td>0.054999</td>\n",
       "      <td>1.168000</td>\n",
       "      <td>0.000261</td>\n",
       "      <td>True</td>\n",
       "    </tr>\n",
       "    <tr>\n",
       "      <th>True</th>\n",
       "      <th>1</th>\n",
       "      <td>0.019651</td>\n",
       "      <td>0.000412</td>\n",
       "      <td>20.788900</td>\n",
       "      <td>3.699153</td>\n",
       "      <td>0.036284</td>\n",
       "      <td>1.153543</td>\n",
       "      <td>0.000028</td>\n",
       "      <td>True</td>\n",
       "    </tr>\n",
       "    <tr>\n",
       "      <th rowspan=\"2\" valign=\"top\">0</th>\n",
       "      <th rowspan=\"2\" valign=\"top\">False</th>\n",
       "      <th>1</th>\n",
       "      <td>0.043194</td>\n",
       "      <td>0.000645</td>\n",
       "      <td>65.526848</td>\n",
       "      <td>1.488664</td>\n",
       "      <td>0.039699</td>\n",
       "      <td>1.148000</td>\n",
       "      <td>0.000248</td>\n",
       "      <td>True</td>\n",
       "    </tr>\n",
       "    <tr>\n",
       "      <th>2</th>\n",
       "      <td>0.153166</td>\n",
       "      <td>0.001322</td>\n",
       "      <td>165.929066</td>\n",
       "      <td>0.000000</td>\n",
       "      <td>0.047412</td>\n",
       "      <td>1.108000</td>\n",
       "      <td>0.000502</td>\n",
       "      <td>True</td>\n",
       "    </tr>\n",
       "  </tbody>\n",
       "</table>\n",
       "</div>"
      ],
      "text/plain": [
       "                                                 PopCorr       ARP  \\\n",
       "MinimumSimilarity OverCommon MinimumNeighbours                       \n",
       "-1                False      1                  0.023096  0.000462   \n",
       "                             2                  0.172962  0.001141   \n",
       "                  True       1                  0.019651  0.000412   \n",
       "0                 False      1                  0.043194  0.000645   \n",
       "                             2                  0.153166  0.001322   \n",
       "\n",
       "                                                        PL      APLT  \\\n",
       "MinimumSimilarity OverCommon MinimumNeighbours                         \n",
       "-1                False      1                   36.538499  3.243510   \n",
       "                             2                  176.223702  0.000000   \n",
       "                  True       1                   20.788900  3.699153   \n",
       "0                 False      1                   65.526848  1.488664   \n",
       "                             2                  165.929066  0.000000   \n",
       "\n",
       "                                                  AggDiv      RMSE   NDCG@10  \\\n",
       "MinimumSimilarity OverCommon MinimumNeighbours                                 \n",
       "-1                False      1                  0.032338  1.212000  0.000036   \n",
       "                             2                  0.054999  1.168000  0.000261   \n",
       "                  True       1                  0.036284  1.153543  0.000028   \n",
       "0                 False      1                  0.039699  1.148000  0.000248   \n",
       "                             2                  0.047412  1.108000  0.000502   \n",
       "\n",
       "                                                Significance  \n",
       "MinimumSimilarity OverCommon MinimumNeighbours                \n",
       "-1                False      1                          True  \n",
       "                             2                          True  \n",
       "                  True       1                          True  \n",
       "0                 False      1                          True  \n",
       "                             2                          True  "
      ]
     },
     "execution_count": 149,
     "metadata": {},
     "output_type": "execute_result"
    }
   ],
   "source": [
    "user_knn_metrics"
   ]
  },
  {
   "cell_type": "code",
   "execution_count": 150,
   "id": "c06eadb3",
   "metadata": {},
   "outputs": [
    {
     "name": "stdout",
     "output_type": "stream",
     "text": [
      "\\begin{tabular}{lllrrrrrr}\n",
      "\\toprule\n",
      "  &       &   &  PopCorr &    ARP &       PL &  AggDiv &   RMSE &  NDCG@10 \\\\\n",
      "MinimumSimilarity & OverCommon & MinimumNeighbours &          &        &          &         &        &          \\\\\n",
      "\\midrule\n",
      "-1 & False & 1 &    0.023 &  0.000 &   36.538 &   0.032 &  1.212 &    0.000 \\\\\n",
      "  &       & 2 &    0.173 &  0.001 &  176.224 &   0.055 &  1.168 &    0.000 \\\\\n",
      "  & True & 1 &    0.020 &  0.000 &   20.789 &   0.036 &  1.154 &    0.000 \\\\\n",
      "0 & False & 1 &    0.043 &  0.001 &   65.527 &   0.040 &  1.148 &    0.000 \\\\\n",
      "  &       & 2 &    0.153 &  0.001 &  165.929 &   0.047 &  1.108 &    0.001 \\\\\n",
      "\\bottomrule\n",
      "\\end{tabular}\n",
      "\n"
     ]
    }
   ],
   "source": [
    "print(user_knn_metrics.drop(['APLT','Significance'], axis=1).round(3).to_latex())"
   ]
  },
  {
   "cell_type": "code",
   "execution_count": 151,
   "id": "220d8360-e5cc-4b73-8f5f-abde14855dcc",
   "metadata": {
    "scrolled": true
   },
   "outputs": [],
   "source": [
    "import pickle\n",
    "\n",
    "with open(\"metrics_combined/\"+data_strategy+\"_all_user_knn.pkl\", \"wb\") as f:\n",
    "    pickle.dump(user_knn_metrics.round(3), f)"
   ]
  },
  {
   "cell_type": "code",
   "execution_count": null,
   "id": "8d437d75-28b9-4f60-b70e-fdc74080b20a",
   "metadata": {},
   "outputs": [],
   "source": []
  },
  {
   "cell_type": "markdown",
   "id": "f02b378d-066c-4088-b483-04009560d76e",
   "metadata": {},
   "source": [
    "# Significance tests"
   ]
  },
  {
   "cell_type": "markdown",
   "id": "28351317-7246-46fc-b101-2b31ed15006e",
   "metadata": {},
   "source": [
    "## 1. Average Recommendation Popularity\n",
    "recommendation values"
   ]
  },
  {
   "cell_type": "code",
   "execution_count": 152,
   "id": "2d62f943-c957-40e1-8694-8c38e0923beb",
   "metadata": {},
   "outputs": [],
   "source": [
    "mf_results = cornac_detailed_results+lkpy_detailed_results"
   ]
  },
  {
   "cell_type": "code",
   "execution_count": 158,
   "id": "f095a738-692c-4c5b-8e3a-e2b50856bf48",
   "metadata": {},
   "outputs": [],
   "source": [
    "def highest_average(df_list, column_name = 'recommendation'):\n",
    "    highest_average = -10^6\n",
    "    highest_i = -1\n",
    "    for i in range(len(df_list)):\n",
    "        df = df_list[i]\n",
    "        mean = np.mean(df[column_name].values)\n",
    "        print('mean', mean)\n",
    "        if mean > highest_average:\n",
    "            highest_average = mean\n",
    "            highest_i = i\n",
    "    print(highest_average, highest_i)\n",
    "    return highest_average, highest_i"
   ]
  },
  {
   "cell_type": "code",
   "execution_count": 159,
   "id": "a89a839b-3e60-44d2-b7be-869ad417dbb3",
   "metadata": {},
   "outputs": [],
   "source": [
    "def mannwhitneyu_test(df_list, alt = 'greater', column_name = 'recommendation'):\n",
    "    # find the highest average \n",
    "    ha, hi = highest_average(df_list, column_name)\n",
    "    inds_df_list = list(range(len(df_list)))\n",
    "    to_test_inds = inds_df_list[:hi] + inds_df_list[hi+1:]\n",
    "    print(to_test_inds)\n",
    "    df1 = df_list[hi]\n",
    "    pvalues = []\n",
    "    for ind in to_test_inds:\n",
    "        df2 = df_list[ind]\n",
    "        x = df1[column_name].values\n",
    "        y = df2[column_name].values\n",
    "        pvalue = mannwhitneyu(x,y, alternative = alt)[1]\n",
    "        pvalues.append(pvalue)\n",
    "    return pvalues # pvalues for all comparisons"
   ]
  },
  {
   "cell_type": "code",
   "execution_count": 160,
   "id": "1edebc27-cb4d-4562-b2ab-cee7df310346",
   "metadata": {},
   "outputs": [
    {
     "name": "stdout",
     "output_type": "stream",
     "text": [
      "mean 0.000412353394733847\n",
      "mean 0.0006446839513334677\n",
      "mean 0.0013219377475777593\n",
      "mean 0.0004624228343330949\n",
      "mean 0.00114118929231133\n",
      "0.0013219377475777593 2\n",
      "[0, 1, 3, 4]\n"
     ]
    },
    {
     "data": {
      "text/plain": [
       "[0.0, 0.0, 0.0, 5.27329056084729e-285]"
      ]
     },
     "execution_count": 160,
     "metadata": {},
     "output_type": "execute_result"
    }
   ],
   "source": [
    "mannwhitneyu_test(mf_results) "
   ]
  },
  {
   "cell_type": "markdown",
   "id": "eda30653-987d-4635-a54a-b056d93a715c",
   "metadata": {},
   "source": [
    "## 2. Popularity Lift"
   ]
  },
  {
   "cell_type": "code",
   "execution_count": 161,
   "id": "f7b29e75-0cdd-4320-9edb-ba3c14e98d84",
   "metadata": {},
   "outputs": [],
   "source": [
    "for df in mf_results:\n",
    "    df['popularity_lift'] = (df['recommendation']-df['profile'])/df['profile']*100"
   ]
  },
  {
   "cell_type": "code",
   "execution_count": 162,
   "id": "ae90a0d4-a1cb-468c-b279-6e7f7c21484f",
   "metadata": {},
   "outputs": [
    {
     "name": "stdout",
     "output_type": "stream",
     "text": [
      "mean 20.78888848955298\n",
      "mean 65.52538953014442\n",
      "mean 165.9233399385714\n",
      "mean 36.53551366046039\n",
      "mean 176.2273062118962\n",
      "176.2273062118962 4\n",
      "[0, 1, 2, 3]\n"
     ]
    },
    {
     "data": {
      "text/plain": [
       "[0.0, 1.1990665840226018e-152, 1.0, 0.0]"
      ]
     },
     "execution_count": 162,
     "metadata": {},
     "output_type": "execute_result"
    }
   ],
   "source": [
    "mannwhitneyu_test(mf_results, column_name = 'popularity_lift') "
   ]
  },
  {
   "cell_type": "code",
   "execution_count": null,
   "id": "2886a1ba-a0de-43b5-a109-118c73cde331",
   "metadata": {},
   "outputs": [],
   "source": []
  }
 ],
 "metadata": {
  "kernelspec": {
   "display_name": "Python 3 (ipykernel)",
   "language": "python",
   "name": "python3"
  },
  "language_info": {
   "codemirror_mode": {
    "name": "ipython",
    "version": 3
   },
   "file_extension": ".py",
   "mimetype": "text/x-python",
   "name": "python",
   "nbconvert_exporter": "python",
   "pygments_lexer": "ipython3",
   "version": "3.8.18"
  },
  "vscode": {
   "interpreter": {
    "hash": "1c3278b04384a1f2d1b0bc3e8783905713abb1db8d84b3b69ddff13fab40f022"
   }
  },
  "widgets": {
   "application/vnd.jupyter.widget-state+json": {
    "state": {},
    "version_major": 2,
    "version_minor": 0
   }
  }
 },
 "nbformat": 4,
 "nbformat_minor": 5
}
