{
 "cells": [
  {
   "cell_type": "code",
   "execution_count": 1,
   "id": "08c92fef-e99f-4d4b-ba0b-fd2d2b93e1a1",
   "metadata": {},
   "outputs": [
    {
     "name": "stdout",
     "output_type": "stream",
     "text": [
      "env: MKL_THREADING_LAYER=tbb\n",
      "env: OPENBLAS_NUM_THREADS=24\n",
      "env: NUMBA_NUM_THREADS=96\n",
      "env: MKL_NUM_THREADS=96\n",
      "env: OMP_NUM_THREADS=1\n"
     ]
    }
   ],
   "source": [
    "%env MKL_THREADING_LAYER=tbb\n",
    "%env OPENBLAS_NUM_THREADS=24\n",
    "%env NUMBA_NUM_THREADS=96\n",
    "%env MKL_NUM_THREADS=96\n",
    "%env OMP_NUM_THREADS=1"
   ]
  },
  {
   "cell_type": "code",
   "execution_count": 2,
   "id": "0fe55703-473d-4072-88cf-304f10fe63fb",
   "metadata": {},
   "outputs": [],
   "source": [
    "import os\n",
    "\n",
    "os.environ[\"MKL_THREADING_LAYER\"] = \"tbb\"\n",
    "os.environ[\"OPENBLAS_NUM_THREADS\"] = \"24\"\n",
    "os.environ[\"NUMBA_NUM_THREADS\"] = \"96\"\n",
    "os.environ[\"MKL_NUM_THREADS\"] = \"96\"\n",
    "os.environ[\"OMP_NUM_THREADS\"] = \"1\"\n",
    "# os.environ['TF_CPP_MIN_LOG_LEVEL'] = '1'\n",
    "# for random generation\n",
    "\n",
    "\n",
    "# basic functions\n",
    "import pandas as pd\n",
    "\n",
    "pd.options.display.max_rows = 100\n",
    "import pickle\n",
    "import scipy\n",
    "\n",
    "# custom-made functions\n",
    "import modelling_mf\n",
    "from optimize_hp import optimize_lkpy, optimize_cornac\n",
    "\n",
    "# lenskit RS library\n",
    "from lenskit.algorithms import als\n",
    "\n",
    "\n",
    "# cornac RS library\n",
    "from cornac.models import MF\n",
    "\n",
    "\n",
    "# cornac RS library\n",
    "import cornac\n",
    "from cornac.eval_methods import BaseMethod\n",
    "from cornac.metrics import RMSE\n",
    "\n",
    "\n",
    "# lenskit RS library\n",
    "from lenskit import crossfold as xf\n",
    "from lenskit.algorithms import Recommender, basic\n",
    "from lenskit import util, batch, topn\n",
    "from lenskit.metrics.predict import rmse"
   ]
  },
  {
   "cell_type": "code",
   "execution_count": 3,
   "id": "69bef391-7ca4-4641-ae04-e5d935ef9039",
   "metadata": {},
   "outputs": [],
   "source": [
    "data = \"ml1m\"\n",
    "# user-item interactions\n",
    "ml1m_ratings = pd.read_csv(\n",
    "    \"data/\" + data + \"_events.dat\", header=None, sep=\"::\", engine=\"python\"\n",
    ").drop(3, axis=1)\n",
    "ml1m_ratings.columns = [\"user\", \"item\", \"rating\"]"
   ]
  },
  {
   "cell_type": "code",
   "execution_count": 4,
   "id": "68aaa4d4-c8de-43b4-92f2-58a4dfe0611e",
   "metadata": {},
   "outputs": [],
   "source": [
    "ratings = ml1m_ratings.copy()\n",
    "ratings = ratings.drop_duplicates(subset=[\"user\", \"item\"], keep=\"last\")\n",
    "data_strategy = \"ml1m\""
   ]
  },
  {
   "cell_type": "code",
   "execution_count": 5,
   "id": "40ecd5b6-c54d-4a8a-9834-95f924e6364c",
   "metadata": {},
   "outputs": [],
   "source": [
    "user_col = \"user\"  # the name of the column that includes the users\n",
    "item_col = \"item\"  # the name of the column that includes the items\n",
    "predict_col = \"rating\"  # the name of the column that includes the interaction"
   ]
  },
  {
   "cell_type": "code",
   "execution_count": 6,
   "id": "ecdac918-e31d-43e4-bf41-6802ec95bdab",
   "metadata": {},
   "outputs": [],
   "source": [
    "evaluation_way = \"cross_validation\"\n",
    "verbose = True\n",
    "plot = True\n",
    "save_plot = True  # save the plots\n",
    "fallback = False\n",
    "nr_recs = 10\n",
    "sampling_strategy = \"frac\"\n",
    "partition_way = \"user\""
   ]
  },
  {
   "cell_type": "code",
   "execution_count": 7,
   "id": "c0ad3186-35ec-453c-8af5-4ec7bdca8099",
   "metadata": {},
   "outputs": [],
   "source": [
    "mapping_dict = {}  # Create a dictionary that maps each item to an integer - necessary for Cornac.\n",
    "i = 0\n",
    "for mov in ratings[item_col].unique():\n",
    "    mapping_dict[mov] = i\n",
    "    i += 1\n",
    "ratings[item_col] = ratings[item_col].map(\n",
    "    lambda x: mapping_dict.get(x, x)\n",
    ")  # Map in the ratings file"
   ]
  },
  {
   "cell_type": "code",
   "execution_count": 8,
   "id": "d09abcdb-4100-4742-b235-74ba3654b162",
   "metadata": {},
   "outputs": [],
   "source": [
    "algo_versions = {\"CornacMF\": [{\"bias\": True}, {\"bias\": False}]}"
   ]
  },
  {
   "cell_type": "code",
   "execution_count": 9,
   "id": "4c4a09b0-61fb-4737-9343-192777dd40eb",
   "metadata": {},
   "outputs": [],
   "source": [
    "algorithm_cornac = MF\n",
    "algo_name = \"CornacMF\"\n",
    "versions = algo_versions[algo_name]"
   ]
  },
  {
   "cell_type": "code",
   "execution_count": 10,
   "id": "7fb2f435-224d-43b0-9d31-5552c646eeec",
   "metadata": {},
   "outputs": [
    {
     "name": "stdout",
     "output_type": "stream",
     "text": [
      "ml1m {'bias': True}\n",
      "We got them already\n"
     ]
    }
   ],
   "source": [
    "args = versions[0]\n",
    "print(data_strategy, args)\n",
    "\n",
    "p = \"best_parameters/\" + algo_name + \"/\" + data_strategy + \"_\" + str(args) + \".pkl\"\n",
    "if os.path.isfile(p):\n",
    "    print(\"We got them already\")\n",
    "    with open(p, \"rb\") as f:\n",
    "        best_params = pickle.load(f)\n",
    "optimal_k = best_params[\"k\"]\n",
    "optimal_reg = best_params[\"lambda_reg\"]\n",
    "optimal_lr = best_params[\"learning_rate\"]\n",
    "algorithm=algorithm_cornac(\n",
    "            k=optimal_k,\n",
    "            use_bias=args[\"bias\"],\n",
    "            lambda_reg=optimal_reg,\n",
    "            learning_rate=optimal_lr)\n",
    "n=nr_recs\n",
    "\n",
    "\n",
    "# MODELING\n",
    "\n",
    "all_items = set(ratings.item.unique())\n",
    "\n",
    "if partition_way == \"user\":\n",
    "    if sampling_strategy == \"frac\":\n",
    "        sample = xf.SampleFrac(0.2, rng_spec=0)\n",
    "    elif sampling_strategy == \"N\":\n",
    "        sample = xf.SampleN(5, rng_spec=0)\n",
    "    sets = [\n",
    "        i for i in enumerate(xf.partition_users(ratings, 5, sample, rng_spec=0))\n",
    "    ]\n",
    "elif partition_way == \"row\":\n",
    "    sets = [i for i in enumerate(xf.partition_rows(ratings, 5, rng_spec=0))]"
   ]
  },
  {
   "cell_type": "markdown",
   "id": "ca155f2f-2d5a-4cf1-80cf-e1ff00a17a43",
   "metadata": {},
   "source": [
    "# Test!"
   ]
  },
  {
   "cell_type": "code",
   "execution_count": 11,
   "id": "9f5d566f-a2d6-4c67-90b9-9449e9e42f17",
   "metadata": {},
   "outputs": [],
   "source": [
    "i, tp = sets[2]"
   ]
  },
  {
   "cell_type": "code",
   "execution_count": 12,
   "id": "1bf20f7f-cfdc-46a1-b066-3e179a25e79c",
   "metadata": {},
   "outputs": [
    {
     "name": "stdout",
     "output_type": "stream",
     "text": [
      "rating_threshold = 1.0\n",
      "exclude_unknowns = False\n",
      "---\n",
      "Training data:\n",
      "Number of users = 6040\n",
      "Number of items = 3703\n",
      "Number of ratings = 961956\n",
      "Max rating = 5.0\n",
      "Min rating = 1.0\n",
      "Global mean = 3.6\n",
      "---\n",
      "Test data:\n",
      "Number of users = 1208\n",
      "Number of items = 2994\n",
      "Number of ratings = 38253\n",
      "Number of unknown users = 0\n",
      "Number of unknown items = 3\n",
      "---\n",
      "Total users = 6040\n",
      "Total items = 3706\n"
     ]
    }
   ],
   "source": [
    "train_df = tp[0]\n",
    "test_df = tp[1]\n",
    "eval_method = BaseMethod.from_splits(\n",
    "    train_data=list(\n",
    "        train_df[[\"user\", \"item\", \"rating\"]].to_records(index=False)\n",
    "    ),\n",
    "    test_data=list(\n",
    "        test_df[[\"user\", \"item\", \"rating\"]].to_records(index=False)\n",
    "    ),\n",
    "    exclude_unknowns=False,\n",
    "    verbose=verbose,\n",
    ")"
   ]
  },
  {
   "cell_type": "code",
   "execution_count": 13,
   "id": "b1206658-7a2b-4003-9788-d5cb980312e4",
   "metadata": {},
   "outputs": [],
   "source": [
    "models = [algorithm]\n",
    "metrics = [RMSE()]\n",
    "exp = cornac.Experiment(\n",
    "    eval_method=eval_method,\n",
    "    models=models,\n",
    "    metrics=metrics,\n",
    "    user_based=False,\n",
    "    save_dir=\"cornacLogs\",\n",
    "    verbose=verbose,\n",
    ")"
   ]
  },
  {
   "cell_type": "code",
   "execution_count": 14,
   "id": "f9f98b9f-ea32-41d2-a566-b57c0e18fc9e",
   "metadata": {},
   "outputs": [
    {
     "name": "stdout",
     "output_type": "stream",
     "text": [
      "\n",
      "[MF] Training started!\n",
      "\n",
      "[MF] Evaluation started!\n"
     ]
    },
    {
     "data": {
      "application/vnd.jupyter.widget-view+json": {
       "model_id": "d8b9188f8a2d49e8b9e235c724f7cdc7",
       "version_major": 2,
       "version_minor": 0
      },
      "text/plain": [
       "Rating:   0%|          | 0/38253 [00:00<?, ?it/s]"
      ]
     },
     "metadata": {},
     "output_type": "display_data"
    },
    {
     "name": "stdout",
     "output_type": "stream",
     "text": [
      "\n",
      "TEST:\n",
      "...\n",
      "   |   RMSE | Train (s) | Test (s)\n",
      "-- + ------ + --------- + --------\n",
      "MF | 0.8617 |    0.9496 |   0.7394\n",
      "\n"
     ]
    }
   ],
   "source": [
    "exp.run()"
   ]
  },
  {
   "cell_type": "code",
   "execution_count": 15,
   "id": "7b110029-d0bd-4046-971f-e7554697e3a0",
   "metadata": {},
   "outputs": [],
   "source": [
    "loss = exp.result[0].metric_avg_results[\"RMSE\"]"
   ]
  },
  {
   "cell_type": "code",
   "execution_count": 16,
   "id": "1da7e3c0-ae68-4f1e-8589-0ed55dc3b2a4",
   "metadata": {},
   "outputs": [],
   "source": [
    "test_users = test_df.user.unique()  # the users in the test set\n",
    "recs, stdev_20 = modelling_mf.recommend_cornac(\n",
    "                exp=exp, all_items=all_items, user_col=user_col, item_col=item_col, n=n\n",
    "            )\n",
    "recs_grouped = recs.groupby([user_col])[item_col].apply(list)\n"
   ]
  },
  {
   "cell_type": "code",
   "execution_count": 17,
   "id": "e3f1c03c-4de3-42a1-8e6c-de51bf557833",
   "metadata": {},
   "outputs": [],
   "source": [
    "precision, recall, ndcg = modelling_mf.calculate_topn_metrics(recs, test_df)\n",
    "pop_bias = modelling_mf.calculate_pop_bias_per_item(\n",
    "                all_items, item_col, user_col, predict_col, train_df, recs\n",
    "            )"
   ]
  },
  {
   "cell_type": "code",
   "execution_count": 18,
   "id": "12bca71d-7913-4cb2-806d-e4193fbe1d2f",
   "metadata": {},
   "outputs": [],
   "source": [
    "GAP_vs_GAP = modelling_mf.calculate_ave_pop_per_user(\n",
    "                test_users, item_col, user_col, pop_bias, train_df, recs_grouped\n",
    "            )"
   ]
  },
  {
   "cell_type": "code",
   "execution_count": 19,
   "id": "0520753d-3078-4944-8cd6-529a200d1d5c",
   "metadata": {},
   "outputs": [
    {
     "name": "stdout",
     "output_type": "stream",
     "text": [
      "nr of longtail 2717\n",
      "2.2491721854304636\n"
     ]
    }
   ],
   "source": [
    "ARP, ave_PL, ACLT = modelling_mf.calculate_all_pb_metrics(\n",
    "                pop_bias, test_users, item_col, user_col, train_df, recs_grouped, recs\n",
    "            )"
   ]
  }
 ],
 "metadata": {
  "kernelspec": {
   "display_name": "Python 3 (ipykernel)",
   "language": "python",
   "name": "python3"
  },
  "language_info": {
   "codemirror_mode": {
    "name": "ipython",
    "version": 3
   },
   "file_extension": ".py",
   "mimetype": "text/x-python",
   "name": "python",
   "nbconvert_exporter": "python",
   "pygments_lexer": "ipython3",
   "version": "3.8.18"
  },
  "widgets": {
   "application/vnd.jupyter.widget-state+json": {
    "state": {
     "028c94197bf945f5b890c922fa8caf0f": {
      "model_module": "@jupyter-widgets/controls",
      "model_module_version": "2.0.0",
      "model_name": "HTMLStyleModel",
      "state": {
       "description_width": "",
       "font_size": null,
       "text_color": null
      }
     },
     "392a99cf2cb44012aede0f9c90df8d9e": {
      "model_module": "@jupyter-widgets/base",
      "model_module_version": "2.0.0",
      "model_name": "LayoutModel",
      "state": {}
     },
     "3ea7ccecb3f447328149228063afece0": {
      "model_module": "@jupyter-widgets/base",
      "model_module_version": "2.0.0",
      "model_name": "LayoutModel",
      "state": {}
     },
     "7c4378780be24fa795e6ab2de4b6980f": {
      "model_module": "@jupyter-widgets/base",
      "model_module_version": "2.0.0",
      "model_name": "LayoutModel",
      "state": {}
     },
     "90288a6660ba42a29dafbc300e3d7619": {
      "model_module": "@jupyter-widgets/controls",
      "model_module_version": "2.0.0",
      "model_name": "ProgressStyleModel",
      "state": {
       "description_width": ""
      }
     },
     "91ac077eb1e642958f56bd60e191b491": {
      "model_module": "@jupyter-widgets/controls",
      "model_module_version": "2.0.0",
      "model_name": "HTMLStyleModel",
      "state": {
       "description_width": "",
       "font_size": null,
       "text_color": null
      }
     },
     "97fbf68085384941b5f096d45d3bcdb9": {
      "model_module": "@jupyter-widgets/controls",
      "model_module_version": "2.0.0",
      "model_name": "FloatProgressModel",
      "state": {
       "bar_style": "success",
       "layout": "IPY_MODEL_392a99cf2cb44012aede0f9c90df8d9e",
       "max": 38253,
       "style": "IPY_MODEL_90288a6660ba42a29dafbc300e3d7619",
       "value": 38253
      }
     },
     "9da844463d954076b45dfcb5f696d341": {
      "model_module": "@jupyter-widgets/controls",
      "model_module_version": "2.0.0",
      "model_name": "HTMLModel",
      "state": {
       "layout": "IPY_MODEL_3ea7ccecb3f447328149228063afece0",
       "style": "IPY_MODEL_91ac077eb1e642958f56bd60e191b491",
       "value": " 38253/38253 [00:00&lt;00:00, 49181.85it/s]"
      }
     },
     "a3ac293bbbb146e996d931213796ac23": {
      "model_module": "@jupyter-widgets/controls",
      "model_module_version": "2.0.0",
      "model_name": "HTMLModel",
      "state": {
       "layout": "IPY_MODEL_fe39bdb5c9fd4e7390ed1b47118518b5",
       "style": "IPY_MODEL_028c94197bf945f5b890c922fa8caf0f",
       "value": "Rating: 100%"
      }
     },
     "d8b9188f8a2d49e8b9e235c724f7cdc7": {
      "model_module": "@jupyter-widgets/controls",
      "model_module_version": "2.0.0",
      "model_name": "HBoxModel",
      "state": {
       "children": [
        "IPY_MODEL_a3ac293bbbb146e996d931213796ac23",
        "IPY_MODEL_97fbf68085384941b5f096d45d3bcdb9",
        "IPY_MODEL_9da844463d954076b45dfcb5f696d341"
       ],
       "layout": "IPY_MODEL_7c4378780be24fa795e6ab2de4b6980f"
      }
     },
     "fe39bdb5c9fd4e7390ed1b47118518b5": {
      "model_module": "@jupyter-widgets/base",
      "model_module_version": "2.0.0",
      "model_name": "LayoutModel",
      "state": {}
     }
    },
    "version_major": 2,
    "version_minor": 0
   }
  }
 },
 "nbformat": 4,
 "nbformat_minor": 5
}
